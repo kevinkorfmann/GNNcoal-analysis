{
 "cells": [
  {
   "cell_type": "code",
   "execution_count": null,
   "id": "9bd72996-547e-4dca-bdba-edb33be3417e",
   "metadata": {},
   "outputs": [],
   "source": [
    "import matplotlib.pyplot as plt\n",
    "import msprime\n",
    "import numpy as np\n",
    "from pathlib import Path\n",
    "import random\n",
    "import tskit\n",
    "import os\n",
    "import pandas as pd\n",
    "import seaborn as sns"
   ]
  },
  {
   "cell_type": "code",
   "execution_count": null,
   "id": "cd6d8531-681b-4d18-8be1-456a40b784da",
   "metadata": {},
   "outputs": [],
   "source": []
  },
  {
   "cell_type": "code",
   "execution_count": null,
   "id": "7afdb68f-a664-4fa1-b05c-f6ca69438dda",
   "metadata": {},
   "outputs": [],
   "source": [
    "def get_population_time(time_rate:float=0.06, tmax:int = 130_000,\n",
    "                        num_time_windows:int = 21\n",
    "                       ) -> np.array :\n",
    "    population_time = np.repeat([(np.exp(np.log(1 + time_rate * tmax) * i /\n",
    "                              (num_time_windows - 1)) - 1) / time_rate for i in\n",
    "                              range(num_time_windows)], 1, axis=0)\n",
    "    population_time[0] = 1\n",
    "    return population_time\n",
    "\n",
    "\n",
    "\n",
    "def get_updated_population_timey(steps = 18):\n",
    "    x = np.log(get_population_time(time_rate=0.1, num_time_windows=steps, tmax=10_000_000).tolist())\n",
    "    xnew = np.linspace(x[0], x[-1], num=10000, endpoint=True)\n",
    "    x_sample = xnew[np.linspace(10, 9999, 60).astype(int)]\n",
    "    population_time = np.exp(x_sample)\n",
    "    return population_time\n",
    "\n",
    "population_time = get_updated_population_timey()"
   ]
  },
  {
   "cell_type": "code",
   "execution_count": null,
   "id": "57aa7451-2456-4bdb-bad0-00339278dd0c",
   "metadata": {},
   "outputs": [
    {
     "data": {
      "text/plain": [
       "0"
      ]
     },
     "execution_count": null,
     "metadata": {},
     "output_type": "execute_result"
    }
   ],
   "source": [
    "os.system(\"mkdir vcf\")\n",
    "os.system(\"mkdir trees\")\n",
    "os.system(\"mkdir tcoalmsp\")"
   ]
  },
  {
   "cell_type": "code",
   "execution_count": null,
   "id": "e0c16fb8-bae4-4295-83e9-fc9ea8a30109",
   "metadata": {},
   "outputs": [],
   "source": [
    "vcfdir='./vcf/'\n",
    "tcdir='./tcoalmsp/'\n",
    "tsdir='./trees/'\n",
    "mkdir = \"./sites/\"\n",
    "\n",
    "nrep=1"
   ]
  },
  {
   "cell_type": "code",
   "execution_count": null,
   "id": "7ceee16f-1c10-4f66-b789-82ea3693bc86",
   "metadata": {},
   "outputs": [],
   "source": [
    "population_time = get_updated_population_timey()"
   ]
  },
  {
   "cell_type": "code",
   "execution_count": null,
   "id": "a1b3a8e5-1f95-45e0-a97d-6ed755b45197",
   "metadata": {},
   "outputs": [],
   "source": [
    "def kingman_sawtooth(Ne=10**4, L=10_000_000, sample_size = 10, r = 1e-8, m=1e-7, ploidy = 1):   \n",
    "    \n",
    "    \n",
    "    pref = \"r\" + str(r) + \"m\" + str(m) + \"_\"\n",
    "    alpha = 2.0\n",
    "    demography=msprime.Demography()\n",
    "    demography.add_population(initial_size=(Ne))\n",
    "    demography.add_population_parameters_change(time=20, population=None, growth_rate=6437.7516497364/(4*10**4))\n",
    "    demography.add_population_parameters_change(time=30, growth_rate=-378.691273513906/(4*10**4))\n",
    "    demography.add_population_parameters_change(time=200, growth_rate=-643.77516497364/(4*10**4))\n",
    "    demography.add_population_parameters_change(time=300, growth_rate=37.8691273513906/(4*10**4))\n",
    "    demography.add_population_parameters_change(time=2000, growth_rate=64.377516497364/(4*10**4))\n",
    "    demography.add_population_parameters_change(time=3000, growth_rate=-3.78691273513906/(4*10**4))\n",
    "    demography.add_population_parameters_change(time=20000, growth_rate=-6.4377516497364/(4*10**4))\n",
    "    demography.add_population_parameters_change(time=30000, growth_rate=0.378691273513906/(4*10**4))\n",
    "    demography.add_population_parameters_change(time=200000, growth_rate=0.64377516497364/(4*10**4))\n",
    "    demography.add_population_parameters_change(time=300000, growth_rate=-0.0378691273513906/(4*10**4))\n",
    "    demography.add_population_parameters_change(time=2000000, growth_rate=-0.064377516497364/(4*10**4))\n",
    "    demography.add_population_parameters_change(time=3000000, growth_rate=0.00378691273513906/(4*10**4))\n",
    "    demography.add_population_parameters_change(time=20000000, growth_rate=0, initial_size=Ne)\n",
    "    db = msprime.DemographyDebugger(demography=demography)\n",
    "    tree_sequences = []\n",
    "    \n",
    "    \n",
    "    n = sample_size\n",
    "    \n",
    "    for i in range(10):\n",
    "        \n",
    "        tree_sequence = msprime.sim_ancestry(samples=sample_size, recombination_rate=r,sequence_length=L, demography=demography,ploidy=1,random_seed=((alpha*i+1)**2))\n",
    "        tree_sequence = msprime.mutate(tree_sequence, rate=m)\n",
    "        \n",
    "        vcffh = open(vcfdir+'kigman_sim_'+pref+str(i)+'.vcf', 'w')\n",
    "        tree_sequence.write_vcf(vcffh, position_transform='legacy', individual_names=['spl'+str(s) for s in range(int(n))])\n",
    "        vcffh.close()\n",
    "        \n",
    "        tsfile = tsdir+'sim_'+pref+str(i)+'.trees'\n",
    "        tree_sequence.dump(tsfile)\n",
    "        for s1 in range(0, n-1):\n",
    "            for s2 in range(s1+1, n):\n",
    "                coaltimefh = open(tcdir+'/kingman_sim_'+pref + str(i)+'_spls'+str(s1)+'-'+str(s2)+'.tc', 'w')\n",
    "                for tree in tree_sequence.trees(): \n",
    "                    treeInterval = tree.get_interval() # length of sequence that this tree spans\n",
    "                    coalescence_time = tree.tmrca(s1,s2)\n",
    "                    print(treeInterval[0], treeInterval[1], coalescence_time, sep = \"\\t\", file = coaltimefh)\n",
    "                coaltimefh.close()\n",
    "        \n",
    "        \n",
    "        tree_sequences.append(tree_sequence)\n",
    "    demography = db.population_size_trajectory(population_time).flatten()\n",
    "    return list(tree_sequences), demography "
   ]
  },
  {
   "cell_type": "code",
   "execution_count": null,
   "id": "d645eaa5-e190-4537-8253-6beb66ea2586",
   "metadata": {},
   "outputs": [],
   "source": [
    "def beta_sawtooth(alpha, Ne=10**6, L=10_000_000, sample_size = 10, r = 1e-8, m=1e-7, ploidy = 1):   \n",
    "    \n",
    "    pref = \"r\" + str(r) + \"m\" + str(m) + \"_\"\n",
    "    demography=msprime.Demography()\n",
    "    demography.add_population(initial_size=(Ne))\n",
    "    demography.add_population_parameters_change(time=20, population=None, growth_rate=6437.7516497364/(4*10**4))\n",
    "    demography.add_population_parameters_change(time=30, growth_rate=-378.691273513906/(4*10**4))\n",
    "    demography.add_population_parameters_change(time=200, growth_rate=-643.77516497364/(4*10**4))\n",
    "    demography.add_population_parameters_change(time=300, growth_rate=37.8691273513906/(4*10**4))\n",
    "    demography.add_population_parameters_change(time=2000, growth_rate=64.377516497364/(4*10**4))\n",
    "    demography.add_population_parameters_change(time=3000, growth_rate=-3.78691273513906/(4*10**4))\n",
    "    demography.add_population_parameters_change(time=20000, growth_rate=-6.4377516497364/(4*10**4))\n",
    "    demography.add_population_parameters_change(time=30000, growth_rate=0.378691273513906/(4*10**4))\n",
    "    demography.add_population_parameters_change(time=200000, growth_rate=0.64377516497364/(4*10**4))\n",
    "    demography.add_population_parameters_change(time=300000, growth_rate=-0.0378691273513906/(4*10**4))\n",
    "    demography.add_population_parameters_change(time=2000000, growth_rate=-0.064377516497364/(4*10**4))\n",
    "    demography.add_population_parameters_change(time=3000000, growth_rate=0.00378691273513906/(4*10**4))\n",
    "    demography.add_population_parameters_change(time=20000000, growth_rate=0, initial_size=Ne)\n",
    "    db = msprime.DemographyDebugger(demography=demography)\n",
    "    tree_sequences = []\n",
    "    \n",
    "    n = sample_size\n",
    "    for i in range(10):\n",
    "        \n",
    "        tree_sequence = msprime.sim_ancestry(samples=sample_size, recombination_rate=r,sequence_length=L, demography=demography,ploidy=1,random_seed=((alpha*i+1)**2), model=msprime.BetaCoalescent(alpha=alpha))\n",
    "        tree_sequence = msprime.mutate(tree_sequence, rate=m)\n",
    "        \n",
    "        vcffh = open(vcfdir+'beta_sim_' + str(alpha) + '_' + pref + str(i)+'.vcf', 'w')\n",
    "        \n",
    "        tree_sequence.write_vcf(vcffh, position_transform='legacy', individual_names=['spl'+str(s) for s in range(int(n))])\n",
    "        vcffh.close()\n",
    "        \n",
    "        tsfile = tsdir+'beta_sim_' + str(alpha) + \"_\" + pref + str(i)+'.trees'\n",
    "        tree_sequence.dump(tsfile)\n",
    "        for s1 in range(0, n-1):\n",
    "            for s2 in range(s1+1, n):\n",
    "                coaltimefh = open(tcdir+'/beta_' + str(alpha) + '_sim_'+ pref + str(i)+'_spls'+str(s1)+'-'+str(s2)+'.tc', 'w')\n",
    "                for tree in tree_sequence.trees(): \n",
    "                    treeInterval = tree.get_interval() # length of sequence that this tree spans\n",
    "                    coalescence_time = tree.tmrca(s1,s2)\n",
    "                    print(treeInterval[0], treeInterval[1], coalescence_time, sep = \"\\t\", file = coaltimefh)\n",
    "                coaltimefh.close()\n",
    "        \n",
    "        tree_sequences.append(tree_sequence)\n",
    "    demography = db.population_size_trajectory(population_time).flatten()\n",
    "    return list(tree_sequences), demography "
   ]
  },
  {
   "cell_type": "code",
   "execution_count": null,
   "id": "586f5803-922c-4b42-a0bd-c9396bdb714b",
   "metadata": {},
   "outputs": [],
   "source": [
    "#tree_sequences, demography = kingman_sawtooth()\n",
    "\n",
    "tree_sequences_b19, demography = beta_sawtooth(1.9, r = 1e-9, m=1e-8, L=10_000_000)\n",
    "tree_sequences_b17, demography = beta_sawtooth(1.7, r = 1e-8, m=1e-7, L=10_000_000)\n",
    "tree_sequences_b15, demography = beta_sawtooth(1.5, r = 1e-8, m=1e-7, L=10_000_000)\n",
    "tree_sequences_b13, demography = beta_sawtooth(1.3, r = 1e-7, m=1e-6, L=10_000_000)"
   ]
  },
  {
   "cell_type": "code",
   "execution_count": null,
   "id": "9a07b495-57d8-4f36-9c57-5bb75914fd01",
   "metadata": {},
   "outputs": [],
   "source": [
    "#tree_sequences, demography = kingman_sawtooth()\n",
    "\n",
    "tree_sequences_b19, demography = beta_sawtooth(1.9, r = 1e-8, m=1e-8, L=10_000_000)\n",
    "tree_sequences_b17, demography = beta_sawtooth(1.7, r = 1e-8, m=1e-8, L=10_000_000)\n",
    "tree_sequences_b15, demography = beta_sawtooth(1.5, r = 1e-7, m=1e-7, L=10_000_000)\n",
    "tree_sequences_b13, demography = beta_sawtooth(1.3, r = 1e-6, m=1e-6, L=10_000_000)"
   ]
  },
  {
   "cell_type": "code",
   "execution_count": null,
   "id": "7878abee-c8f3-4e53-98b2-d99757fd6f54",
   "metadata": {},
   "outputs": [],
   "source": []
  },
  {
   "cell_type": "code",
   "execution_count": null,
   "id": "bd2cb8a3-998e-4530-af9f-c717702c883d",
   "metadata": {},
   "outputs": [],
   "source": []
  },
  {
   "cell_type": "code",
   "execution_count": null,
   "id": "7da75498-7151-4e8f-be2c-d3ec1ea44d5c",
   "metadata": {},
   "outputs": [],
   "source": []
  },
  {
   "cell_type": "code",
   "execution_count": null,
   "id": "b4d8ae31-c75f-4832-a0fd-e5d061e513d9",
   "metadata": {},
   "outputs": [
    {
     "data": {
      "text/plain": [
       "(1079, 3685, 917, 652)"
      ]
     },
     "execution_count": null,
     "metadata": {},
     "output_type": "execute_result"
    }
   ],
   "source": [
    "tree_sequences_b19[0].num_trees, tree_sequences_b17[0].num_trees, tree_sequences_b15[0].num_trees, tree_sequences_b13[0].num_trees"
   ]
  },
  {
   "cell_type": "code",
   "execution_count": null,
   "id": "b3ea4e2c-22ad-4d31-8c14-168e0af2f505",
   "metadata": {},
   "outputs": [],
   "source": []
  },
  {
   "cell_type": "code",
   "execution_count": null,
   "id": "195e872d-4207-4ad5-aecf-f71f3918c045",
   "metadata": {},
   "outputs": [],
   "source": []
  },
  {
   "cell_type": "code",
   "execution_count": null,
   "id": "e725d0db-d501-4284-9efe-b7c2b0043c7a",
   "metadata": {},
   "outputs": [],
   "source": []
  },
  {
   "cell_type": "code",
   "execution_count": null,
   "id": "61da80f3-a332-4701-b64c-058b1f55acfc",
   "metadata": {},
   "outputs": [],
   "source": []
  },
  {
   "cell_type": "code",
   "execution_count": null,
   "id": "8f6b3f26-bc86-40cb-868d-d68536308660",
   "metadata": {},
   "outputs": [],
   "source": [
    "r = 1e-8\n",
    "m = 1e-7\n",
    "\n",
    "pref = \"r\" + str(r) + \"m\" + str(m) + \"_\""
   ]
  },
  {
   "cell_type": "code",
   "execution_count": null,
   "id": "c18f6526-4e3b-43a1-946a-18398b2fd322",
   "metadata": {},
   "outputs": [
    {
     "data": {
      "text/plain": [
       "0"
      ]
     },
     "execution_count": null,
     "metadata": {},
     "output_type": "execute_result"
    }
   ],
   "source": [
    "os.system(\"mkdir sites\")"
   ]
  },
  {
   "cell_type": "code",
   "execution_count": null,
   "id": "c611aba6-028e-488e-8077-9d0567b3de50",
   "metadata": {},
   "outputs": [],
   "source": []
  },
  {
   "cell_type": "code",
   "execution_count": null,
   "id": "ca39656e-9eab-410a-8f59-b66deed88c80",
   "metadata": {},
   "outputs": [],
   "source": [
    "alpha_dict = {1.9: [1e-8, 1e-8], 1.7:[1e-8, 1e-8], 1.5:[1e-7, 1e-7], 1.3:[1e-6, 1e-6]}"
   ]
  },
  {
   "cell_type": "code",
   "execution_count": null,
   "id": "e49dc1fa-4f2f-4075-9458-ddd457b46662",
   "metadata": {},
   "outputs": [
    {
     "name": "stdout",
     "output_type": "stream",
     "text": [
      "beta_sim_1.9_r1e-08m1e-08_0.sites\n",
      "beta_sim_1.9_r1e-08m1e-08_1.sites\n",
      "beta_sim_1.9_r1e-08m1e-08_2.sites\n",
      "beta_sim_1.9_r1e-08m1e-08_3.sites\n",
      "beta_sim_1.9_r1e-08m1e-08_4.sites\n",
      "beta_sim_1.9_r1e-08m1e-08_5.sites\n",
      "beta_sim_1.9_r1e-08m1e-08_6.sites\n",
      "beta_sim_1.9_r1e-08m1e-08_7.sites\n",
      "beta_sim_1.9_r1e-08m1e-08_8.sites\n",
      "beta_sim_1.9_r1e-08m1e-08_9.sites\n",
      "beta_sim_1.7_r1e-08m1e-08_0.sites\n",
      "beta_sim_1.7_r1e-08m1e-08_1.sites\n",
      "beta_sim_1.7_r1e-08m1e-08_2.sites\n",
      "beta_sim_1.7_r1e-08m1e-08_3.sites\n",
      "beta_sim_1.7_r1e-08m1e-08_4.sites\n",
      "beta_sim_1.7_r1e-08m1e-08_5.sites\n",
      "beta_sim_1.7_r1e-08m1e-08_6.sites\n",
      "beta_sim_1.7_r1e-08m1e-08_7.sites\n",
      "beta_sim_1.7_r1e-08m1e-08_8.sites\n",
      "beta_sim_1.7_r1e-08m1e-08_9.sites\n",
      "beta_sim_1.5_r1e-07m1e-07_0.sites\n",
      "beta_sim_1.5_r1e-07m1e-07_1.sites\n",
      "beta_sim_1.5_r1e-07m1e-07_2.sites\n",
      "beta_sim_1.5_r1e-07m1e-07_3.sites\n",
      "beta_sim_1.5_r1e-07m1e-07_4.sites\n",
      "beta_sim_1.5_r1e-07m1e-07_5.sites\n",
      "beta_sim_1.5_r1e-07m1e-07_6.sites\n",
      "beta_sim_1.5_r1e-07m1e-07_7.sites\n",
      "beta_sim_1.5_r1e-07m1e-07_8.sites\n",
      "beta_sim_1.5_r1e-07m1e-07_9.sites\n",
      "beta_sim_1.3_r1e-06m1e-06_0.sites\n",
      "beta_sim_1.3_r1e-06m1e-06_1.sites\n",
      "beta_sim_1.3_r1e-06m1e-06_2.sites\n",
      "beta_sim_1.3_r1e-06m1e-06_3.sites\n",
      "beta_sim_1.3_r1e-06m1e-06_4.sites\n",
      "beta_sim_1.3_r1e-06m1e-06_5.sites\n",
      "beta_sim_1.3_r1e-06m1e-06_6.sites\n",
      "beta_sim_1.3_r1e-06m1e-06_7.sites\n",
      "beta_sim_1.3_r1e-06m1e-06_8.sites\n",
      "beta_sim_1.3_r1e-06m1e-06_9.sites\n"
     ]
    }
   ],
   "source": [
    "alpha = 1.9\n",
    "\n",
    "for alpha in [1.9, 1.7, 1.5, 1.3]:\n",
    "    \n",
    "    seqlen = str(10_000_000)\n",
    "    r, m = alpha_dict[alpha]\n",
    "    \n",
    "    for i in range(10):\n",
    "\n",
    "        pref = \"r\" + str(r) + \"m\" + str(m) + \"_\"\n",
    "        vcffile = \"./vcf/beta_sim_\" + str(alpha) + \"_\" + str(pref) + str(i) +\".vcf\"\n",
    "        nspl = 5\n",
    "        outdir = \"./sites\"\n",
    "\n",
    "        infh = open(vcffile, 'r')\n",
    "        pref = vcffile.split('/')[-1].split('.vcf')[0]\n",
    "        outfile = pref+'.sites'\n",
    "\n",
    "        print(outfile)\n",
    "\n",
    "        outfh = open(outdir+'/'+outfile, 'w')\n",
    "        outfh.write('\\t'.join(['NAMES']+['spl'+str(i)+'_1'+'\\t'+'spl'+str(i)+'_2' for i in range(nspl)])+'\\n')\n",
    "        outfh.write('REGION\\t1\\t1\\t'+seqlen+'\\n')\n",
    "\n",
    "        allpos=[]\n",
    "        for line in infh:\n",
    "            if line.startswith('#'):\n",
    "                continue\n",
    "            fields = line.split()\n",
    "            pos = int(fields[1])\n",
    "            while True:\n",
    "                if pos in allpos:\n",
    "                    pos = pos+1\n",
    "                else:\n",
    "                    break\n",
    "\n",
    "            allpos.append(pos)\n",
    "            alleles_01 = []\n",
    "            [alleles_01.extend(x.split('|')) for x in fields[9:]]\n",
    "            alleles_tmp = [x.replace('0', 'A') for x in alleles_01]\n",
    "            #two lines below added for JC finite sites simulation\n",
    "            alleles_tmp = [x.replace('2', 'G') for x in alleles_tmp]\n",
    "            alleles_tmp = [x.replace('3', 'T') for x in alleles_tmp]\n",
    "            alleles_nuc = [x.replace('1', 'C') for x in alleles_tmp]\n",
    "            outfh.write(str(pos)+'\\t'+''.join(alleles_nuc)+'\\n')\n",
    "\n",
    "        infh.close()\n",
    "        outfh.close()"
   ]
  },
  {
   "cell_type": "code",
   "execution_count": null,
   "id": "ca6be838-3399-408b-879f-31cdad7a560f",
   "metadata": {},
   "outputs": [],
   "source": []
  },
  {
   "cell_type": "code",
   "execution_count": null,
   "id": "9aa4cbdd-dc81-4d67-8b3a-e0dbe4fd6202",
   "metadata": {},
   "outputs": [],
   "source": []
  },
  {
   "cell_type": "code",
   "execution_count": null,
   "id": "48369e67-b54f-4925-af25-458625503b6d",
   "metadata": {},
   "outputs": [],
   "source": [
    "import os\n",
    "import gzip\n",
    "import newick\n",
    "import networkx as nx\n",
    "from io import StringIO\n",
    "from Bio import Phylo\n",
    "import pickle\n",
    "import tskit\n",
    "import pandas as pd\n",
    "import re"
   ]
  },
  {
   "cell_type": "code",
   "execution_count": null,
   "id": "d4fb2f35-083a-4e5d-b898-a51603654997",
   "metadata": {},
   "outputs": [],
   "source": [
    "nrep = -1\n",
    "for rep in [0, 1, 2, 3, 4, 5, 6 ,7, 8 ,9]: #3, 4, 5, 6, 7, 8, 9\n",
    "    try:\n",
    "        for mcmc_step in [950, 1000]: #960, 980, 1000\n",
    "            \n",
    "            files = [file for file in os.listdir(\"weaved_args\") if \"beta_1.9_arg-sample_r1e-08m1e-08_1-10000000_\" + str(rep) in file and \".smc.gz\" in file]\n",
    "            files = [file for file in files if int(file.split(\".\")[-3]) == mcmc_step]\n",
    "\n",
    "\n",
    "            file = files[0]\n",
    "            print(file)\n",
    "            with gzip.open(\"./weaved_args/\" + file,'rb')as f:\n",
    "                newick_trees = [line for line in f if b\"TREE\" in line]  \n",
    "\n",
    "            clean_newick_trees = []\n",
    "            for newick_tree in newick_trees:\n",
    "                \n",
    "                newick_tree = re.split(b'\\t+', newick_trees[0])[-1][:-1]\n",
    "                newick_tree = newick_tree.decode(\"utf-8\") \n",
    "                newick_tree = re.sub(\"([\\[]).*?([\\]])\", \"\\g<1>\\g<2>\", newick_tree)\n",
    "                newick_tree = re.sub(\"[\\[].*?[\\]]\", \"\", newick_tree)\n",
    "                clean_newick_trees.append(newick_tree)\n",
    "\n",
    "            for i, n in enumerate(clean_newick_trees):\n",
    "\n",
    "                tree = Phylo.read(StringIO(n), \"newick\")\n",
    "                nx_tree = Phylo.to_networkx(tree)\n",
    "                graph = nx.Graph(nx_tree)\n",
    "                \n",
    "                with open('./graphs19/beta_graph_' + str(mcmc_step) + \"_\" + str(i) + \"_rep\" + str(rep) +'.pickle', 'wb') as handle:\n",
    "                    pickle.dump(graph, handle)\n",
    "    except Exception as e:\n",
    "        print(e, rep, mcmc_step)"
   ]
  },
  {
   "cell_type": "code",
   "execution_count": null,
   "id": "22ec671a-d2b0-4e1b-aa68-07aa2ab74d84",
   "metadata": {},
   "outputs": [],
   "source": []
  },
  {
   "cell_type": "code",
   "execution_count": null,
   "id": "3f9e00bd-314d-4bdc-b6c0-8e50d65b1125",
   "metadata": {},
   "outputs": [],
   "source": []
  },
  {
   "cell_type": "code",
   "execution_count": null,
   "id": "a9d36607-d160-47bb-b2a5-000f1e3509a0",
   "metadata": {},
   "outputs": [],
   "source": []
  },
  {
   "cell_type": "code",
   "execution_count": null,
   "id": "2b59c6d7-9f0f-460a-9e92-0f237fa29dbb",
   "metadata": {},
   "outputs": [],
   "source": []
  },
  {
   "cell_type": "code",
   "execution_count": null,
   "id": "ebc9526f-6696-4924-a2a9-e3c62c7695a9",
   "metadata": {},
   "outputs": [],
   "source": [
    "nrep = -1\n",
    "for rep in [0, 1, 2, 3, 4, 5, 6 ,7, 8 ,9]: #3, 4, 5, 6, 7, 8, 9\n",
    "    try:\n",
    "        for mcmc_step in [950, 1000]: #960, 980, 1000\n",
    "            \n",
    "            files = [file for file in os.listdir(\"weaved_args\") if \"beta_1.7_arg-sample_r1e-08m1e-08_1-10000000_\" + str(rep) in file and \".smc.gz\" in file]\n",
    "            files = [file for file in files if int(file.split(\".\")[-3]) == mcmc_step]\n",
    "\n",
    "            file = files[0]\n",
    "            print(file)\n",
    "            with gzip.open(\"./weaved_args/\" + file,'rb')as f:\n",
    "                newick_trees = [line for line in f if b\"TREE\" in line]  \n",
    "\n",
    "            clean_newick_trees = []\n",
    "            for newick_tree in newick_trees:\n",
    "                \n",
    "                newick_tree = re.split(b'\\t+', newick_trees[0])[-1][:-1]\n",
    "                newick_tree = newick_tree.decode(\"utf-8\") \n",
    "                newick_tree = re.sub(\"([\\[]).*?([\\]])\", \"\\g<1>\\g<2>\", newick_tree)\n",
    "                newick_tree = re.sub(\"[\\[].*?[\\]]\", \"\", newick_tree)\n",
    "                clean_newick_trees.append(newick_tree)\n",
    "\n",
    "            for i, n in enumerate(clean_newick_trees):\n",
    "\n",
    "                tree = Phylo.read(StringIO(n), \"newick\")\n",
    "                nx_tree = Phylo.to_networkx(tree)\n",
    "                graph = nx.Graph(nx_tree)\n",
    "                \n",
    "                with open('./graphs17/beta_graph_' + str(mcmc_step) + \"_\" + str(i) + \"_rep\" + str(rep) +'.pickle', 'wb') as handle:\n",
    "                    pickle.dump(graph, handle)\n",
    "    except:\n",
    "        print(rep, mcmc_step)"
   ]
  },
  {
   "cell_type": "code",
   "execution_count": null,
   "id": "caba5231-7cf1-40a2-9278-2f88319cabd2",
   "metadata": {},
   "outputs": [],
   "source": []
  },
  {
   "cell_type": "code",
   "execution_count": null,
   "id": "3e65678c-3dc0-4e5e-a437-e065fdc6730f",
   "metadata": {},
   "outputs": [],
   "source": []
  },
  {
   "cell_type": "code",
   "execution_count": null,
   "id": "956359b8-0355-49d5-9a18-c13efa58f6f2",
   "metadata": {},
   "outputs": [],
   "source": [
    "nrep = -1\n",
    "for rep in [0, 1, 2, 3, 4, 5, 6 ,7, 8 ,9]: #3, 4, 5, 6, 7, 8, 9\n",
    "    try:\n",
    "        for mcmc_step in [950, 1000]: #960, 980, 1000\n",
    "            \n",
    "            files = [file for file in os.listdir(\"weaved_args\") if \"beta_1.5_arg-sample_r1e-07m1e-07_1-10000000_\" + str(rep) in file and \".smc.gz\" in file]\n",
    "            files = [file for file in files if int(file.split(\".\")[-3]) == mcmc_step]\n",
    "\n",
    "\n",
    "            file = files[0]\n",
    "            print(file)\n",
    "            with gzip.open(\"./weaved_args/\" + file,'rb')as f:\n",
    "                newick_trees = [line for line in f if b\"TREE\" in line]  \n",
    "\n",
    "            clean_newick_trees = []\n",
    "            for newick_tree in newick_trees:\n",
    "                \n",
    "                newick_tree = re.split(b'\\t+', newick_trees[0])[-1][:-1]\n",
    "                newick_tree = newick_tree.decode(\"utf-8\") \n",
    "                newick_tree = re.sub(\"([\\[]).*?([\\]])\", \"\\g<1>\\g<2>\", newick_tree)\n",
    "                newick_tree = re.sub(\"[\\[].*?[\\]]\", \"\", newick_tree)\n",
    "                clean_newick_trees.append(newick_tree)\n",
    "\n",
    "            for i, n in enumerate(clean_newick_trees):\n",
    "\n",
    "                tree = Phylo.read(StringIO(n), \"newick\")\n",
    "                nx_tree = Phylo.to_networkx(tree)\n",
    "                graph = nx.Graph(nx_tree)\n",
    "                \n",
    "                with open('./graphs15/beta_graph_' + str(mcmc_step) + \"_\" + str(i) + \"_rep\" + str(rep) +'.pickle', 'wb') as handle:\n",
    "                    pickle.dump(graph, handle)\n",
    "    except:\n",
    "        print(rep, mcmc_step)"
   ]
  },
  {
   "cell_type": "code",
   "execution_count": null,
   "id": "8a2cda96-2734-47f2-827f-609f4b88a381",
   "metadata": {},
   "outputs": [],
   "source": []
  },
  {
   "cell_type": "code",
   "execution_count": null,
   "id": "e35cc46d-f54f-4677-acd2-3e2402663b75",
   "metadata": {},
   "outputs": [],
   "source": []
  },
  {
   "cell_type": "code",
   "execution_count": null,
   "id": "0e4411f1-99d6-433c-a412-edbcb102de76",
   "metadata": {},
   "outputs": [],
   "source": [
    "nrep = -1\n",
    "for rep in [0, 1, 2, 3, 4, 5, 6 ,7, 8 ,9]: #3, 4, 5, 6, 7, 8, 9\n",
    "    try:\n",
    "        for mcmc_step in [950, 1000]: #960, 980, 1000\n",
    "            \n",
    "            files = [file for file in os.listdir(\"weaved_args\") if \"beta_1.3_arg-sample_r1e-06m1e-06_1-10000000_\" + str(rep) in file and \".smc.gz\" in file]\n",
    "            files = [file for file in files if int(file.split(\".\")[-3]) == mcmc_step]\n",
    "\n",
    "\n",
    "            file = files[0]\n",
    "            print(file)\n",
    "            with gzip.open(\"./weaved_args/\" + file,'rb')as f:\n",
    "                newick_trees = [line for line in f if b\"TREE\" in line]  \n",
    "\n",
    "            clean_newick_trees = []\n",
    "            for newick_tree in newick_trees:\n",
    "                \n",
    "                newick_tree = re.split(b'\\t+', newick_trees[0])[-1][:-1]\n",
    "                newick_tree = newick_tree.decode(\"utf-8\") \n",
    "                newick_tree = re.sub(\"([\\[]).*?([\\]])\", \"\\g<1>\\g<2>\", newick_tree)\n",
    "                newick_tree = re.sub(\"[\\[].*?[\\]]\", \"\", newick_tree)\n",
    "                clean_newick_trees.append(newick_tree)\n",
    "\n",
    "            for i, n in enumerate(clean_newick_trees):\n",
    "\n",
    "                tree = Phylo.read(StringIO(n), \"newick\")\n",
    "                nx_tree = Phylo.to_networkx(tree)\n",
    "                graph = nx.Graph(nx_tree)\n",
    "                \n",
    "                with open('./graphs13/beta_graph_' + str(mcmc_step) + \"_\" + str(i) + \"_rep\" + str(rep) +'.pickle', 'wb') as handle:\n",
    "                    pickle.dump(graph, handle)\n",
    "    except:\n",
    "        print(rep, mcmc_step)"
   ]
  }
 ],
 "metadata": {
  "kernelspec": {
   "display_name": "python3",
   "language": "python",
   "name": "python3"
  }
 },
 "nbformat": 4,
 "nbformat_minor": 5
}
