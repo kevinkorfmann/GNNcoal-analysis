{
 "cells": [
  {
   "cell_type": "code",
   "execution_count": 1,
   "id": "830fb7b7-ee66-46c0-8523-e2d5f7fa0057",
   "metadata": {},
   "outputs": [],
   "source": [
    "import msprime\n",
    "import numpy as np\n",
    "import seaborn as sns\n",
    "import matplotlib.pyplot as plt\n",
    "import torch\n",
    "import tsinfer\n",
    "import tsdate\n",
    "from tqdm import tqdm\n",
    "from torch_geometric.utils import from_networkx\n",
    "import networkx as nx\n",
    "%matplotlib inline"
   ]
  },
  {
   "cell_type": "code",
   "execution_count": 2,
   "id": "564ad8d2-2fa2-4c5c-bce7-5c7d47b123e5",
   "metadata": {},
   "outputs": [
    {
     "name": "stdout",
     "output_type": "stream",
     "text": [
      "/home/ubuntu/graphseq-inference-analysis/mm-selection-classification/revisions\n"
     ]
    }
   ],
   "source": [
    "cd revisions/"
   ]
  },
  {
   "cell_type": "code",
   "execution_count": 11,
   "id": "e3129e32-f45a-4e1a-8a0a-399c26d8d74b",
   "metadata": {},
   "outputs": [
    {
     "data": {
      "text/plain": [
       "0"
      ]
     },
     "execution_count": 11,
     "metadata": {},
     "output_type": "execute_result"
    }
   ],
   "source": [
    "0"
   ]
  },
  {
   "cell_type": "code",
   "execution_count": 3,
   "id": "122ea638-5788-4424-8220-b59656105765",
   "metadata": {},
   "outputs": [],
   "source": [
    "label_lookup = {\n",
    "    \"kingman_selection_none\" : 0,\n",
    "    \"kingman_selection_weak\" : 1,\n",
    "    \"kingman_selection_medium\" : 2,\n",
    "    \"kingman_selection_strong\" : 3,\n",
    "    \n",
    "    \"beta_selection_none\" : 4,\n",
    "    \"beta_selection_weak\" : 5,\n",
    "    \"beta_selection_medium\" : 6,\n",
    "    \"beta_selection_strong\" : 7,    \n",
    "}"
   ]
  },
  {
   "cell_type": "code",
   "execution_count": 5,
   "id": "60796f7a-ab85-41e1-a7fa-d53298635b01",
   "metadata": {},
   "outputs": [],
   "source": [
    "def simulate_tree_sequence(L, model, seed, sample_size = 10, r = 1e-8, Ne = 100_000, num_replicates=1):\n",
    "    demography=msprime.Demography()\n",
    "    demography.add_population(initial_size=(Ne))\n",
    "    ts = msprime.sim_ancestry(\n",
    "        samples=sample_size,recombination_rate=r, sequence_length=L,\n",
    "        demography=demography,\n",
    "        ploidy=1,\n",
    "        model=model,\n",
    "        random_seed=seed, num_replicates=num_replicates)\n",
    "    return list(ts)\n",
    "\n",
    "def sample_selection_coefficient():\n",
    "    selection_type = np.random.choice([\"strong\", \"medium\", \"weak\", \"none\"])\n",
    "    selection_coefficient = {\"strong\":[1, 0.1], \"medium\":[0.1, 0.01], \"weak\":[0.01, 0.001], \"none\": None}\n",
    "    selection_coefficient_range = selection_coefficient[selection_type]\n",
    "    if selection_type != \"none\":\n",
    "        s = np.round(np.random.uniform(selection_coefficient_range[0], selection_coefficient_range[1]), 3)\n",
    "        return s, selection_type\n",
    "    else: return 0, selection_type\n",
    "\n",
    "    \n",
    "def get_kingman_model(s, L, Ne = 10_000):\n",
    "    if s != 0:\n",
    "        model_kingman = [msprime.SweepGenicSelection(position=(L/2),\n",
    "                                                     start_frequency=(1/Ne),\n",
    "                                                     end_frequency=0.99,s=s,dt=(1/(40*Ne))),\n",
    "                         msprime.StandardCoalescent()]\n",
    "    else: model_kingman = [msprime.StandardCoalescent()]\n",
    "    return model_kingman\n",
    "\n",
    "\n",
    "def get_beta_model(alpha, Ne = 1_000_000):\n",
    "    model_beta = [msprime.BetaCoalescent(alpha=alpha)]\n",
    "    return model_beta\n",
    "\n",
    "\n",
    "def get_mid_trees(ts):\n",
    "    for i, tree in enumerate(ts.trees()):\n",
    "        if tree.interval.left >= (ts.sequence_length/2):\n",
    "            break\n",
    "    first_tree = i-249\n",
    "    last_tree = i + 250\n",
    "    trees = []\n",
    "    for j, tree in enumerate(ts.aslist()):\n",
    "        if j >= first_tree and j <= last_tree:\n",
    "            trees.append(tree)\n",
    "    return trees\n",
    "\n",
    "def tree_to_data_objects(tree, norm_factor, num_embedding=60):\n",
    "    max_num_nodes = 2 * 10 - 1 \n",
    "    data = from_networkx(nx.Graph(tree.as_dict_of_dicts()))\n",
    "    data.edge_weight = data.branch_length; data.branch_length = None\n",
    "    data.edge_weight = torch.log(data.edge_weight / norm_factor)\n",
    "    num_nodes = data.num_nodes\n",
    "    data.x = torch.eye(max_num_nodes,num_embedding)\n",
    "    data.x[num_nodes:] = torch.zeros(num_embedding)\n",
    "    data.num_nodes = max_num_nodes\n",
    "    return data"
   ]
  },
  {
   "cell_type": "code",
   "execution_count": 160,
   "id": "4c18de3a-1484-4f5b-b5cf-a94b1cd1e67b",
   "metadata": {},
   "outputs": [],
   "source": [
    "def reinferts(ts, mutation_rate=4e-8, recombination_rate=1e-8):\n",
    "    ts = msprime.mutate(ts, rate=mutation_rate)\n",
    "    while ts.num_mutations < 1:\n",
    "        ts = msprime.mutate(ts, rate=mutation_rate)\n",
    "        print(ts.num_mutations)\n",
    "    sample_data = tsinfer.SampleData.from_tree_sequence(ts, num_flush_threads=4, use_sites_time=False, use_individuals_time=False)\n",
    "    ts = tsinfer.infer(sample_data, post_process=\"simplify\", recombination_rate=recombination_rate).simplify(keep_unary=False)\n",
    "    ts = tsdate.date(ts, Ne=100_000, mutation_rate=mutation_rate)\n",
    "    return ts"
   ]
  },
  {
   "cell_type": "code",
   "execution_count": 7,
   "id": "877f8f1b-56f9-41e3-92e8-607c8b331f0d",
   "metadata": {
    "tags": []
   },
   "outputs": [
    {
     "name": "stderr",
     "output_type": "stream",
     "text": [
      " 48%|███████████████████████████████████████████▎                                               | 19058/40000 [6:37:26<9:08:19,  1.57s/it]IOPub message rate exceeded.\n",
      "The Jupyter server will temporarily stop sending output\n",
      "to the client in order to avoid crashing it.\n",
      "To change this limit, set the config variable\n",
      "`--ServerApp.iopub_msg_rate_limit`.\n",
      "\n",
      "Current values:\n",
      "ServerApp.iopub_msg_rate_limit=1000.0 (msgs/sec)\n",
      "ServerApp.rate_limit_window=3.0 (secs)\n",
      "\n",
      " 74%|██████████████████████████████████████████████████████████████████▌                       | 29573/40000 [10:31:05<3:14:00,  1.12s/it]IOPub message rate exceeded.\n",
      "The Jupyter server will temporarily stop sending output\n",
      "to the client in order to avoid crashing it.\n",
      "To change this limit, set the config variable\n",
      "`--ServerApp.iopub_msg_rate_limit`.\n",
      "\n",
      "Current values:\n",
      "ServerApp.iopub_msg_rate_limit=1000.0 (msgs/sec)\n",
      "ServerApp.rate_limit_window=3.0 (secs)\n",
      "\n"
     ]
    }
   ],
   "source": [
    "np.random.seed(0x1337)\n",
    "directory = \"./classification-dataset/\"\n",
    "\n",
    "min_num_trees = 2000\n",
    "for nth_scenario in tqdm(range(40_000)):\n",
    "\n",
    "    if nth_scenario % 2 == 0:\n",
    "    \n",
    "        L = 100_000\n",
    "        s, selection_type = sample_selection_coefficient()\n",
    "\n",
    "        model_kingman = get_kingman_model(s, L,  Ne=10_000)\n",
    "        tree_sequences = simulate_tree_sequence(L, model_kingman, 1+nth_scenario*10, Ne=10_000)\n",
    "        num_ts_above_1999 = np.sum([1 if ts.num_trees >= min_num_trees else 0 for ts in tree_sequences])\n",
    "\n",
    "        while num_ts_above_1999 < 1:\n",
    "            L = L*2\n",
    "            model_kingman = get_kingman_model(s, L,  Ne=10_000)\n",
    "            tree_sequences = simulate_tree_sequence(L, model_kingman, 1+nth_scenario*10, Ne=10_000)\n",
    "            num_ts_above_1999 = np.sum([1 if ts.num_trees >= min_num_trees else 0 for ts in tree_sequences])\n",
    "\n",
    "        c = 0\n",
    "        for j, ts in enumerate(tree_sequences):\n",
    "            y_dict = {\"model\": (\"kingman\", None), \"sequence_length\":L, \"selection_coefficient\":s, \"selection_type\":selection_type}\n",
    "            trees = get_mid_trees(ts)\n",
    "            data_objects = [tree_to_data_objects(tree, norm_factor=10_000, num_embedding=60) for tree in trees]\n",
    "            torch.save((data_objects, y_dict),  open(str(directory) + \"kingman_\" + str(nth_scenario) + \"_\" + str(j) + \".pth\", \"wb\"))\n",
    "            c += 1\n",
    "            \n",
    "                \n",
    "            #break \n",
    "        #break\n",
    "    else:\n",
    "        \n",
    "        L = 100_000\n",
    "        alpha = np.round(np.random.uniform(1.01, 1.99), 2)\n",
    "        model_beta = get_beta_model(alpha, Ne=1_000_000)\n",
    "        tree_sequences = simulate_tree_sequence(L, model_beta, 1+nth_scenario*10, Ne=1_000_000)\n",
    "        num_ts_above_1999 = np.sum([1 if ts.num_trees >= min_num_trees else 0 for ts in tree_sequences])\n",
    "\n",
    "        while num_ts_above_1999 < 1:\n",
    "            L = L*2\n",
    "            #print(L, num_ts_above_1999)\n",
    "            model_beta = get_beta_model(alpha, Ne=1_000_000)\n",
    "            tree_sequences = simulate_tree_sequence(L, model_beta, 1+nth_scenario*10, Ne=1_000_000)\n",
    "            num_ts_above_1999 = np.sum([1 if ts.num_trees >= min_num_trees else 0 for ts in tree_sequences])\n",
    "\n",
    "        c = 0\n",
    "        for j, ts in enumerate(tree_sequences):\n",
    "            y_dict = {\"model\": (\"beta\", alpha), \"sequence_length\":L, \"selection_coefficient\":0, \"selection_type\":None}\n",
    "            trees = get_mid_trees(ts)\n",
    "            data_objects = [tree_to_data_objects(tree, norm_factor=1_000_000, num_embedding=60) for tree in trees]\n",
    "            torch.save((data_objects, y_dict),  open(str(directory) + \"beta_\" + str(nth_scenario) + \"_\" + str(j) + \".pth\", \"wb\"))\n",
    "            c += 1\n",
    "\n",
    "            #break \n",
    "        #break\n",
    "    #print(nth_scenario, y_dict)"
   ]
  },
  {
   "cell_type": "code",
   "execution_count": 145,
   "id": "553e8fd1-9779-4272-89b3-d612b47056bc",
   "metadata": {},
   "outputs": [],
   "source": []
  },
  {
   "cell_type": "code",
   "execution_count": 146,
   "id": "377efaa6-d1a6-4f13-a91f-82f5cd325a6d",
   "metadata": {},
   "outputs": [],
   "source": [
    "from scipy.special import beta\n",
    "def calculate_kingman_coal_ne_estimate(theta, sample_size, L, mu_real):\n",
    "    mu_estimated = theta / ((2*np.sum(1/np.array(range(1, sample_size)))) * L)\n",
    "    Ne = (mu_estimated / mu_real)\n",
    "    return Ne\n",
    "\n",
    "def calculate_beta_coal_ne_estimate(theta, sample_size, L, alpha, mu_real):\n",
    "    mu_estimated = theta / ((2*np.sum(1/np.array(range(1, sample_size)))) * L)\n",
    "    m = 1 + (1/((2**(alpha-1))*(alpha-1)))\n",
    "    scale = (m**alpha)/(alpha * beta(2-alpha,alpha))\n",
    "    Ne = (((mu_estimated/mu_real)/scale)**(1/(alpha-1)))\n",
    "    return Ne"
   ]
  },
  {
   "cell_type": "code",
   "execution_count": null,
   "id": "035f5a3d-e959-415e-91a2-311d6d3073e0",
   "metadata": {},
   "outputs": [],
   "source": []
  },
  {
   "cell_type": "code",
   "execution_count": null,
   "id": "5790270a-3655-44e9-81e8-bce3e1ab8be2",
   "metadata": {},
   "outputs": [],
   "source": []
  },
  {
   "cell_type": "code",
   "execution_count": null,
   "id": "07358500-94ee-4e97-a7f0-992ca8000e3d",
   "metadata": {},
   "outputs": [],
   "source": []
  },
  {
   "cell_type": "code",
   "execution_count": null,
   "id": "7a30cb40-ee86-42a6-841d-c648030f0849",
   "metadata": {},
   "outputs": [],
   "source": []
  },
  {
   "cell_type": "code",
   "execution_count": null,
   "id": "ea176a1c-7bcc-433e-a077-22cb85a3df6d",
   "metadata": {},
   "outputs": [],
   "source": []
  },
  {
   "cell_type": "code",
   "execution_count": null,
   "id": "d78ace47-659a-4d33-9319-f9dc656070f3",
   "metadata": {},
   "outputs": [],
   "source": []
  },
  {
   "cell_type": "code",
   "execution_count": null,
   "id": "f7e89c51-fcd2-4e04-8040-dd24d704dfb9",
   "metadata": {},
   "outputs": [],
   "source": []
  },
  {
   "cell_type": "code",
   "execution_count": null,
   "id": "94dd3752-e4ca-483e-a261-50cf650cb6ff",
   "metadata": {},
   "outputs": [],
   "source": []
  },
  {
   "cell_type": "code",
   "execution_count": null,
   "id": "3acb7147-517b-42ba-8811-f302c1147686",
   "metadata": {},
   "outputs": [],
   "source": []
  },
  {
   "cell_type": "code",
   "execution_count": null,
   "id": "1c2c8ca4-a3b8-4c38-9e44-33af1352273c",
   "metadata": {},
   "outputs": [],
   "source": []
  },
  {
   "cell_type": "code",
   "execution_count": null,
   "id": "d854016e-30be-4d84-a36c-b40d030e5a93",
   "metadata": {},
   "outputs": [],
   "source": []
  },
  {
   "cell_type": "code",
   "execution_count": 150,
   "id": "1bd8f70f-65ae-4c99-a844-2bb40e49e772",
   "metadata": {},
   "outputs": [
    {
     "data": {
      "text/plain": [
       "8420.141324168888"
      ]
     },
     "execution_count": 150,
     "metadata": {},
     "output_type": "execute_result"
    }
   ],
   "source": [
    "mutation_rate = 1e-8\n",
    "ts = msprime.mutate(ts, rate=mutation_rate)\n",
    "calculate_kingman_coal_ne_estimate(theta=ts.num_mutations,\n",
    "                                   sample_size=ts.num_samples, L=ts.sequence_length, mu_real=mutation_rate)"
   ]
  },
  {
   "cell_type": "code",
   "execution_count": 138,
   "id": "2169a5cb-e187-4aff-9333-714bedc54683",
   "metadata": {},
   "outputs": [
    {
     "data": {
      "text/plain": [
       "1034589.1429456391"
      ]
     },
     "execution_count": 138,
     "metadata": {},
     "output_type": "execute_result"
    }
   ],
   "source": [
    "mutation_rate = 1e-8\n",
    "ts = msprime.mutate(ts, rate=mutation_rate)\n",
    "calculate_beta_coal_ne_estimate(theta=ts.num_mutations,\n",
    "                                   sample_size=ts.num_samples, L=ts.sequence_length, mu_real=mutation_rate, alpha=1.86)"
   ]
  },
  {
   "cell_type": "code",
   "execution_count": null,
   "id": "ae85a6c9-9b64-4530-9f2a-d5618bb82a8c",
   "metadata": {},
   "outputs": [],
   "source": []
  },
  {
   "cell_type": "code",
   "execution_count": 161,
   "id": "ffb6db42-5739-48a3-a457-d50d74349b61",
   "metadata": {},
   "outputs": [],
   "source": [
    "reinfts = reinferts(ts, mutation_rate=2e-8)"
   ]
  },
  {
   "cell_type": "code",
   "execution_count": null,
   "id": "6357c02b-cee7-4785-ad76-3651d9013ad5",
   "metadata": {},
   "outputs": [],
   "source": [
    "for tree in reinfts.trees():\n",
    "    tree"
   ]
  },
  {
   "cell_type": "code",
   "execution_count": null,
   "id": "c7258fd3-2b54-41e8-b105-26e08bee0062",
   "metadata": {},
   "outputs": [],
   "source": []
  },
  {
   "cell_type": "code",
   "execution_count": null,
   "id": "a92b539c-2173-4d10-9ad6-88ea20199cd3",
   "metadata": {},
   "outputs": [],
   "source": []
  },
  {
   "cell_type": "code",
   "execution_count": null,
   "id": "2fa03e61-a08a-4ecc-8edb-ea662cce8a2c",
   "metadata": {},
   "outputs": [],
   "source": []
  },
  {
   "cell_type": "code",
   "execution_count": null,
   "id": "0abdc7a7-b173-4179-9dcd-3fcf02e9c80a",
   "metadata": {},
   "outputs": [],
   "source": []
  },
  {
   "cell_type": "code",
   "execution_count": null,
   "id": "f905fa21-8b35-4e78-a63c-0732250b2473",
   "metadata": {},
   "outputs": [],
   "source": []
  },
  {
   "cell_type": "code",
   "execution_count": 178,
   "id": "b6b7cc3a-17e4-4039-9515-463676c9ceb9",
   "metadata": {},
   "outputs": [
    {
     "ename": "AttributeError",
     "evalue": "'GlobalStorage' object has no attribute 'branch_length'",
     "output_type": "error",
     "traceback": [
      "\u001b[0;31m---------------------------------------------------------------------------\u001b[0m",
      "\u001b[0;31mAttributeError\u001b[0m                            Traceback (most recent call last)",
      "Cell \u001b[0;32mIn[178], line 1\u001b[0m\n\u001b[0;32m----> 1\u001b[0m data_objects \u001b[38;5;241m=\u001b[39m [tree_to_data_objects(tree, norm_factor\u001b[38;5;241m=\u001b[39m\u001b[38;5;241m10_000\u001b[39m, num_embedding\u001b[38;5;241m=\u001b[39m\u001b[38;5;241m60\u001b[39m) \u001b[38;5;28;01mfor\u001b[39;00m tree \u001b[38;5;129;01min\u001b[39;00m trees]\n",
      "Cell \u001b[0;32mIn[178], line 1\u001b[0m, in \u001b[0;36m<listcomp>\u001b[0;34m(.0)\u001b[0m\n\u001b[0;32m----> 1\u001b[0m data_objects \u001b[38;5;241m=\u001b[39m [\u001b[43mtree_to_data_objects\u001b[49m\u001b[43m(\u001b[49m\u001b[43mtree\u001b[49m\u001b[43m,\u001b[49m\u001b[43m \u001b[49m\u001b[43mnorm_factor\u001b[49m\u001b[38;5;241;43m=\u001b[39;49m\u001b[38;5;241;43m10_000\u001b[39;49m\u001b[43m,\u001b[49m\u001b[43m \u001b[49m\u001b[43mnum_embedding\u001b[49m\u001b[38;5;241;43m=\u001b[39;49m\u001b[38;5;241;43m60\u001b[39;49m\u001b[43m)\u001b[49m \u001b[38;5;28;01mfor\u001b[39;00m tree \u001b[38;5;129;01min\u001b[39;00m trees]\n",
      "Cell \u001b[0;32mIn[158], line 52\u001b[0m, in \u001b[0;36mtree_to_data_objects\u001b[0;34m(tree, norm_factor, num_embedding)\u001b[0m\n\u001b[1;32m     50\u001b[0m max_num_nodes \u001b[38;5;241m=\u001b[39m \u001b[38;5;241m2\u001b[39m \u001b[38;5;241m*\u001b[39m \u001b[38;5;241m10\u001b[39m \u001b[38;5;241m-\u001b[39m \u001b[38;5;241m1\u001b[39m \n\u001b[1;32m     51\u001b[0m data \u001b[38;5;241m=\u001b[39m from_networkx(nx\u001b[38;5;241m.\u001b[39mGraph(tree\u001b[38;5;241m.\u001b[39mas_dict_of_dicts()))\n\u001b[0;32m---> 52\u001b[0m data\u001b[38;5;241m.\u001b[39medge_weight \u001b[38;5;241m=\u001b[39m \u001b[43mdata\u001b[49m\u001b[38;5;241;43m.\u001b[39;49m\u001b[43mbranch_length\u001b[49m; data\u001b[38;5;241m.\u001b[39mbranch_length \u001b[38;5;241m=\u001b[39m \u001b[38;5;28;01mNone\u001b[39;00m\n\u001b[1;32m     53\u001b[0m data\u001b[38;5;241m.\u001b[39medge_weight \u001b[38;5;241m=\u001b[39m torch\u001b[38;5;241m.\u001b[39mlog(data\u001b[38;5;241m.\u001b[39medge_weight \u001b[38;5;241m/\u001b[39m norm_factor)\n\u001b[1;32m     54\u001b[0m num_nodes \u001b[38;5;241m=\u001b[39m data\u001b[38;5;241m.\u001b[39mnum_nodes\n",
      "File \u001b[0;32m~/.local/lib/python3.8/site-packages/torch_geometric/data/data.py:482\u001b[0m, in \u001b[0;36mData.__getattr__\u001b[0;34m(self, key)\u001b[0m\n\u001b[1;32m    476\u001b[0m \u001b[38;5;28;01mif\u001b[39;00m \u001b[38;5;124m'\u001b[39m\u001b[38;5;124m_store\u001b[39m\u001b[38;5;124m'\u001b[39m \u001b[38;5;129;01mnot\u001b[39;00m \u001b[38;5;129;01min\u001b[39;00m \u001b[38;5;28mself\u001b[39m\u001b[38;5;241m.\u001b[39m\u001b[38;5;18m__dict__\u001b[39m:\n\u001b[1;32m    477\u001b[0m     \u001b[38;5;28;01mraise\u001b[39;00m \u001b[38;5;167;01mRuntimeError\u001b[39;00m(\n\u001b[1;32m    478\u001b[0m         \u001b[38;5;124m\"\u001b[39m\u001b[38;5;124mThe \u001b[39m\u001b[38;5;124m'\u001b[39m\u001b[38;5;124mdata\u001b[39m\u001b[38;5;124m'\u001b[39m\u001b[38;5;124m object was created by an older version of PyG. \u001b[39m\u001b[38;5;124m\"\u001b[39m\n\u001b[1;32m    479\u001b[0m         \u001b[38;5;124m\"\u001b[39m\u001b[38;5;124mIf this error occurred while loading an already existing \u001b[39m\u001b[38;5;124m\"\u001b[39m\n\u001b[1;32m    480\u001b[0m         \u001b[38;5;124m\"\u001b[39m\u001b[38;5;124mdataset, remove the \u001b[39m\u001b[38;5;124m'\u001b[39m\u001b[38;5;124mprocessed/\u001b[39m\u001b[38;5;124m'\u001b[39m\u001b[38;5;124m directory in the dataset\u001b[39m\u001b[38;5;124m'\u001b[39m\u001b[38;5;124ms \u001b[39m\u001b[38;5;124m\"\u001b[39m\n\u001b[1;32m    481\u001b[0m         \u001b[38;5;124m\"\u001b[39m\u001b[38;5;124mroot folder and try again.\u001b[39m\u001b[38;5;124m\"\u001b[39m)\n\u001b[0;32m--> 482\u001b[0m \u001b[38;5;28;01mreturn\u001b[39;00m \u001b[38;5;28;43mgetattr\u001b[39;49m\u001b[43m(\u001b[49m\u001b[38;5;28;43mself\u001b[39;49m\u001b[38;5;241;43m.\u001b[39;49m\u001b[43m_store\u001b[49m\u001b[43m,\u001b[49m\u001b[43m \u001b[49m\u001b[43mkey\u001b[49m\u001b[43m)\u001b[49m\n",
      "File \u001b[0;32m~/.local/lib/python3.8/site-packages/torch_geometric/data/storage.py:87\u001b[0m, in \u001b[0;36mBaseStorage.__getattr__\u001b[0;34m(self, key)\u001b[0m\n\u001b[1;32m     85\u001b[0m     \u001b[38;5;28;01mreturn\u001b[39;00m \u001b[38;5;28mself\u001b[39m[key]\n\u001b[1;32m     86\u001b[0m \u001b[38;5;28;01mexcept\u001b[39;00m \u001b[38;5;167;01mKeyError\u001b[39;00m:\n\u001b[0;32m---> 87\u001b[0m     \u001b[38;5;28;01mraise\u001b[39;00m \u001b[38;5;167;01mAttributeError\u001b[39;00m(\n\u001b[1;32m     88\u001b[0m         \u001b[38;5;124mf\u001b[39m\u001b[38;5;124m\"\u001b[39m\u001b[38;5;124m'\u001b[39m\u001b[38;5;132;01m{\u001b[39;00m\u001b[38;5;28mself\u001b[39m\u001b[38;5;241m.\u001b[39m\u001b[38;5;18m__class__\u001b[39m\u001b[38;5;241m.\u001b[39m\u001b[38;5;18m__name__\u001b[39m\u001b[38;5;132;01m}\u001b[39;00m\u001b[38;5;124m'\u001b[39m\u001b[38;5;124m object has no attribute \u001b[39m\u001b[38;5;124m'\u001b[39m\u001b[38;5;132;01m{\u001b[39;00mkey\u001b[38;5;132;01m}\u001b[39;00m\u001b[38;5;124m'\u001b[39m\u001b[38;5;124m\"\u001b[39m\n\u001b[1;32m     89\u001b[0m     ) \u001b[38;5;28;01mfrom\u001b[39;00m \u001b[38;5;28;01mNone\u001b[39;00m\n",
      "\u001b[0;31mAttributeError\u001b[0m: 'GlobalStorage' object has no attribute 'branch_length'"
     ]
    }
   ],
   "source": [
    "data_objects = [tree_to_data_objects(tree, norm_factor=10_000, num_embedding=60) for tree in trees]"
   ]
  },
  {
   "cell_type": "code",
   "execution_count": null,
   "id": "159e01a6-db9b-4bce-9ac9-75f2f90b9688",
   "metadata": {},
   "outputs": [],
   "source": []
  },
  {
   "cell_type": "code",
   "execution_count": null,
   "id": "ae5b3bc0-161b-421b-9561-1c595d0c0599",
   "metadata": {},
   "outputs": [],
   "source": []
  },
  {
   "cell_type": "code",
   "execution_count": 152,
   "id": "d786bbb0-5b00-4543-9648-e6dacd1d5736",
   "metadata": {},
   "outputs": [],
   "source": [
    "data_objects = [tree_to_data_objects(tree, norm_factor=10_000, num_embedding=60) for tree in trees]"
   ]
  },
  {
   "cell_type": "code",
   "execution_count": 140,
   "id": "d7fd4188-e9f5-44e1-b9e7-1659fa04dc02",
   "metadata": {},
   "outputs": [],
   "source": [
    "data_objects = [tree_to_data_objects(tree, norm_factor=1_000_000, num_embedding=60) for tree in trees]"
   ]
  },
  {
   "cell_type": "code",
   "execution_count": 155,
   "id": "2f06e8c5-df95-49d9-9396-5439a7491408",
   "metadata": {},
   "outputs": [],
   "source": [
    "edge_weights = [d.edge_weight.sum().item() for d in data_objects]"
   ]
  },
  {
   "cell_type": "code",
   "execution_count": 159,
   "id": "06e655b7-1f16-485e-b095-46bb79fff7c8",
   "metadata": {},
   "outputs": [
    {
     "data": {
      "text/plain": [
       "<Axes: >"
      ]
     },
     "execution_count": 159,
     "metadata": {},
     "output_type": "execute_result"
    },
    {
     "data": {
      "image/png": "[encoded data removed]",
      "text/plain": [
       "<Figure size 640x480 with 1 Axes>"
      ]
     },
     "metadata": {},
     "output_type": "display_data"
    }
   ],
   "source": [
    "sns.lineplot(edge_weights)"
   ]
  },
  {
   "cell_type": "code",
   "execution_count": null,
   "id": "f975dca8-111b-4ae2-ba62-566e4d3fe192",
   "metadata": {},
   "outputs": [],
   "source": []
  },
  {
   "cell_type": "code",
   "execution_count": 82,
   "id": "d2b55658-4164-4b21-9394-10cc0fdee9e1",
   "metadata": {},
   "outputs": [],
   "source": [
    "#torch.exp(data_object.edge_weight).numpy().tolist()"
   ]
  },
  {
   "cell_type": "code",
   "execution_count": 27,
   "id": "c91c8ab9-3b84-4f12-bd3d-0a8149cefe03",
   "metadata": {},
   "outputs": [],
   "source": []
  },
  {
   "cell_type": "code",
   "execution_count": 20,
   "id": "fdc2d313-a328-4953-93dc-1a3357eb9bc4",
   "metadata": {
    "tags": []
   },
   "outputs": [
    {
     "name": "stdout",
     "output_type": "stream",
     "text": [
      "0 {'model': ('kingman', None), 'sequence_length': 4000000, 'selection_coefficient': 0.751, 'selection_type': 'strong'}\n",
      "1 {'model': ('beta', 1.84), 'sequence_length': 16000000, 'selection_coefficient': 0, 'selection_type': None}\n",
      "2 {'model': ('kingman', None), 'sequence_length': 1000000, 'selection_coefficient': 0.006, 'selection_type': 'weak'}\n",
      "3 {'model': ('beta', 1.07), 'sequence_length': 2048000000, 'selection_coefficient': 0, 'selection_type': None}\n",
      "4 {'model': ('kingman', None), 'sequence_length': 2000000, 'selection_coefficient': 0.036, 'selection_type': 'medium'}\n",
      "5 {'model': ('beta', 1.38), 'sequence_length': 512000000, 'selection_coefficient': 0, 'selection_type': None}\n",
      "6 {'model': ('kingman', None), 'sequence_length': 2000000, 'selection_coefficient': 0.053, 'selection_type': 'medium'}\n",
      "7 {'model': ('beta', 1.27), 'sequence_length': 2048000000, 'selection_coefficient': 0, 'selection_type': None}\n",
      "8 {'model': ('kingman', None), 'sequence_length': 2000000, 'selection_coefficient': 0.069, 'selection_type': 'medium'}\n",
      "9 {'model': ('beta', 1.96), 'sequence_length': 32000000, 'selection_coefficient': 0, 'selection_type': None}\n",
      "10 {'model': ('kingman', None), 'sequence_length': 1000000, 'selection_coefficient': 0.004, 'selection_type': 'weak'}\n",
      "11 {'model': ('beta', 1.58), 'sequence_length': 256000000, 'selection_coefficient': 0, 'selection_type': None}\n",
      "12 {'model': ('kingman', None), 'sequence_length': 2000000, 'selection_coefficient': 0.01, 'selection_type': 'weak'}\n",
      "13 {'model': ('beta', 1.34), 'sequence_length': 512000000, 'selection_coefficient': 0, 'selection_type': None}\n",
      "14 {'model': ('kingman', None), 'sequence_length': 4000000, 'selection_coefficient': 0.688, 'selection_type': 'strong'}\n",
      "15 {'model': ('beta', 1.38), 'sequence_length': 512000000, 'selection_coefficient': 0, 'selection_type': None}\n",
      "16 {'model': ('kingman', None), 'sequence_length': 1000000, 'selection_coefficient': 0, 'selection_type': 'none'}\n",
      "17 {'model': ('beta', 1.84), 'sequence_length': 32000000, 'selection_coefficient': 0, 'selection_type': None}\n",
      "18 {'model': ('kingman', None), 'sequence_length': 4000000, 'selection_coefficient': 0.593, 'selection_type': 'strong'}\n",
      "19 {'model': ('beta', 1.97), 'sequence_length': 32000000, 'selection_coefficient': 0, 'selection_type': None}\n",
      "20 {'model': ('kingman', None), 'sequence_length': 1000000, 'selection_coefficient': 0, 'selection_type': 'none'}\n",
      "21 {'model': ('beta', 1.34), 'sequence_length': 512000000, 'selection_coefficient': 0, 'selection_type': None}\n",
      "22 {'model': ('kingman', None), 'sequence_length': 4000000, 'selection_coefficient': 0.631, 'selection_type': 'strong'}\n"
     ]
    },
    {
     "ename": "KeyboardInterrupt",
     "evalue": "",
     "output_type": "error",
     "traceback": [
      "\u001b[0;31m---------------------------------------------------------------------------\u001b[0m",
      "\u001b[0;31mKeyboardInterrupt\u001b[0m                         Traceback (most recent call last)",
      "Cell \u001b[0;32mIn[20], line 55\u001b[0m\n\u001b[1;32m     53\u001b[0m     model_beta \u001b[38;5;241m=\u001b[39m get_beta_model(alpha)\n\u001b[1;32m     54\u001b[0m     tree_sequences \u001b[38;5;241m=\u001b[39m simulate_tree_sequence(L, model_beta, \u001b[38;5;241m1\u001b[39m\u001b[38;5;241m+\u001b[39mnth_scenario\u001b[38;5;241m*\u001b[39m\u001b[38;5;241m10\u001b[39m, num_replicates\u001b[38;5;241m=\u001b[39m\u001b[38;5;241m1\u001b[39m)\n\u001b[0;32m---> 55\u001b[0m     tree_sequences \u001b[38;5;241m=\u001b[39m \u001b[43m[\u001b[49m\u001b[43mreinferts\u001b[49m\u001b[43m(\u001b[49m\u001b[43mts\u001b[49m\u001b[43m)\u001b[49m\u001b[43m \u001b[49m\u001b[38;5;28;43;01mfor\u001b[39;49;00m\u001b[43m \u001b[49m\u001b[43mts\u001b[49m\u001b[43m \u001b[49m\u001b[38;5;129;43;01min\u001b[39;49;00m\u001b[43m \u001b[49m\u001b[43mtree_sequences\u001b[49m\u001b[43m]\u001b[49m\n\u001b[1;32m     57\u001b[0m     num_ts_above_1999 \u001b[38;5;241m=\u001b[39m np\u001b[38;5;241m.\u001b[39msum([\u001b[38;5;241m1\u001b[39m \u001b[38;5;28;01mif\u001b[39;00m ts\u001b[38;5;241m.\u001b[39mnum_trees \u001b[38;5;241m>\u001b[39m\u001b[38;5;241m=\u001b[39m \u001b[38;5;241m1000\u001b[39m \u001b[38;5;28;01melse\u001b[39;00m \u001b[38;5;241m0\u001b[39m \u001b[38;5;28;01mfor\u001b[39;00m ts \u001b[38;5;129;01min\u001b[39;00m tree_sequences])\n\u001b[1;32m     60\u001b[0m c \u001b[38;5;241m=\u001b[39m \u001b[38;5;241m0\u001b[39m\n",
      "Cell \u001b[0;32mIn[20], line 55\u001b[0m, in \u001b[0;36m<listcomp>\u001b[0;34m(.0)\u001b[0m\n\u001b[1;32m     53\u001b[0m     model_beta \u001b[38;5;241m=\u001b[39m get_beta_model(alpha)\n\u001b[1;32m     54\u001b[0m     tree_sequences \u001b[38;5;241m=\u001b[39m simulate_tree_sequence(L, model_beta, \u001b[38;5;241m1\u001b[39m\u001b[38;5;241m+\u001b[39mnth_scenario\u001b[38;5;241m*\u001b[39m\u001b[38;5;241m10\u001b[39m, num_replicates\u001b[38;5;241m=\u001b[39m\u001b[38;5;241m1\u001b[39m)\n\u001b[0;32m---> 55\u001b[0m     tree_sequences \u001b[38;5;241m=\u001b[39m [\u001b[43mreinferts\u001b[49m\u001b[43m(\u001b[49m\u001b[43mts\u001b[49m\u001b[43m)\u001b[49m \u001b[38;5;28;01mfor\u001b[39;00m ts \u001b[38;5;129;01min\u001b[39;00m tree_sequences]\n\u001b[1;32m     57\u001b[0m     num_ts_above_1999 \u001b[38;5;241m=\u001b[39m np\u001b[38;5;241m.\u001b[39msum([\u001b[38;5;241m1\u001b[39m \u001b[38;5;28;01mif\u001b[39;00m ts\u001b[38;5;241m.\u001b[39mnum_trees \u001b[38;5;241m>\u001b[39m\u001b[38;5;241m=\u001b[39m \u001b[38;5;241m1000\u001b[39m \u001b[38;5;28;01melse\u001b[39;00m \u001b[38;5;241m0\u001b[39m \u001b[38;5;28;01mfor\u001b[39;00m ts \u001b[38;5;129;01min\u001b[39;00m tree_sequences])\n\u001b[1;32m     60\u001b[0m c \u001b[38;5;241m=\u001b[39m \u001b[38;5;241m0\u001b[39m\n",
      "Cell \u001b[0;32mIn[17], line 6\u001b[0m, in \u001b[0;36mreinferts\u001b[0;34m(ts, mutation_rate, recombination_rate)\u001b[0m\n\u001b[1;32m      4\u001b[0m     ts \u001b[38;5;241m=\u001b[39m msprime\u001b[38;5;241m.\u001b[39mmutate(ts, rate\u001b[38;5;241m=\u001b[39mmutation_rate)\n\u001b[1;32m      5\u001b[0m     \u001b[38;5;28mprint\u001b[39m(ts\u001b[38;5;241m.\u001b[39mnum_mutations)\n\u001b[0;32m----> 6\u001b[0m sample_data \u001b[38;5;241m=\u001b[39m \u001b[43mtsinfer\u001b[49m\u001b[38;5;241;43m.\u001b[39;49m\u001b[43mSampleData\u001b[49m\u001b[38;5;241;43m.\u001b[39;49m\u001b[43mfrom_tree_sequence\u001b[49m\u001b[43m(\u001b[49m\u001b[43mts\u001b[49m\u001b[43m,\u001b[49m\u001b[43m \u001b[49m\u001b[43mnum_flush_threads\u001b[49m\u001b[38;5;241;43m=\u001b[39;49m\u001b[38;5;241;43m4\u001b[39;49m\u001b[43m,\u001b[49m\u001b[43m \u001b[49m\u001b[43muse_sites_time\u001b[49m\u001b[38;5;241;43m=\u001b[39;49m\u001b[38;5;28;43;01mFalse\u001b[39;49;00m\u001b[43m,\u001b[49m\u001b[43m \u001b[49m\u001b[43muse_individuals_time\u001b[49m\u001b[38;5;241;43m=\u001b[39;49m\u001b[38;5;28;43;01mFalse\u001b[39;49;00m\u001b[43m)\u001b[49m\n\u001b[1;32m      7\u001b[0m ts \u001b[38;5;241m=\u001b[39m tsinfer\u001b[38;5;241m.\u001b[39minfer(sample_data, post_process\u001b[38;5;241m=\u001b[39m\u001b[38;5;124m\"\u001b[39m\u001b[38;5;124msimplify\u001b[39m\u001b[38;5;124m\"\u001b[39m, recombination_rate\u001b[38;5;241m=\u001b[39mrecombination_rate)\u001b[38;5;241m.\u001b[39msimplify(keep_unary\u001b[38;5;241m=\u001b[39m\u001b[38;5;28;01mFalse\u001b[39;00m)\n\u001b[1;32m      8\u001b[0m ts \u001b[38;5;241m=\u001b[39m tsdate\u001b[38;5;241m.\u001b[39mdate(ts, Ne\u001b[38;5;241m=\u001b[39m\u001b[38;5;241m100_000\u001b[39m, mutation_rate\u001b[38;5;241m=\u001b[39mmutation_rate)\n",
      "File \u001b[0;32m~/miniconda3/envs/dl15/lib/python3.11/site-packages/tsinfer/formats.py:1607\u001b[0m, in \u001b[0;36mSampleData.from_tree_sequence\u001b[0;34m(cls, ts, use_sites_time, use_individuals_time, **kwargs)\u001b[0m\n\u001b[1;32m   1605\u001b[0m         \u001b[38;5;28;01mif\u001b[39;00m \u001b[38;5;28mlen\u001b[39m(v\u001b[38;5;241m.\u001b[39msite\u001b[38;5;241m.\u001b[39mmutations) \u001b[38;5;241m==\u001b[39m \u001b[38;5;241m1\u001b[39m:\n\u001b[1;32m   1606\u001b[0m             variant_time \u001b[38;5;241m=\u001b[39m ts\u001b[38;5;241m.\u001b[39mnode(v\u001b[38;5;241m.\u001b[39msite\u001b[38;5;241m.\u001b[39mmutations[\u001b[38;5;241m0\u001b[39m]\u001b[38;5;241m.\u001b[39mnode)\u001b[38;5;241m.\u001b[39mtime\n\u001b[0;32m-> 1607\u001b[0m     \u001b[38;5;28;43mself\u001b[39;49m\u001b[38;5;241;43m.\u001b[39;49m\u001b[43madd_site\u001b[49m\u001b[43m(\u001b[49m\n\u001b[1;32m   1608\u001b[0m \u001b[43m        \u001b[49m\u001b[43mv\u001b[49m\u001b[38;5;241;43m.\u001b[39;49m\u001b[43msite\u001b[49m\u001b[38;5;241;43m.\u001b[39;49m\u001b[43mposition\u001b[49m\u001b[43m,\u001b[49m\n\u001b[1;32m   1609\u001b[0m \u001b[43m        \u001b[49m\u001b[43mv\u001b[49m\u001b[38;5;241;43m.\u001b[39;49m\u001b[43mgenotypes\u001b[49m\u001b[43m,\u001b[49m\n\u001b[1;32m   1610\u001b[0m \u001b[43m        \u001b[49m\u001b[43mv\u001b[49m\u001b[38;5;241;43m.\u001b[39;49m\u001b[43malleles\u001b[49m\u001b[43m,\u001b[49m\n\u001b[1;32m   1611\u001b[0m \u001b[43m        \u001b[49m\u001b[43mmetadata\u001b[49m\u001b[38;5;241;43m=\u001b[39;49m\u001b[43mencode_metadata\u001b[49m\u001b[43m(\u001b[49m\u001b[43mv\u001b[49m\u001b[38;5;241;43m.\u001b[39;49m\u001b[43msite\u001b[49m\u001b[38;5;241;43m.\u001b[39;49m\u001b[43mmetadata\u001b[49m\u001b[43m,\u001b[49m\u001b[43m \u001b[49m\u001b[43mschema\u001b[49m\u001b[43m)\u001b[49m\u001b[43m,\u001b[49m\n\u001b[1;32m   1612\u001b[0m \u001b[43m        \u001b[49m\u001b[43mtime\u001b[49m\u001b[38;5;241;43m=\u001b[39;49m\u001b[43mvariant_time\u001b[49m\u001b[43m,\u001b[49m\n\u001b[1;32m   1613\u001b[0m \u001b[43m    \u001b[49m\u001b[43m)\u001b[49m\n\u001b[1;32m   1614\u001b[0m \u001b[38;5;66;03m# Insert all the provenance from the original tree sequence.\u001b[39;00m\n\u001b[1;32m   1615\u001b[0m \u001b[38;5;28;01mfor\u001b[39;00m prov \u001b[38;5;129;01min\u001b[39;00m ts\u001b[38;5;241m.\u001b[39mprovenances():\n",
      "File \u001b[0;32m~/miniconda3/envs/dl15/lib/python3.11/site-packages/tsinfer/formats.py:1838\u001b[0m, in \u001b[0;36mSampleData.add_site\u001b[0;34m(self, position, genotypes, alleles, metadata, inference, time, ancestral_allele)\u001b[0m\n\u001b[1;32m   1836\u001b[0m \u001b[38;5;28;01mif\u001b[39;00m np\u001b[38;5;241m.\u001b[39many(np\u001b[38;5;241m.\u001b[39mlogical_and(genotypes \u001b[38;5;241m<\u001b[39m \u001b[38;5;241m0\u001b[39m, genotypes \u001b[38;5;241m!=\u001b[39m MISSING_DATA)):\n\u001b[1;32m   1837\u001b[0m     \u001b[38;5;28;01mraise\u001b[39;00m \u001b[38;5;167;01mValueError\u001b[39;00m(\u001b[38;5;124m\"\u001b[39m\u001b[38;5;124mNon-missing values for genotypes cannot be negative\u001b[39m\u001b[38;5;124m\"\u001b[39m)\n\u001b[0;32m-> 1838\u001b[0m \u001b[38;5;28;01mif\u001b[39;00m genotypes\u001b[38;5;241m.\u001b[39mshape \u001b[38;5;241m!=\u001b[39m (\u001b[38;5;28;43mself\u001b[39;49m\u001b[38;5;241;43m.\u001b[39;49m\u001b[43mnum_samples\u001b[49m,):\n\u001b[1;32m   1839\u001b[0m     \u001b[38;5;28;01mraise\u001b[39;00m \u001b[38;5;167;01mValueError\u001b[39;00m(\u001b[38;5;124mf\u001b[39m\u001b[38;5;124m\"\u001b[39m\u001b[38;5;124mMust have \u001b[39m\u001b[38;5;132;01m{\u001b[39;00m\u001b[38;5;28mself\u001b[39m\u001b[38;5;241m.\u001b[39mnum_samples\u001b[38;5;132;01m}\u001b[39;00m\u001b[38;5;124m (num_samples) genotypes.\u001b[39m\u001b[38;5;124m\"\u001b[39m)\n\u001b[1;32m   1840\u001b[0m \u001b[38;5;28;01mif\u001b[39;00m np\u001b[38;5;241m.\u001b[39many(genotypes[non_missing] \u001b[38;5;241m>\u001b[39m\u001b[38;5;241m=\u001b[39m n_alleles):\n",
      "File \u001b[0;32m~/miniconda3/envs/dl15/lib/python3.11/site-packages/tsinfer/formats.py:1159\u001b[0m, in \u001b[0;36mSampleData.num_samples\u001b[0;34m(self)\u001b[0m\n\u001b[1;32m   1157\u001b[0m \u001b[38;5;129m@property\u001b[39m\n\u001b[1;32m   1158\u001b[0m \u001b[38;5;28;01mdef\u001b[39;00m \u001b[38;5;21mnum_samples\u001b[39m(\u001b[38;5;28mself\u001b[39m):\n\u001b[0;32m-> 1159\u001b[0m     \u001b[38;5;28;01mreturn\u001b[39;00m \u001b[38;5;28;43mself\u001b[39;49m\u001b[38;5;241;43m.\u001b[39;49m\u001b[43msamples_individual\u001b[49m\u001b[38;5;241m.\u001b[39mshape[\u001b[38;5;241m0\u001b[39m]\n",
      "File \u001b[0;32m~/miniconda3/envs/dl15/lib/python3.11/site-packages/tsinfer/formats.py:1195\u001b[0m, in \u001b[0;36mSampleData.samples_individual\u001b[0;34m(self)\u001b[0m\n\u001b[1;32m   1193\u001b[0m \u001b[38;5;129m@property\u001b[39m\n\u001b[1;32m   1194\u001b[0m \u001b[38;5;28;01mdef\u001b[39;00m \u001b[38;5;21msamples_individual\u001b[39m(\u001b[38;5;28mself\u001b[39m):\n\u001b[0;32m-> 1195\u001b[0m     \u001b[38;5;28;01mreturn\u001b[39;00m \u001b[38;5;28;43mself\u001b[39;49m\u001b[38;5;241;43m.\u001b[39;49m\u001b[43mdata\u001b[49m\u001b[43m[\u001b[49m\u001b[38;5;124;43m\"\u001b[39;49m\u001b[38;5;124;43msamples/individual\u001b[39;49m\u001b[38;5;124;43m\"\u001b[39;49m\u001b[43m]\u001b[49m\n",
      "File \u001b[0;32m~/miniconda3/envs/dl15/lib/python3.11/site-packages/zarr/hierarchy.py:462\u001b[0m, in \u001b[0;36mGroup.__getitem__\u001b[0;34m(self, item)\u001b[0m\n\u001b[1;32m    460\u001b[0m path \u001b[38;5;241m=\u001b[39m \u001b[38;5;28mself\u001b[39m\u001b[38;5;241m.\u001b[39m_item_path(item)\n\u001b[1;32m    461\u001b[0m \u001b[38;5;28;01mif\u001b[39;00m contains_array(\u001b[38;5;28mself\u001b[39m\u001b[38;5;241m.\u001b[39m_store, path):\n\u001b[0;32m--> 462\u001b[0m     \u001b[38;5;28;01mreturn\u001b[39;00m \u001b[43mArray\u001b[49m\u001b[43m(\u001b[49m\n\u001b[1;32m    463\u001b[0m \u001b[43m        \u001b[49m\u001b[38;5;28;43mself\u001b[39;49m\u001b[38;5;241;43m.\u001b[39;49m\u001b[43m_store\u001b[49m\u001b[43m,\u001b[49m\n\u001b[1;32m    464\u001b[0m \u001b[43m        \u001b[49m\u001b[43mread_only\u001b[49m\u001b[38;5;241;43m=\u001b[39;49m\u001b[38;5;28;43mself\u001b[39;49m\u001b[38;5;241;43m.\u001b[39;49m\u001b[43m_read_only\u001b[49m\u001b[43m,\u001b[49m\n\u001b[1;32m    465\u001b[0m \u001b[43m        \u001b[49m\u001b[43mpath\u001b[49m\u001b[38;5;241;43m=\u001b[39;49m\u001b[43mpath\u001b[49m\u001b[43m,\u001b[49m\n\u001b[1;32m    466\u001b[0m \u001b[43m        \u001b[49m\u001b[43mchunk_store\u001b[49m\u001b[38;5;241;43m=\u001b[39;49m\u001b[38;5;28;43mself\u001b[39;49m\u001b[38;5;241;43m.\u001b[39;49m\u001b[43m_chunk_store\u001b[49m\u001b[43m,\u001b[49m\n\u001b[1;32m    467\u001b[0m \u001b[43m        \u001b[49m\u001b[43msynchronizer\u001b[49m\u001b[38;5;241;43m=\u001b[39;49m\u001b[38;5;28;43mself\u001b[39;49m\u001b[38;5;241;43m.\u001b[39;49m\u001b[43m_synchronizer\u001b[49m\u001b[43m,\u001b[49m\n\u001b[1;32m    468\u001b[0m \u001b[43m        \u001b[49m\u001b[43mcache_attrs\u001b[49m\u001b[38;5;241;43m=\u001b[39;49m\u001b[38;5;28;43mself\u001b[39;49m\u001b[38;5;241;43m.\u001b[39;49m\u001b[43mattrs\u001b[49m\u001b[38;5;241;43m.\u001b[39;49m\u001b[43mcache\u001b[49m\u001b[43m,\u001b[49m\n\u001b[1;32m    469\u001b[0m \u001b[43m        \u001b[49m\u001b[43mzarr_version\u001b[49m\u001b[38;5;241;43m=\u001b[39;49m\u001b[38;5;28;43mself\u001b[39;49m\u001b[38;5;241;43m.\u001b[39;49m\u001b[43m_version\u001b[49m\u001b[43m,\u001b[49m\n\u001b[1;32m    470\u001b[0m \u001b[43m        \u001b[49m\u001b[43mmeta_array\u001b[49m\u001b[38;5;241;43m=\u001b[39;49m\u001b[38;5;28;43mself\u001b[39;49m\u001b[38;5;241;43m.\u001b[39;49m\u001b[43m_meta_array\u001b[49m\u001b[43m,\u001b[49m\n\u001b[1;32m    471\u001b[0m \u001b[43m    \u001b[49m\u001b[43m)\u001b[49m\n\u001b[1;32m    472\u001b[0m \u001b[38;5;28;01melif\u001b[39;00m contains_group(\u001b[38;5;28mself\u001b[39m\u001b[38;5;241m.\u001b[39m_store, path, explicit_only\u001b[38;5;241m=\u001b[39m\u001b[38;5;28;01mTrue\u001b[39;00m):\n\u001b[1;32m    473\u001b[0m     \u001b[38;5;28;01mreturn\u001b[39;00m Group(\n\u001b[1;32m    474\u001b[0m         \u001b[38;5;28mself\u001b[39m\u001b[38;5;241m.\u001b[39m_store,\n\u001b[1;32m    475\u001b[0m         read_only\u001b[38;5;241m=\u001b[39m\u001b[38;5;28mself\u001b[39m\u001b[38;5;241m.\u001b[39m_read_only,\n\u001b[0;32m   (...)\u001b[0m\n\u001b[1;32m    481\u001b[0m         meta_array\u001b[38;5;241m=\u001b[39m\u001b[38;5;28mself\u001b[39m\u001b[38;5;241m.\u001b[39m_meta_array,\n\u001b[1;32m    482\u001b[0m     )\n",
      "File \u001b[0;32m~/miniconda3/envs/dl15/lib/python3.11/site-packages/zarr/core.py:224\u001b[0m, in \u001b[0;36mArray.__init__\u001b[0;34m(self, store, path, read_only, chunk_store, synchronizer, cache_metadata, cache_attrs, partial_decompress, write_empty_chunks, zarr_version, meta_array)\u001b[0m\n\u001b[1;32m    221\u001b[0m     \u001b[38;5;28mself\u001b[39m\u001b[38;5;241m.\u001b[39m_metadata_key_suffix \u001b[38;5;241m=\u001b[39m \u001b[38;5;28mself\u001b[39m\u001b[38;5;241m.\u001b[39m_hierarchy_metadata[\u001b[38;5;124m\"\u001b[39m\u001b[38;5;124mmetadata_key_suffix\u001b[39m\u001b[38;5;124m\"\u001b[39m]\n\u001b[1;32m    223\u001b[0m \u001b[38;5;66;03m# initialize metadata\u001b[39;00m\n\u001b[0;32m--> 224\u001b[0m \u001b[38;5;28;43mself\u001b[39;49m\u001b[38;5;241;43m.\u001b[39;49m\u001b[43m_load_metadata\u001b[49m\u001b[43m(\u001b[49m\u001b[43m)\u001b[49m\n\u001b[1;32m    226\u001b[0m \u001b[38;5;66;03m# initialize attributes\u001b[39;00m\n\u001b[1;32m    227\u001b[0m akey \u001b[38;5;241m=\u001b[39m _prefix_to_attrs_key(\u001b[38;5;28mself\u001b[39m\u001b[38;5;241m.\u001b[39m_store, \u001b[38;5;28mself\u001b[39m\u001b[38;5;241m.\u001b[39m_key_prefix)\n",
      "File \u001b[0;32m~/miniconda3/envs/dl15/lib/python3.11/site-packages/zarr/core.py:243\u001b[0m, in \u001b[0;36mArray._load_metadata\u001b[0;34m(self)\u001b[0m\n\u001b[1;32m    241\u001b[0m \u001b[38;5;250m\u001b[39m\u001b[38;5;124;03m\"\"\"(Re)load metadata from store.\"\"\"\u001b[39;00m\n\u001b[1;32m    242\u001b[0m \u001b[38;5;28;01mif\u001b[39;00m \u001b[38;5;28mself\u001b[39m\u001b[38;5;241m.\u001b[39m_synchronizer \u001b[38;5;129;01mis\u001b[39;00m \u001b[38;5;28;01mNone\u001b[39;00m:\n\u001b[0;32m--> 243\u001b[0m     \u001b[38;5;28;43mself\u001b[39;49m\u001b[38;5;241;43m.\u001b[39;49m\u001b[43m_load_metadata_nosync\u001b[49m\u001b[43m(\u001b[49m\u001b[43m)\u001b[49m\n\u001b[1;32m    244\u001b[0m \u001b[38;5;28;01melse\u001b[39;00m:\n\u001b[1;32m    245\u001b[0m     mkey \u001b[38;5;241m=\u001b[39m _prefix_to_array_key(\u001b[38;5;28mself\u001b[39m\u001b[38;5;241m.\u001b[39m_store, \u001b[38;5;28mself\u001b[39m\u001b[38;5;241m.\u001b[39m_key_prefix)\n",
      "File \u001b[0;32m~/miniconda3/envs/dl15/lib/python3.11/site-packages/zarr/core.py:258\u001b[0m, in \u001b[0;36mArray._load_metadata_nosync\u001b[0;34m(self)\u001b[0m\n\u001b[1;32m    254\u001b[0m     \u001b[38;5;28;01mraise\u001b[39;00m ArrayNotFoundError(\u001b[38;5;28mself\u001b[39m\u001b[38;5;241m.\u001b[39m_path)\n\u001b[1;32m    255\u001b[0m \u001b[38;5;28;01melse\u001b[39;00m:\n\u001b[1;32m    256\u001b[0m \n\u001b[1;32m    257\u001b[0m     \u001b[38;5;66;03m# decode and store metadata as instance members\u001b[39;00m\n\u001b[0;32m--> 258\u001b[0m     meta \u001b[38;5;241m=\u001b[39m \u001b[38;5;28;43mself\u001b[39;49m\u001b[38;5;241;43m.\u001b[39;49m\u001b[43m_store\u001b[49m\u001b[38;5;241;43m.\u001b[39;49m\u001b[43m_metadata_class\u001b[49m\u001b[38;5;241;43m.\u001b[39;49m\u001b[43mdecode_array_metadata\u001b[49m\u001b[43m(\u001b[49m\u001b[43mmeta_bytes\u001b[49m\u001b[43m)\u001b[49m\n\u001b[1;32m    259\u001b[0m     \u001b[38;5;28mself\u001b[39m\u001b[38;5;241m.\u001b[39m_meta \u001b[38;5;241m=\u001b[39m meta\n\u001b[1;32m    260\u001b[0m     \u001b[38;5;28mself\u001b[39m\u001b[38;5;241m.\u001b[39m_shape \u001b[38;5;241m=\u001b[39m meta[\u001b[38;5;124m\"\u001b[39m\u001b[38;5;124mshape\u001b[39m\u001b[38;5;124m\"\u001b[39m]\n",
      "File \u001b[0;32m~/miniconda3/envs/dl15/lib/python3.11/site-packages/zarr/meta.py:110\u001b[0m, in \u001b[0;36mMetadata2.decode_array_metadata\u001b[0;34m(cls, s)\u001b[0m\n\u001b[1;32m    108\u001b[0m \u001b[38;5;129m@classmethod\u001b[39m\n\u001b[1;32m    109\u001b[0m \u001b[38;5;28;01mdef\u001b[39;00m \u001b[38;5;21mdecode_array_metadata\u001b[39m(\u001b[38;5;28mcls\u001b[39m, s: Union[MappingType, \u001b[38;5;28mbytes\u001b[39m, \u001b[38;5;28mstr\u001b[39m]) \u001b[38;5;241m-\u001b[39m\u001b[38;5;241m>\u001b[39m MappingType[\u001b[38;5;28mstr\u001b[39m, Any]:\n\u001b[0;32m--> 110\u001b[0m     meta \u001b[38;5;241m=\u001b[39m \u001b[38;5;28;43mcls\u001b[39;49m\u001b[38;5;241;43m.\u001b[39;49m\u001b[43mparse_metadata\u001b[49m\u001b[43m(\u001b[49m\u001b[43ms\u001b[49m\u001b[43m)\u001b[49m\n\u001b[1;32m    112\u001b[0m     \u001b[38;5;66;03m# check metadata format\u001b[39;00m\n\u001b[1;32m    113\u001b[0m     zarr_format \u001b[38;5;241m=\u001b[39m meta\u001b[38;5;241m.\u001b[39mget(\u001b[38;5;124m\"\u001b[39m\u001b[38;5;124mzarr_format\u001b[39m\u001b[38;5;124m\"\u001b[39m, \u001b[38;5;28;01mNone\u001b[39;00m)\n",
      "File \u001b[0;32m~/miniconda3/envs/dl15/lib/python3.11/site-packages/zarr/meta.py:104\u001b[0m, in \u001b[0;36mMetadata2.parse_metadata\u001b[0;34m(cls, s)\u001b[0m\n\u001b[1;32m    100\u001b[0m     meta \u001b[38;5;241m=\u001b[39m s\n\u001b[1;32m    102\u001b[0m \u001b[38;5;28;01melse\u001b[39;00m:\n\u001b[1;32m    103\u001b[0m     \u001b[38;5;66;03m# assume metadata needs to be parsed as JSON\u001b[39;00m\n\u001b[0;32m--> 104\u001b[0m     meta \u001b[38;5;241m=\u001b[39m \u001b[43mjson_loads\u001b[49m\u001b[43m(\u001b[49m\u001b[43ms\u001b[49m\u001b[43m)\u001b[49m\n\u001b[1;32m    106\u001b[0m \u001b[38;5;28;01mreturn\u001b[39;00m meta\n",
      "File \u001b[0;32m~/miniconda3/envs/dl15/lib/python3.11/site-packages/zarr/util.py:75\u001b[0m, in \u001b[0;36mjson_loads\u001b[0;34m(s)\u001b[0m\n\u001b[1;32m     73\u001b[0m \u001b[38;5;28;01mdef\u001b[39;00m \u001b[38;5;21mjson_loads\u001b[39m(s: Union[\u001b[38;5;28mbytes\u001b[39m, \u001b[38;5;28mstr\u001b[39m]) \u001b[38;5;241m-\u001b[39m\u001b[38;5;241m>\u001b[39m Dict[\u001b[38;5;28mstr\u001b[39m, Any]:\n\u001b[1;32m     74\u001b[0m \u001b[38;5;250m    \u001b[39m\u001b[38;5;124;03m\"\"\"Read JSON in a consistent way.\"\"\"\u001b[39;00m\n\u001b[0;32m---> 75\u001b[0m     \u001b[38;5;28;01mreturn\u001b[39;00m json\u001b[38;5;241m.\u001b[39mloads(\u001b[43mensure_text\u001b[49m\u001b[43m(\u001b[49m\u001b[43ms\u001b[49m\u001b[43m,\u001b[49m\u001b[43m \u001b[49m\u001b[38;5;124;43m\"\u001b[39;49m\u001b[38;5;124;43mutf-8\u001b[39;49m\u001b[38;5;124;43m\"\u001b[39;49m\u001b[43m)\u001b[49m)\n",
      "File \u001b[0;32m~/miniconda3/envs/dl15/lib/python3.11/site-packages/numcodecs/compat.py:180\u001b[0m, in \u001b[0;36mensure_text\u001b[0;34m(s, encoding)\u001b[0m\n\u001b[1;32m    178\u001b[0m \u001b[38;5;28;01mdef\u001b[39;00m \u001b[38;5;21mensure_text\u001b[39m(s, encoding\u001b[38;5;241m=\u001b[39m\u001b[38;5;124m\"\u001b[39m\u001b[38;5;124mutf-8\u001b[39m\u001b[38;5;124m\"\u001b[39m):\n\u001b[1;32m    179\u001b[0m     \u001b[38;5;28;01mif\u001b[39;00m \u001b[38;5;129;01mnot\u001b[39;00m \u001b[38;5;28misinstance\u001b[39m(s, \u001b[38;5;28mstr\u001b[39m):\n\u001b[0;32m--> 180\u001b[0m         s \u001b[38;5;241m=\u001b[39m \u001b[43mensure_contiguous_ndarray\u001b[49m\u001b[43m(\u001b[49m\u001b[43ms\u001b[49m\u001b[43m)\u001b[49m\n\u001b[1;32m    181\u001b[0m         s \u001b[38;5;241m=\u001b[39m codecs\u001b[38;5;241m.\u001b[39mdecode(s, encoding)\n\u001b[1;32m    182\u001b[0m     \u001b[38;5;28;01mreturn\u001b[39;00m s\n",
      "File \u001b[0;32m~/miniconda3/envs/dl15/lib/python3.11/site-packages/numcodecs/compat.py:155\u001b[0m, in \u001b[0;36mensure_contiguous_ndarray\u001b[0;34m(buf, max_buffer_size, flatten)\u001b[0m\n\u001b[1;32m    126\u001b[0m \u001b[38;5;28;01mdef\u001b[39;00m \u001b[38;5;21mensure_contiguous_ndarray\u001b[39m(buf, max_buffer_size\u001b[38;5;241m=\u001b[39m\u001b[38;5;28;01mNone\u001b[39;00m, flatten\u001b[38;5;241m=\u001b[39m\u001b[38;5;28;01mTrue\u001b[39;00m) \u001b[38;5;241m-\u001b[39m\u001b[38;5;241m>\u001b[39m np\u001b[38;5;241m.\u001b[39marray:\n\u001b[1;32m    127\u001b[0m \u001b[38;5;250m    \u001b[39m\u001b[38;5;124;03m\"\"\"Convenience function to coerce `buf` to a numpy array, if it is not already a\u001b[39;00m\n\u001b[1;32m    128\u001b[0m \u001b[38;5;124;03m    numpy array. Also ensures that the returned value exports fully contiguous memory,\u001b[39;00m\n\u001b[1;32m    129\u001b[0m \u001b[38;5;124;03m    and supports the new-style buffer interface. If the optional max_buffer_size is\u001b[39;00m\n\u001b[0;32m   (...)\u001b[0m\n\u001b[1;32m    151\u001b[0m \u001b[38;5;124;03m    return a view on memory exported by `buf`.\u001b[39;00m\n\u001b[1;32m    152\u001b[0m \u001b[38;5;124;03m    \"\"\"\u001b[39;00m\n\u001b[1;32m    154\u001b[0m     \u001b[38;5;28;01mreturn\u001b[39;00m ensure_ndarray(\n\u001b[0;32m--> 155\u001b[0m         \u001b[43mensure_contiguous_ndarray_like\u001b[49m\u001b[43m(\u001b[49m\n\u001b[1;32m    156\u001b[0m \u001b[43m            \u001b[49m\u001b[43mbuf\u001b[49m\u001b[43m,\u001b[49m\u001b[43m \u001b[49m\u001b[43mmax_buffer_size\u001b[49m\u001b[38;5;241;43m=\u001b[39;49m\u001b[43mmax_buffer_size\u001b[49m\u001b[43m,\u001b[49m\u001b[43m \u001b[49m\u001b[43mflatten\u001b[49m\u001b[38;5;241;43m=\u001b[39;49m\u001b[43mflatten\u001b[49m\n\u001b[1;32m    157\u001b[0m \u001b[43m        \u001b[49m\u001b[43m)\u001b[49m\n\u001b[1;32m    158\u001b[0m     )\n",
      "File \u001b[0;32m~/miniconda3/envs/dl15/lib/python3.11/site-packages/numcodecs/compat.py:100\u001b[0m, in \u001b[0;36mensure_contiguous_ndarray_like\u001b[0;34m(buf, max_buffer_size, flatten)\u001b[0m\n\u001b[1;32m     70\u001b[0m \u001b[38;5;28;01mdef\u001b[39;00m \u001b[38;5;21mensure_contiguous_ndarray_like\u001b[39m(\n\u001b[1;32m     71\u001b[0m     buf, max_buffer_size\u001b[38;5;241m=\u001b[39m\u001b[38;5;28;01mNone\u001b[39;00m, flatten\u001b[38;5;241m=\u001b[39m\u001b[38;5;28;01mTrue\u001b[39;00m\n\u001b[1;32m     72\u001b[0m ) \u001b[38;5;241m-\u001b[39m\u001b[38;5;241m>\u001b[39m NDArrayLike:\n\u001b[1;32m     73\u001b[0m \u001b[38;5;250m    \u001b[39m\u001b[38;5;124;03m\"\"\"Convenience function to coerce `buf` to ndarray-like array.\u001b[39;00m\n\u001b[1;32m     74\u001b[0m \u001b[38;5;124;03m    Also ensures that the returned value exports fully contiguous memory,\u001b[39;00m\n\u001b[1;32m     75\u001b[0m \u001b[38;5;124;03m    and supports the new-style buffer interface. If the optional max_buffer_size is\u001b[39;00m\n\u001b[0;32m   (...)\u001b[0m\n\u001b[1;32m     98\u001b[0m \u001b[38;5;124;03m    return a view on memory exported by `buf`.\u001b[39;00m\n\u001b[1;32m     99\u001b[0m \u001b[38;5;124;03m    \"\"\"\u001b[39;00m\n\u001b[0;32m--> 100\u001b[0m     arr \u001b[38;5;241m=\u001b[39m \u001b[43mensure_ndarray_like\u001b[49m\u001b[43m(\u001b[49m\u001b[43mbuf\u001b[49m\u001b[43m)\u001b[49m\n\u001b[1;32m    102\u001b[0m     \u001b[38;5;66;03m# check for object arrays, these are just memory pointers, actual memory holding\u001b[39;00m\n\u001b[1;32m    103\u001b[0m     \u001b[38;5;66;03m# item data is scattered elsewhere\u001b[39;00m\n\u001b[1;32m    104\u001b[0m     \u001b[38;5;28;01mif\u001b[39;00m arr\u001b[38;5;241m.\u001b[39mdtype \u001b[38;5;241m==\u001b[39m \u001b[38;5;28mobject\u001b[39m:\n",
      "File \u001b[0;32m~/miniconda3/envs/dl15/lib/python3.11/site-packages/numcodecs/compat.py:33\u001b[0m, in \u001b[0;36mensure_ndarray_like\u001b[0;34m(buf)\u001b[0m\n\u001b[1;32m     13\u001b[0m \u001b[38;5;28;01mdef\u001b[39;00m \u001b[38;5;21mensure_ndarray_like\u001b[39m(buf) \u001b[38;5;241m-\u001b[39m\u001b[38;5;241m>\u001b[39m NDArrayLike:\n\u001b[1;32m     14\u001b[0m \u001b[38;5;250m    \u001b[39m\u001b[38;5;124;03m\"\"\"Convenience function to coerce `buf` to ndarray-like array.\u001b[39;00m\n\u001b[1;32m     15\u001b[0m \n\u001b[1;32m     16\u001b[0m \u001b[38;5;124;03m    Parameters\u001b[39;00m\n\u001b[0;32m   (...)\u001b[0m\n\u001b[1;32m     30\u001b[0m \u001b[38;5;124;03m    return a view on memory exported by `buf`.\u001b[39;00m\n\u001b[1;32m     31\u001b[0m \u001b[38;5;124;03m    \"\"\"\u001b[39;00m\n\u001b[0;32m---> 33\u001b[0m     \u001b[38;5;28;01mif\u001b[39;00m \u001b[38;5;129;01mnot\u001b[39;00m \u001b[43mis_ndarray_like\u001b[49m\u001b[43m(\u001b[49m\u001b[43mbuf\u001b[49m\u001b[43m)\u001b[49m:\n\u001b[1;32m     34\u001b[0m         \u001b[38;5;28;01mif\u001b[39;00m \u001b[38;5;28misinstance\u001b[39m(buf, array\u001b[38;5;241m.\u001b[39marray) \u001b[38;5;129;01mand\u001b[39;00m buf\u001b[38;5;241m.\u001b[39mtypecode \u001b[38;5;129;01min\u001b[39;00m \u001b[38;5;124m\"\u001b[39m\u001b[38;5;124mcu\u001b[39m\u001b[38;5;124m\"\u001b[39m:\n\u001b[1;32m     35\u001b[0m             \u001b[38;5;66;03m# Guard condition, do not support array.array with unicode type, this is\u001b[39;00m\n\u001b[1;32m     36\u001b[0m             \u001b[38;5;66;03m# problematic because numpy does not support it on all platforms. Also do not\u001b[39;00m\n\u001b[1;32m     37\u001b[0m             \u001b[38;5;66;03m# support char as it was removed in Python 3.\u001b[39;00m\n\u001b[1;32m     38\u001b[0m             \u001b[38;5;28;01mraise\u001b[39;00m \u001b[38;5;167;01mTypeError\u001b[39;00m(\u001b[38;5;124m\"\u001b[39m\u001b[38;5;124marray.array with char or unicode type is not supported\u001b[39m\u001b[38;5;124m\"\u001b[39m)\n",
      "File \u001b[0;32m~/miniconda3/envs/dl15/lib/python3.11/site-packages/numcodecs/ndarray_like.py:70\u001b[0m, in \u001b[0;36mis_ndarray_like\u001b[0;34m(obj)\u001b[0m\n\u001b[1;32m     68\u001b[0m \u001b[38;5;28;01mdef\u001b[39;00m \u001b[38;5;21mis_ndarray_like\u001b[39m(obj: \u001b[38;5;28mobject\u001b[39m) \u001b[38;5;241m-\u001b[39m\u001b[38;5;241m>\u001b[39m \u001b[38;5;28mbool\u001b[39m:\n\u001b[1;32m     69\u001b[0m \u001b[38;5;250m    \u001b[39m\u001b[38;5;124;03m\"\"\"Return True when `obj` is ndarray-like\"\"\"\u001b[39;00m\n\u001b[0;32m---> 70\u001b[0m     \u001b[38;5;28;01mreturn\u001b[39;00m \u001b[38;5;28misinstance\u001b[39m(obj, NDArrayLike)\n",
      "File \u001b[0;32m~/miniconda3/envs/dl15/lib/python3.11/site-packages/numcodecs/ndarray_like.py:17\u001b[0m, in \u001b[0;36m_CachedProtocolMeta.__instancecheck__\u001b[0;34m(self, instance)\u001b[0m\n\u001b[1;32m     15\u001b[0m \u001b[38;5;28;01mdef\u001b[39;00m \u001b[38;5;21m__instancecheck__\u001b[39m(\u001b[38;5;28mself\u001b[39m, instance):\n\u001b[1;32m     16\u001b[0m     key \u001b[38;5;241m=\u001b[39m (\u001b[38;5;28mself\u001b[39m, instance\u001b[38;5;241m.\u001b[39m\u001b[38;5;18m__class__\u001b[39m)\n\u001b[0;32m---> 17\u001b[0m     ret \u001b[38;5;241m=\u001b[39m \u001b[38;5;28mself\u001b[39m\u001b[38;5;241m.\u001b[39m_instancecheck_cache\u001b[38;5;241m.\u001b[39mget(key)\n\u001b[1;32m     18\u001b[0m     \u001b[38;5;28;01mif\u001b[39;00m ret \u001b[38;5;129;01mis\u001b[39;00m \u001b[38;5;28;01mNone\u001b[39;00m:\n\u001b[1;32m     19\u001b[0m         ret \u001b[38;5;241m=\u001b[39m \u001b[38;5;28msuper\u001b[39m()\u001b[38;5;241m.\u001b[39m\u001b[38;5;21m__instancecheck__\u001b[39m(instance)\n",
      "\u001b[0;31mKeyboardInterrupt\u001b[0m: "
     ]
    }
   ],
   "source": [
    "np.random.seed(0x999999)\n",
    "directory = \"./inf_validation_classification_dataset/\"\n",
    "\n",
    "\n",
    "for nth_scenario in range(10_000):\n",
    "\n",
    "    if nth_scenario % 2 == 0:\n",
    "    \n",
    "    \n",
    "        L = 1_000_000\n",
    "        s, selection_type = sample_selection_coefficient()\n",
    "\n",
    "        model_kingman = get_kingman_model(s, L)\n",
    "        tree_sequences = simulate_tree_sequence(L, model_kingman, 1+nth_scenario*10, num_replicates=1)\n",
    "        tree_sequences = [reinferts(ts) for ts in tree_sequences]\n",
    "        num_ts_above_1999 = np.sum([1 if ts.num_trees >= 1000 else 0 for ts in tree_sequences])\n",
    "\n",
    "        while num_ts_above_1999 < 1:\n",
    "            L = L*2\n",
    "            #print(L)\n",
    "            model_kingman = get_kingman_model(s, L)\n",
    "            tree_sequences = simulate_tree_sequence(L, model_kingman, 1+nth_scenario*10, num_replicates=1)\n",
    "            tree_sequences = [reinferts(ts) for ts in tree_sequences]\n",
    "            \n",
    "            num_ts_above_1999 = np.sum([1 if ts.num_trees >= 1000 else 0 for ts in tree_sequences])\n",
    "\n",
    "\n",
    "\n",
    "        \n",
    "        c = 0\n",
    "        for j, ts in enumerate(tree_sequences):\n",
    "\n",
    "            if ts.num_trees >= 1000 and c < 1:\n",
    "                y_dict = {\"model\": (\"kingman\", None), \"sequence_length\":L, \"selection_coefficient\":s, \"selection_type\":selection_type}\n",
    "                torch.save((ts, y_dict),  open(str(directory) + \"kingman_\" + str(nth_scenario) + \"_\" + str(j) + \".pth\", \"wb\"))\n",
    "                c += 1\n",
    "                \n",
    "    else:\n",
    "        \n",
    "        L = 1_000_000\n",
    "        \n",
    "        alpha = np.round(np.random.uniform(1.01, 1.99), 2)\n",
    "        model_beta = get_beta_model(alpha)\n",
    "        \n",
    "        tree_sequences = simulate_tree_sequence(L, model_beta, 1+nth_scenario*10, num_replicates=1)\n",
    "        tree_sequences = [reinferts(ts) for ts in tree_sequences]\n",
    "\n",
    "        num_ts_above_1999 = np.sum([1 if ts.num_trees >= 1000 else 0 for ts in tree_sequences])\n",
    "\n",
    "        while num_ts_above_1999 < 1:\n",
    "            L = L*2\n",
    "            #print(L, num_ts_above_1999)\n",
    "            model_beta = get_beta_model(alpha)\n",
    "            tree_sequences = simulate_tree_sequence(L, model_beta, 1+nth_scenario*10, num_replicates=1)\n",
    "            tree_sequences = [reinferts(ts) for ts in tree_sequences]\n",
    "            \n",
    "            num_ts_above_1999 = np.sum([1 if ts.num_trees >= 1000 else 0 for ts in tree_sequences])\n",
    "\n",
    "\n",
    "        c = 0\n",
    "        for j, ts in enumerate(tree_sequences):\n",
    "\n",
    "            if ts.num_trees >= 1000 and c < 1:\n",
    "                y_dict = {\"model\": (\"beta\", alpha), \"sequence_length\":L, \"selection_coefficient\":0, \"selection_type\":None}\n",
    "                torch.save((ts, y_dict),  open(str(directory) + \"beta_\" + str(nth_scenario) + \"_\" + str(j) + \".pth\", \"wb\"))\n",
    "                c += 1\n",
    "\n",
    "    print(nth_scenario, y_dict)"
   ]
  },
  {
   "cell_type": "code",
   "execution_count": 23,
   "id": "71abe79b-1719-496b-8f68-ae694115234f",
   "metadata": {},
   "outputs": [],
   "source": [
    "#mkdir inferred_undated_classification_dataset"
   ]
  },
  {
   "cell_type": "code",
   "execution_count": 22,
   "id": "f1dd2af7-76ab-44d7-b6e9-d82e9ac3b59a",
   "metadata": {},
   "outputs": [],
   "source": [
    "def reinferts(ts, mutation_rate=4e-8, recombination_rate=1e-8):\n",
    "    ts = msprime.mutate(ts, rate=mutation_rate)\n",
    "    while ts.num_mutations < 1:\n",
    "        ts = msprime.mutate(ts, rate=mutation_rate)\n",
    "        print(ts.num_mutations)\n",
    "    sample_data = tsinfer.SampleData.from_tree_sequence(ts, num_flush_threads=4, use_sites_time=False, use_individuals_time=False)\n",
    "    ts = tsinfer.infer(sample_data, post_process=\"simplify\", recombination_rate=recombination_rate).simplify(keep_unary=False)\n",
    "    #ts = tsdate.date(ts, Ne=100_000, mutation_rate=mutation_rate)\n",
    "    return ts"
   ]
  },
  {
   "cell_type": "code",
   "execution_count": null,
   "id": "136db041-034c-49ae-87a0-b11240547f8e",
   "metadata": {},
   "outputs": [
    {
     "name": "stdout",
     "output_type": "stream",
     "text": [
      "0 {'model': ('kingman', None), 'sequence_length': 4000000, 'selection_coefficient': 0.751, 'selection_type': 'strong'}\n",
      "1 {'model': ('beta', 1.84), 'sequence_length': 16000000, 'selection_coefficient': 0, 'selection_type': None}\n",
      "2 {'model': ('kingman', None), 'sequence_length': 2000000, 'selection_coefficient': 0.006, 'selection_type': 'weak'}\n",
      "3 {'model': ('beta', 1.07), 'sequence_length': 2048000000, 'selection_coefficient': 0, 'selection_type': None}\n",
      "4 {'model': ('kingman', None), 'sequence_length': 2000000, 'selection_coefficient': 0.036, 'selection_type': 'medium'}\n",
      "5 {'model': ('beta', 1.38), 'sequence_length': 512000000, 'selection_coefficient': 0, 'selection_type': None}\n",
      "6 {'model': ('kingman', None), 'sequence_length': 2000000, 'selection_coefficient': 0.053, 'selection_type': 'medium'}\n",
      "7 {'model': ('beta', 1.27), 'sequence_length': 2048000000, 'selection_coefficient': 0, 'selection_type': None}\n",
      "8 {'model': ('kingman', None), 'sequence_length': 2000000, 'selection_coefficient': 0.069, 'selection_type': 'medium'}\n",
      "9 {'model': ('beta', 1.96), 'sequence_length': 32000000, 'selection_coefficient': 0, 'selection_type': None}\n",
      "10 {'model': ('kingman', None), 'sequence_length': 1000000, 'selection_coefficient': 0.004, 'selection_type': 'weak'}\n",
      "11 {'model': ('beta', 1.58), 'sequence_length': 256000000, 'selection_coefficient': 0, 'selection_type': None}\n",
      "12 {'model': ('kingman', None), 'sequence_length': 2000000, 'selection_coefficient': 0.01, 'selection_type': 'weak'}\n",
      "13 {'model': ('beta', 1.34), 'sequence_length': 512000000, 'selection_coefficient': 0, 'selection_type': None}\n",
      "14 {'model': ('kingman', None), 'sequence_length': 4000000, 'selection_coefficient': 0.688, 'selection_type': 'strong'}\n",
      "15 {'model': ('beta', 1.38), 'sequence_length': 512000000, 'selection_coefficient': 0, 'selection_type': None}\n",
      "16 {'model': ('kingman', None), 'sequence_length': 1000000, 'selection_coefficient': 0, 'selection_type': 'none'}\n",
      "17 {'model': ('beta', 1.84), 'sequence_length': 32000000, 'selection_coefficient': 0, 'selection_type': None}\n",
      "18 {'model': ('kingman', None), 'sequence_length': 4000000, 'selection_coefficient': 0.593, 'selection_type': 'strong'}\n",
      "19 {'model': ('beta', 1.97), 'sequence_length': 32000000, 'selection_coefficient': 0, 'selection_type': None}\n",
      "20 {'model': ('kingman', None), 'sequence_length': 1000000, 'selection_coefficient': 0, 'selection_type': 'none'}\n",
      "21 {'model': ('beta', 1.34), 'sequence_length': 512000000, 'selection_coefficient': 0, 'selection_type': None}\n",
      "22 {'model': ('kingman', None), 'sequence_length': 4000000, 'selection_coefficient': 0.631, 'selection_type': 'strong'}\n",
      "23 {'model': ('beta', 1.49), 'sequence_length': 512000000, 'selection_coefficient': 0, 'selection_type': None}\n",
      "24 {'model': ('kingman', None), 'sequence_length': 1000000, 'selection_coefficient': 0, 'selection_type': 'none'}\n",
      "25 {'model': ('beta', 1.35), 'sequence_length': 1024000000, 'selection_coefficient': 0, 'selection_type': None}\n",
      "26 {'model': ('kingman', None), 'sequence_length': 4000000, 'selection_coefficient': 0.074, 'selection_type': 'medium'}\n",
      "27 {'model': ('beta', 1.44), 'sequence_length': 256000000, 'selection_coefficient': 0, 'selection_type': None}\n",
      "28 {'model': ('kingman', None), 'sequence_length': 4000000, 'selection_coefficient': 0.083, 'selection_type': 'medium'}\n",
      "29 {'model': ('beta', 1.66), 'sequence_length': 128000000, 'selection_coefficient': 0, 'selection_type': None}\n",
      "30 {'model': ('kingman', None), 'sequence_length': 1000000, 'selection_coefficient': 0.002, 'selection_type': 'weak'}\n",
      "31 {'model': ('beta', 1.14), 'sequence_length': 2048000000, 'selection_coefficient': 0, 'selection_type': None}\n",
      "32 {'model': ('kingman', None), 'sequence_length': 1000000, 'selection_coefficient': 0.002, 'selection_type': 'weak'}\n",
      "33 {'model': ('beta', 1.11), 'sequence_length': 4096000000, 'selection_coefficient': 0, 'selection_type': None}\n",
      "34 {'model': ('kingman', None), 'sequence_length': 1000000, 'selection_coefficient': 0, 'selection_type': 'none'}\n",
      "35 {'model': ('beta', 1.96), 'sequence_length': 32000000, 'selection_coefficient': 0, 'selection_type': None}\n",
      "36 {'model': ('kingman', None), 'sequence_length': 2000000, 'selection_coefficient': 0.049, 'selection_type': 'medium'}\n",
      "37 {'model': ('beta', 1.53), 'sequence_length': 128000000, 'selection_coefficient': 0, 'selection_type': None}\n",
      "38 {'model': ('kingman', None), 'sequence_length': 2000000, 'selection_coefficient': 0.065, 'selection_type': 'medium'}\n",
      "39 {'model': ('beta', 1.25), 'sequence_length': 1024000000, 'selection_coefficient': 0, 'selection_type': None}\n",
      "40 {'model': ('kingman', None), 'sequence_length': 2000000, 'selection_coefficient': 0.064, 'selection_type': 'medium'}\n",
      "41 {'model': ('beta', 1.48), 'sequence_length': 512000000, 'selection_coefficient': 0, 'selection_type': None}\n"
     ]
    },
    {
     "name": "stderr",
     "output_type": "stream",
     "text": [
      "WARNING:tsinfer.inference:No sites used for inference\n",
      "WARNING:tsinfer.inference:No sites used for inference\n"
     ]
    },
    {
     "name": "stdout",
     "output_type": "stream",
     "text": [
      "42 {'model': ('kingman', None), 'sequence_length': 8000000, 'selection_coefficient': 0.611, 'selection_type': 'strong'}\n",
      "43 {'model': ('beta', 1.03), 'sequence_length': 1024000000, 'selection_coefficient': 0, 'selection_type': None}\n",
      "44 {'model': ('kingman', None), 'sequence_length': 4000000, 'selection_coefficient': 0.347, 'selection_type': 'strong'}\n",
      "45 {'model': ('beta', 1.21), 'sequence_length': 2048000000, 'selection_coefficient': 0, 'selection_type': None}\n",
      "46 {'model': ('kingman', None), 'sequence_length': 4000000, 'selection_coefficient': 0.084, 'selection_type': 'medium'}\n",
      "47 {'model': ('beta', 1.02), 'sequence_length': 2048000000, 'selection_coefficient': 0, 'selection_type': None}\n",
      "48 {'model': ('kingman', None), 'sequence_length': 2000000, 'selection_coefficient': 0.066, 'selection_type': 'medium'}\n",
      "49 {'model': ('beta', 1.25), 'sequence_length': 8192000000, 'selection_coefficient': 0, 'selection_type': None}\n",
      "50 {'model': ('kingman', None), 'sequence_length': 1000000, 'selection_coefficient': 0, 'selection_type': 'none'}\n",
      "51 {'model': ('beta', 1.61), 'sequence_length': 64000000, 'selection_coefficient': 0, 'selection_type': None}\n",
      "52 {'model': ('kingman', None), 'sequence_length': 1000000, 'selection_coefficient': 0, 'selection_type': 'none'}\n",
      "53 {'model': ('beta', 1.76), 'sequence_length': 32000000, 'selection_coefficient': 0, 'selection_type': None}\n",
      "54 {'model': ('kingman', None), 'sequence_length': 8000000, 'selection_coefficient': 0.726, 'selection_type': 'strong'}\n",
      "55 {'model': ('beta', 1.62), 'sequence_length': 128000000, 'selection_coefficient': 0, 'selection_type': None}\n",
      "56 {'model': ('kingman', None), 'sequence_length': 4000000, 'selection_coefficient': 0.735, 'selection_type': 'strong'}\n",
      "57 {'model': ('beta', 1.3), 'sequence_length': 1024000000, 'selection_coefficient': 0, 'selection_type': None}\n",
      "58 {'model': ('kingman', None), 'sequence_length': 2000000, 'selection_coefficient': 0.006, 'selection_type': 'weak'}\n",
      "59 {'model': ('beta', 1.71), 'sequence_length': 32000000, 'selection_coefficient': 0, 'selection_type': None}\n",
      "60 {'model': ('kingman', None), 'sequence_length': 2000000, 'selection_coefficient': 0.043, 'selection_type': 'medium'}\n",
      "61 {'model': ('beta', 1.6), 'sequence_length': 128000000, 'selection_coefficient': 0, 'selection_type': None}\n",
      "62 {'model': ('kingman', None), 'sequence_length': 2000000, 'selection_coefficient': 0.04, 'selection_type': 'medium'}\n",
      "63 {'model': ('beta', 1.3), 'sequence_length': 1024000000, 'selection_coefficient': 0, 'selection_type': None}\n",
      "64 {'model': ('kingman', None), 'sequence_length': 2000000, 'selection_coefficient': 0.051, 'selection_type': 'medium'}\n",
      "65 {'model': ('beta', 1.31), 'sequence_length': 1024000000, 'selection_coefficient': 0, 'selection_type': None}\n",
      "66 {'model': ('kingman', None), 'sequence_length': 4000000, 'selection_coefficient': 0.094, 'selection_type': 'medium'}\n",
      "67 {'model': ('beta', 1.82), 'sequence_length': 32000000, 'selection_coefficient': 0, 'selection_type': None}\n",
      "68 {'model': ('kingman', None), 'sequence_length': 1000000, 'selection_coefficient': 0.003, 'selection_type': 'weak'}\n",
      "69 {'model': ('beta', 1.25), 'sequence_length': 1024000000, 'selection_coefficient': 0, 'selection_type': None}\n",
      "70 {'model': ('kingman', None), 'sequence_length': 1000000, 'selection_coefficient': 0, 'selection_type': 'none'}\n",
      "71 {'model': ('beta', 1.1), 'sequence_length': 2048000000, 'selection_coefficient': 0, 'selection_type': None}\n",
      "72 {'model': ('kingman', None), 'sequence_length': 4000000, 'selection_coefficient': 0.15, 'selection_type': 'strong'}\n",
      "73 {'model': ('beta', 1.41), 'sequence_length': 256000000, 'selection_coefficient': 0, 'selection_type': None}\n",
      "74 {'model': ('kingman', None), 'sequence_length': 4000000, 'selection_coefficient': 0.508, 'selection_type': 'strong'}\n",
      "75 {'model': ('beta', 1.95), 'sequence_length': 32000000, 'selection_coefficient': 0, 'selection_type': None}\n",
      "76 {'model': ('kingman', None), 'sequence_length': 2000000, 'selection_coefficient': 0.031, 'selection_type': 'medium'}\n",
      "77 {'model': ('beta', 1.45), 'sequence_length': 512000000, 'selection_coefficient': 0, 'selection_type': None}\n",
      "78 {'model': ('kingman', None), 'sequence_length': 2000000, 'selection_coefficient': 0.007, 'selection_type': 'weak'}\n",
      "79 {'model': ('beta', 1.97), 'sequence_length': 64000000, 'selection_coefficient': 0, 'selection_type': None}\n",
      "80 {'model': ('kingman', None), 'sequence_length': 2000000, 'selection_coefficient': 0.005, 'selection_type': 'weak'}\n",
      "81 {'model': ('beta', 1.13), 'sequence_length': 4096000000, 'selection_coefficient': 0, 'selection_type': None}\n",
      "82 {'model': ('kingman', None), 'sequence_length': 1000000, 'selection_coefficient': 0, 'selection_type': 'none'}\n",
      "83 {'model': ('beta', 1.86), 'sequence_length': 32000000, 'selection_coefficient': 0, 'selection_type': None}\n",
      "84 {'model': ('kingman', None), 'sequence_length': 1000000, 'selection_coefficient': 0.003, 'selection_type': 'weak'}\n"
     ]
    },
    {
     "name": "stderr",
     "output_type": "stream",
     "text": [
      "WARNING:tsinfer.inference:No sites used for inference\n",
      "WARNING:tsinfer.inference:No sites used for inference\n"
     ]
    },
    {
     "name": "stdout",
     "output_type": "stream",
     "text": [
      "85 {'model': ('beta', 1.06), 'sequence_length': 4096000000, 'selection_coefficient': 0, 'selection_type': None}\n",
      "86 {'model': ('kingman', None), 'sequence_length': 1000000, 'selection_coefficient': 0.006, 'selection_type': 'weak'}\n",
      "87 {'model': ('beta', 1.9), 'sequence_length': 16000000, 'selection_coefficient': 0, 'selection_type': None}\n",
      "88 {'model': ('kingman', None), 'sequence_length': 1000000, 'selection_coefficient': 0, 'selection_type': 'none'}\n",
      "89 {'model': ('beta', 1.85), 'sequence_length': 32000000, 'selection_coefficient': 0, 'selection_type': None}\n",
      "90 {'model': ('kingman', None), 'sequence_length': 2000000, 'selection_coefficient': 0.082, 'selection_type': 'medium'}\n",
      "91 {'model': ('beta', 1.52), 'sequence_length': 256000000, 'selection_coefficient': 0, 'selection_type': None}\n",
      "92 {'model': ('kingman', None), 'sequence_length': 1000000, 'selection_coefficient': 0.001, 'selection_type': 'weak'}\n",
      "93 {'model': ('beta', 1.14), 'sequence_length': 2048000000, 'selection_coefficient': 0, 'selection_type': None}\n",
      "94 {'model': ('kingman', None), 'sequence_length': 1000000, 'selection_coefficient': 0, 'selection_type': 'none'}\n",
      "95 {'model': ('beta', 1.1), 'sequence_length': 2048000000, 'selection_coefficient': 0, 'selection_type': None}\n",
      "96 {'model': ('kingman', None), 'sequence_length': 1000000, 'selection_coefficient': 0.009, 'selection_type': 'weak'}\n",
      "97 {'model': ('beta', 1.95), 'sequence_length': 32000000, 'selection_coefficient': 0, 'selection_type': None}\n",
      "98 {'model': ('kingman', None), 'sequence_length': 2000000, 'selection_coefficient': 0.053, 'selection_type': 'medium'}\n",
      "99 {'model': ('beta', 1.27), 'sequence_length': 1024000000, 'selection_coefficient': 0, 'selection_type': None}\n",
      "100 {'model': ('kingman', None), 'sequence_length': 1000000, 'selection_coefficient': 0.006, 'selection_type': 'weak'}\n",
      "101 {'model': ('beta', 1.62), 'sequence_length': 128000000, 'selection_coefficient': 0, 'selection_type': None}\n",
      "102 {'model': ('kingman', None), 'sequence_length': 2000000, 'selection_coefficient': 0.072, 'selection_type': 'medium'}\n",
      "103 {'model': ('beta', 1.11), 'sequence_length': 16384000000, 'selection_coefficient': 0, 'selection_type': None}\n",
      "104 {'model': ('kingman', None), 'sequence_length': 1000000, 'selection_coefficient': 0.006, 'selection_type': 'weak'}\n",
      "105 {'model': ('beta', 1.8), 'sequence_length': 32000000, 'selection_coefficient': 0, 'selection_type': None}\n",
      "106 {'model': ('kingman', None), 'sequence_length': 2000000, 'selection_coefficient': 0.064, 'selection_type': 'medium'}\n",
      "107 {'model': ('beta', 1.49), 'sequence_length': 256000000, 'selection_coefficient': 0, 'selection_type': None}\n",
      "108 {'model': ('kingman', None), 'sequence_length': 4000000, 'selection_coefficient': 0.296, 'selection_type': 'strong'}\n",
      "109 {'model': ('beta', 1.36), 'sequence_length': 512000000, 'selection_coefficient': 0, 'selection_type': None}\n",
      "110 {'model': ('kingman', None), 'sequence_length': 2000000, 'selection_coefficient': 0.062, 'selection_type': 'medium'}\n",
      "111 {'model': ('beta', 1.63), 'sequence_length': 64000000, 'selection_coefficient': 0, 'selection_type': None}\n"
     ]
    },
    {
     "name": "stderr",
     "output_type": "stream",
     "text": [
      "WARNING:tsinfer.inference:No sites used for inference\n",
      "WARNING:tsinfer.inference:No sites used for inference\n"
     ]
    },
    {
     "name": "stdout",
     "output_type": "stream",
     "text": [
      "112 {'model': ('kingman', None), 'sequence_length': 2000000, 'selection_coefficient': 0.026, 'selection_type': 'medium'}\n",
      "113 {'model': ('beta', 1.33), 'sequence_length': 1024000000, 'selection_coefficient': 0, 'selection_type': None}\n",
      "114 {'model': ('kingman', None), 'sequence_length': 4000000, 'selection_coefficient': 0.349, 'selection_type': 'strong'}\n",
      "115 {'model': ('beta', 1.98), 'sequence_length': 64000000, 'selection_coefficient': 0, 'selection_type': None}\n",
      "116 {'model': ('kingman', None), 'sequence_length': 1000000, 'selection_coefficient': 0, 'selection_type': 'none'}\n",
      "117 {'model': ('beta', 1.45), 'sequence_length': 256000000, 'selection_coefficient': 0, 'selection_type': None}\n",
      "118 {'model': ('kingman', None), 'sequence_length': 4000000, 'selection_coefficient': 0.527, 'selection_type': 'strong'}\n",
      "119 {'model': ('beta', 1.96), 'sequence_length': 32000000, 'selection_coefficient': 0, 'selection_type': None}\n",
      "120 {'model': ('kingman', None), 'sequence_length': 4000000, 'selection_coefficient': 0.093, 'selection_type': 'medium'}\n",
      "121 {'model': ('beta', 1.77), 'sequence_length': 32000000, 'selection_coefficient': 0, 'selection_type': None}\n",
      "122 {'model': ('kingman', None), 'sequence_length': 1000000, 'selection_coefficient': 0, 'selection_type': 'none'}\n"
     ]
    },
    {
     "name": "stderr",
     "output_type": "stream",
     "text": [
      "WARNING:tsinfer.inference:No sites used for inference\n",
      "WARNING:tsinfer.inference:No sites used for inference\n"
     ]
    },
    {
     "name": "stdout",
     "output_type": "stream",
     "text": [
      "123 {'model': ('beta', 1.13), 'sequence_length': 2048000000, 'selection_coefficient': 0, 'selection_type': None}\n",
      "124 {'model': ('kingman', None), 'sequence_length': 1000000, 'selection_coefficient': 0, 'selection_type': 'none'}\n",
      "125 {'model': ('beta', 1.1), 'sequence_length': 65536000000, 'selection_coefficient': 0, 'selection_type': None}\n",
      "126 {'model': ('kingman', None), 'sequence_length': 1000000, 'selection_coefficient': 0.008, 'selection_type': 'weak'}\n",
      "127 {'model': ('beta', 1.84), 'sequence_length': 32000000, 'selection_coefficient': 0, 'selection_type': None}\n",
      "128 {'model': ('kingman', None), 'sequence_length': 8000000, 'selection_coefficient': 0.664, 'selection_type': 'strong'}\n",
      "129 {'model': ('beta', 1.9), 'sequence_length': 32000000, 'selection_coefficient': 0, 'selection_type': None}\n",
      "130 {'model': ('kingman', None), 'sequence_length': 4000000, 'selection_coefficient': 0.075, 'selection_type': 'medium'}\n",
      "131 {'model': ('beta', 1.65), 'sequence_length': 128000000, 'selection_coefficient': 0, 'selection_type': None}\n",
      "132 {'model': ('kingman', None), 'sequence_length': 2000000, 'selection_coefficient': 0.009, 'selection_type': 'weak'}\n",
      "133 {'model': ('beta', 1.86), 'sequence_length': 32000000, 'selection_coefficient': 0, 'selection_type': None}\n",
      "134 {'model': ('kingman', None), 'sequence_length': 2000000, 'selection_coefficient': 0.023, 'selection_type': 'medium'}\n",
      "135 {'model': ('beta', 1.26), 'sequence_length': 2048000000, 'selection_coefficient': 0, 'selection_type': None}\n",
      "136 {'model': ('kingman', None), 'sequence_length': 1000000, 'selection_coefficient': 0, 'selection_type': 'none'}\n",
      "137 {'model': ('beta', 1.14), 'sequence_length': 2048000000, 'selection_coefficient': 0, 'selection_type': None}\n",
      "138 {'model': ('kingman', None), 'sequence_length': 4000000, 'selection_coefficient': 0.467, 'selection_type': 'strong'}\n",
      "139 {'model': ('beta', 1.11), 'sequence_length': 2048000000, 'selection_coefficient': 0, 'selection_type': None}\n",
      "140 {'model': ('kingman', None), 'sequence_length': 1000000, 'selection_coefficient': 0.004, 'selection_type': 'weak'}\n",
      "141 {'model': ('beta', 1.73), 'sequence_length': 32000000, 'selection_coefficient': 0, 'selection_type': None}\n",
      "142 {'model': ('kingman', None), 'sequence_length': 2000000, 'selection_coefficient': 0.041, 'selection_type': 'medium'}\n",
      "143 {'model': ('beta', 1.41), 'sequence_length': 256000000, 'selection_coefficient': 0, 'selection_type': None}\n"
     ]
    },
    {
     "name": "stderr",
     "output_type": "stream",
     "text": [
      "WARNING:tsinfer.inference:No sites used for inference\n",
      "WARNING:tsinfer.inference:No sites used for inference\n"
     ]
    },
    {
     "name": "stdout",
     "output_type": "stream",
     "text": [
      "144 {'model': ('kingman', None), 'sequence_length': 4000000, 'selection_coefficient': 0.085, 'selection_type': 'medium'}\n"
     ]
    },
    {
     "name": "stderr",
     "output_type": "stream",
     "text": [
      "WARNING:tsinfer.inference:No sites used for inference\n",
      "WARNING:tsinfer.inference:No sites used for inference\n",
      "WARNING:tsinfer.inference:No sites used for inference\n",
      "WARNING:tsinfer.inference:No sites used for inference\n",
      "WARNING:tsinfer.inference:No sites used for inference\n",
      "WARNING:tsinfer.inference:No sites used for inference\n",
      "WARNING:tsinfer.inference:No sites used for inference\n",
      "WARNING:tsinfer.inference:No sites used for inference\n"
     ]
    },
    {
     "name": "stdout",
     "output_type": "stream",
     "text": [
      "145 {'model': ('beta', 1.17), 'sequence_length': 2048000000, 'selection_coefficient': 0, 'selection_type': None}\n"
     ]
    },
    {
     "name": "stderr",
     "output_type": "stream",
     "text": [
      "WARNING:tsinfer.inference:No sites used for inference\n",
      "WARNING:tsinfer.inference:No sites used for inference\n",
      "WARNING:tsinfer.inference:No sites used for inference\n",
      "WARNING:tsinfer.inference:No sites used for inference\n"
     ]
    },
    {
     "name": "stdout",
     "output_type": "stream",
     "text": [
      "146 {'model': ('kingman', None), 'sequence_length': 1000000, 'selection_coefficient': 0.005, 'selection_type': 'weak'}\n",
      "0\n",
      "0\n",
      "0\n",
      "1\n"
     ]
    },
    {
     "name": "stderr",
     "output_type": "stream",
     "text": [
      "WARNING:tsinfer.inference:No sites used for inference\n",
      "WARNING:tsinfer.inference:No sites used for inference\n"
     ]
    },
    {
     "name": "stdout",
     "output_type": "stream",
     "text": [
      "147 {'model': ('beta', 1.14), 'sequence_length': 1024000000, 'selection_coefficient': 0, 'selection_type': None}\n",
      "148 {'model': ('kingman', None), 'sequence_length': 2000000, 'selection_coefficient': 0.013, 'selection_type': 'medium'}\n",
      "149 {'model': ('beta', 1.17), 'sequence_length': 4096000000, 'selection_coefficient': 0, 'selection_type': None}\n",
      "150 {'model': ('kingman', None), 'sequence_length': 4000000, 'selection_coefficient': 0.278, 'selection_type': 'strong'}\n",
      "151 {'model': ('beta', 1.82), 'sequence_length': 32000000, 'selection_coefficient': 0, 'selection_type': None}\n",
      "152 {'model': ('kingman', None), 'sequence_length': 2000000, 'selection_coefficient': 0.009, 'selection_type': 'weak'}\n",
      "153 {'model': ('beta', 1.16), 'sequence_length': 2048000000, 'selection_coefficient': 0, 'selection_type': None}\n",
      "154 {'model': ('kingman', None), 'sequence_length': 1000000, 'selection_coefficient': 0, 'selection_type': 'none'}\n",
      "155 {'model': ('beta', 1.18), 'sequence_length': 2048000000, 'selection_coefficient': 0, 'selection_type': None}\n",
      "156 {'model': ('kingman', None), 'sequence_length': 4000000, 'selection_coefficient': 0.06, 'selection_type': 'medium'}\n",
      "157 {'model': ('beta', 1.3), 'sequence_length': 512000000, 'selection_coefficient': 0, 'selection_type': None}\n",
      "158 {'model': ('kingman', None), 'sequence_length': 4000000, 'selection_coefficient': 0.088, 'selection_type': 'medium'}\n",
      "159 {'model': ('beta', 1.5), 'sequence_length': 256000000, 'selection_coefficient': 0, 'selection_type': None}\n",
      "160 {'model': ('kingman', None), 'sequence_length': 1000000, 'selection_coefficient': 0.004, 'selection_type': 'weak'}\n",
      "161 {'model': ('beta', 1.9), 'sequence_length': 16000000, 'selection_coefficient': 0, 'selection_type': None}\n",
      "162 {'model': ('kingman', None), 'sequence_length': 2000000, 'selection_coefficient': 0.008, 'selection_type': 'weak'}\n",
      "163 {'model': ('beta', 1.45), 'sequence_length': 512000000, 'selection_coefficient': 0, 'selection_type': None}\n",
      "164 {'model': ('kingman', None), 'sequence_length': 1000000, 'selection_coefficient': 0.001, 'selection_type': 'weak'}\n",
      "165 {'model': ('beta', 1.2), 'sequence_length': 2048000000, 'selection_coefficient': 0, 'selection_type': None}\n",
      "166 {'model': ('kingman', None), 'sequence_length': 1000000, 'selection_coefficient': 0, 'selection_type': 'none'}\n",
      "167 {'model': ('beta', 1.76), 'sequence_length': 32000000, 'selection_coefficient': 0, 'selection_type': None}\n",
      "168 {'model': ('kingman', None), 'sequence_length': 4000000, 'selection_coefficient': 0.777, 'selection_type': 'strong'}\n",
      "169 {'model': ('beta', 1.51), 'sequence_length': 256000000, 'selection_coefficient': 0, 'selection_type': None}\n",
      "170 {'model': ('kingman', None), 'sequence_length': 1000000, 'selection_coefficient': 0, 'selection_type': 'none'}\n",
      "171 {'model': ('beta', 1.64), 'sequence_length': 64000000, 'selection_coefficient': 0, 'selection_type': None}\n"
     ]
    },
    {
     "name": "stderr",
     "output_type": "stream",
     "text": [
      "WARNING:tsinfer.inference:No sites used for inference\n",
      "WARNING:tsinfer.inference:No sites used for inference\n"
     ]
    },
    {
     "name": "stdout",
     "output_type": "stream",
     "text": [
      "172 {'model': ('kingman', None), 'sequence_length': 1000000, 'selection_coefficient': 0, 'selection_type': 'none'}\n",
      "173 {'model': ('beta', 1.04), 'sequence_length': 4096000000, 'selection_coefficient': 0, 'selection_type': None}\n",
      "174 {'model': ('kingman', None), 'sequence_length': 1000000, 'selection_coefficient': 0, 'selection_type': 'none'}\n",
      "175 {'model': ('beta', 1.77), 'sequence_length': 32000000, 'selection_coefficient': 0, 'selection_type': None}\n",
      "176 {'model': ('kingman', None), 'sequence_length': 8000000, 'selection_coefficient': 0.587, 'selection_type': 'strong'}\n",
      "177 {'model': ('beta', 1.73), 'sequence_length': 64000000, 'selection_coefficient': 0, 'selection_type': None}\n",
      "178 {'model': ('kingman', None), 'sequence_length': 2000000, 'selection_coefficient': 0.016, 'selection_type': 'medium'}\n",
      "179 {'model': ('beta', 1.6), 'sequence_length': 128000000, 'selection_coefficient': 0, 'selection_type': None}\n",
      "180 {'model': ('kingman', None), 'sequence_length': 2000000, 'selection_coefficient': 0.073, 'selection_type': 'medium'}\n",
      "181 {'model': ('beta', 1.23), 'sequence_length': 1024000000, 'selection_coefficient': 0, 'selection_type': None}\n",
      "182 {'model': ('kingman', None), 'sequence_length': 1000000, 'selection_coefficient': 0.002, 'selection_type': 'weak'}\n",
      "183 {'model': ('beta', 1.88), 'sequence_length': 32000000, 'selection_coefficient': 0, 'selection_type': None}\n",
      "184 {'model': ('kingman', None), 'sequence_length': 8000000, 'selection_coefficient': 0.824, 'selection_type': 'strong'}\n",
      "185 {'model': ('beta', 1.25), 'sequence_length': 1024000000, 'selection_coefficient': 0, 'selection_type': None}\n",
      "186 {'model': ('kingman', None), 'sequence_length': 2000000, 'selection_coefficient': 0.009, 'selection_type': 'weak'}\n",
      "187 {'model': ('beta', 1.95), 'sequence_length': 32000000, 'selection_coefficient': 0, 'selection_type': None}\n",
      "188 {'model': ('kingman', None), 'sequence_length': 1000000, 'selection_coefficient': 0, 'selection_type': 'none'}\n",
      "189 {'model': ('beta', 1.31), 'sequence_length': 1024000000, 'selection_coefficient': 0, 'selection_type': None}\n",
      "190 {'model': ('kingman', None), 'sequence_length': 1000000, 'selection_coefficient': 0.007, 'selection_type': 'weak'}\n",
      "191 {'model': ('beta', 1.52), 'sequence_length': 128000000, 'selection_coefficient': 0, 'selection_type': None}\n",
      "192 {'model': ('kingman', None), 'sequence_length': 1000000, 'selection_coefficient': 0.002, 'selection_type': 'weak'}\n",
      "193 {'model': ('beta', 1.73), 'sequence_length': 32000000, 'selection_coefficient': 0, 'selection_type': None}\n",
      "194 {'model': ('kingman', None), 'sequence_length': 1000000, 'selection_coefficient': 0.003, 'selection_type': 'weak'}\n",
      "195 {'model': ('beta', 1.7), 'sequence_length': 64000000, 'selection_coefficient': 0, 'selection_type': None}\n",
      "196 {'model': ('kingman', None), 'sequence_length': 4000000, 'selection_coefficient': 0.287, 'selection_type': 'strong'}\n",
      "197 {'model': ('beta', 1.73), 'sequence_length': 64000000, 'selection_coefficient': 0, 'selection_type': None}\n",
      "198 {'model': ('kingman', None), 'sequence_length': 2000000, 'selection_coefficient': 0.026, 'selection_type': 'medium'}\n",
      "199 {'model': ('beta', 1.22), 'sequence_length': 2048000000, 'selection_coefficient': 0, 'selection_type': None}\n",
      "200 {'model': ('kingman', None), 'sequence_length': 1000000, 'selection_coefficient': 0.003, 'selection_type': 'weak'}\n",
      "201 {'model': ('beta', 1.71), 'sequence_length': 64000000, 'selection_coefficient': 0, 'selection_type': None}\n",
      "202 {'model': ('kingman', None), 'sequence_length': 2000000, 'selection_coefficient': 0.079, 'selection_type': 'medium'}\n",
      "203 {'model': ('beta', 1.53), 'sequence_length': 128000000, 'selection_coefficient': 0, 'selection_type': None}\n",
      "204 {'model': ('kingman', None), 'sequence_length': 4000000, 'selection_coefficient': 0.769, 'selection_type': 'strong'}\n"
     ]
    },
    {
     "name": "stderr",
     "output_type": "stream",
     "text": [
      "WARNING:tsinfer.inference:No sites used for inference\n",
      "WARNING:tsinfer.inference:No sites used for inference\n"
     ]
    },
    {
     "name": "stdout",
     "output_type": "stream",
     "text": [
      "205 {'model': ('beta', 1.66), 'sequence_length': 64000000, 'selection_coefficient': 0, 'selection_type': None}\n",
      "206 {'model': ('kingman', None), 'sequence_length': 4000000, 'selection_coefficient': 0.514, 'selection_type': 'strong'}\n",
      "207 {'model': ('beta', 1.32), 'sequence_length': 1024000000, 'selection_coefficient': 0, 'selection_type': None}\n",
      "208 {'model': ('kingman', None), 'sequence_length': 1000000, 'selection_coefficient': 0, 'selection_type': 'none'}\n",
      "209 {'model': ('beta', 1.93), 'sequence_length': 32000000, 'selection_coefficient': 0, 'selection_type': None}\n",
      "210 {'model': ('kingman', None), 'sequence_length': 8000000, 'selection_coefficient': 0.597, 'selection_type': 'strong'}\n",
      "211 {'model': ('beta', 1.51), 'sequence_length': 128000000, 'selection_coefficient': 0, 'selection_type': None}\n",
      "212 {'model': ('kingman', None), 'sequence_length': 4000000, 'selection_coefficient': 0.391, 'selection_type': 'strong'}\n",
      "213 {'model': ('beta', 1.73), 'sequence_length': 32000000, 'selection_coefficient': 0, 'selection_type': None}\n",
      "214 {'model': ('kingman', None), 'sequence_length': 1000000, 'selection_coefficient': 0, 'selection_type': 'none'}\n",
      "215 {'model': ('beta', 1.86), 'sequence_length': 32000000, 'selection_coefficient': 0, 'selection_type': None}\n",
      "216 {'model': ('kingman', None), 'sequence_length': 4000000, 'selection_coefficient': 0.666, 'selection_type': 'strong'}\n",
      "217 {'model': ('beta', 1.51), 'sequence_length': 256000000, 'selection_coefficient': 0, 'selection_type': None}\n",
      "218 {'model': ('kingman', None), 'sequence_length': 2000000, 'selection_coefficient': 0.061, 'selection_type': 'medium'}\n",
      "219 {'model': ('beta', 1.31), 'sequence_length': 1024000000, 'selection_coefficient': 0, 'selection_type': None}\n",
      "220 {'model': ('kingman', None), 'sequence_length': 1000000, 'selection_coefficient': 0, 'selection_type': 'none'}\n",
      "221 {'model': ('beta', 1.22), 'sequence_length': 1024000000, 'selection_coefficient': 0, 'selection_type': None}\n",
      "222 {'model': ('kingman', None), 'sequence_length': 8000000, 'selection_coefficient': 0.316, 'selection_type': 'strong'}\n",
      "223 {'model': ('beta', 1.33), 'sequence_length': 1024000000, 'selection_coefficient': 0, 'selection_type': None}\n",
      "224 {'model': ('kingman', None), 'sequence_length': 4000000, 'selection_coefficient': 0.088, 'selection_type': 'medium'}\n",
      "225 {'model': ('beta', 1.37), 'sequence_length': 512000000, 'selection_coefficient': 0, 'selection_type': None}\n",
      "226 {'model': ('kingman', None), 'sequence_length': 2000000, 'selection_coefficient': 0.034, 'selection_type': 'medium'}\n",
      "227 {'model': ('beta', 1.77), 'sequence_length': 32000000, 'selection_coefficient': 0, 'selection_type': None}\n",
      "228 {'model': ('kingman', None), 'sequence_length': 8000000, 'selection_coefficient': 0.368, 'selection_type': 'strong'}\n",
      "229 {'model': ('beta', 1.43), 'sequence_length': 512000000, 'selection_coefficient': 0, 'selection_type': None}\n",
      "230 {'model': ('kingman', None), 'sequence_length': 2000000, 'selection_coefficient': 0.025, 'selection_type': 'medium'}\n",
      "231 {'model': ('beta', 1.12), 'sequence_length': 2048000000, 'selection_coefficient': 0, 'selection_type': None}\n",
      "232 {'model': ('kingman', None), 'sequence_length': 4000000, 'selection_coefficient': 0.694, 'selection_type': 'strong'}\n",
      "233 {'model': ('beta', 1.33), 'sequence_length': 512000000, 'selection_coefficient': 0, 'selection_type': None}\n",
      "234 {'model': ('kingman', None), 'sequence_length': 2000000, 'selection_coefficient': 0.069, 'selection_type': 'medium'}\n",
      "235 {'model': ('beta', 1.27), 'sequence_length': 1024000000, 'selection_coefficient': 0, 'selection_type': None}\n",
      "236 {'model': ('kingman', None), 'sequence_length': 1000000, 'selection_coefficient': 0, 'selection_type': 'none'}\n",
      "237 {'model': ('beta', 1.84), 'sequence_length': 16000000, 'selection_coefficient': 0, 'selection_type': None}\n",
      "238 {'model': ('kingman', None), 'sequence_length': 2000000, 'selection_coefficient': 0.047, 'selection_type': 'medium'}\n",
      "239 {'model': ('beta', 1.91), 'sequence_length': 32000000, 'selection_coefficient': 0, 'selection_type': None}\n",
      "240 {'model': ('kingman', None), 'sequence_length': 1000000, 'selection_coefficient': 0, 'selection_type': 'none'}\n",
      "241 {'model': ('beta', 1.73), 'sequence_length': 32000000, 'selection_coefficient': 0, 'selection_type': None}\n",
      "242 {'model': ('kingman', None), 'sequence_length': 4000000, 'selection_coefficient': 0.075, 'selection_type': 'medium'}\n",
      "243 {'model': ('beta', 1.79), 'sequence_length': 32000000, 'selection_coefficient': 0, 'selection_type': None}\n",
      "244 {'model': ('kingman', None), 'sequence_length': 1000000, 'selection_coefficient': 0.004, 'selection_type': 'weak'}\n",
      "245 {'model': ('beta', 1.26), 'sequence_length': 2048000000, 'selection_coefficient': 0, 'selection_type': None}\n",
      "246 {'model': ('kingman', None), 'sequence_length': 4000000, 'selection_coefficient': 0.899, 'selection_type': 'strong'}\n",
      "247 {'model': ('beta', 1.89), 'sequence_length': 32000000, 'selection_coefficient': 0, 'selection_type': None}\n",
      "248 {'model': ('kingman', None), 'sequence_length': 4000000, 'selection_coefficient': 0.068, 'selection_type': 'medium'}\n",
      "249 {'model': ('beta', 1.81), 'sequence_length': 32000000, 'selection_coefficient': 0, 'selection_type': None}\n",
      "250 {'model': ('kingman', None), 'sequence_length': 8000000, 'selection_coefficient': 0.511, 'selection_type': 'strong'}\n",
      "251 {'model': ('beta', 1.69), 'sequence_length': 64000000, 'selection_coefficient': 0, 'selection_type': None}\n",
      "252 {'model': ('kingman', None), 'sequence_length': 1000000, 'selection_coefficient': 0, 'selection_type': 'none'}\n",
      "253 {'model': ('beta', 1.25), 'sequence_length': 1024000000, 'selection_coefficient': 0, 'selection_type': None}\n",
      "254 {'model': ('kingman', None), 'sequence_length': 4000000, 'selection_coefficient': 0.346, 'selection_type': 'strong'}\n",
      "255 {'model': ('beta', 1.97), 'sequence_length': 32000000, 'selection_coefficient': 0, 'selection_type': None}\n"
     ]
    },
    {
     "name": "stderr",
     "output_type": "stream",
     "text": [
      "WARNING:tsinfer.inference:No sites used for inference\n",
      "WARNING:tsinfer.inference:No sites used for inference\n"
     ]
    },
    {
     "name": "stdout",
     "output_type": "stream",
     "text": [
      "256 {'model': ('kingman', None), 'sequence_length': 8000000, 'selection_coefficient': 0.401, 'selection_type': 'strong'}\n"
     ]
    },
    {
     "name": "stderr",
     "output_type": "stream",
     "text": [
      "WARNING:tsinfer.inference:No sites used for inference\n",
      "WARNING:tsinfer.inference:No sites used for inference\n",
      "WARNING:tsinfer.inference:No sites used for inference\n",
      "WARNING:tsinfer.inference:No sites used for inference\n"
     ]
    },
    {
     "name": "stdout",
     "output_type": "stream",
     "text": [
      "257 {'model': ('beta', 1.19), 'sequence_length': 1024000000, 'selection_coefficient': 0, 'selection_type': None}\n",
      "258 {'model': ('kingman', None), 'sequence_length': 2000000, 'selection_coefficient': 0.034, 'selection_type': 'medium'}\n",
      "259 {'model': ('beta', 1.25), 'sequence_length': 4096000000, 'selection_coefficient': 0, 'selection_type': None}\n",
      "260 {'model': ('kingman', None), 'sequence_length': 4000000, 'selection_coefficient': 0.087, 'selection_type': 'medium'}\n",
      "261 {'model': ('beta', 1.59), 'sequence_length': 128000000, 'selection_coefficient': 0, 'selection_type': None}\n",
      "262 {'model': ('kingman', None), 'sequence_length': 1000000, 'selection_coefficient': 0, 'selection_type': 'none'}\n",
      "263 {'model': ('beta', 1.47), 'sequence_length': 256000000, 'selection_coefficient': 0, 'selection_type': None}\n",
      "264 {'model': ('kingman', None), 'sequence_length': 1000000, 'selection_coefficient': 0.006, 'selection_type': 'weak'}\n",
      "265 {'model': ('beta', 1.33), 'sequence_length': 512000000, 'selection_coefficient': 0, 'selection_type': None}\n",
      "266 {'model': ('kingman', None), 'sequence_length': 2000000, 'selection_coefficient': 0.027, 'selection_type': 'medium'}\n",
      "267 {'model': ('beta', 1.27), 'sequence_length': 1024000000, 'selection_coefficient': 0, 'selection_type': None}\n",
      "268 {'model': ('kingman', None), 'sequence_length': 4000000, 'selection_coefficient': 0.435, 'selection_type': 'strong'}\n",
      "269 {'model': ('beta', 1.93), 'sequence_length': 32000000, 'selection_coefficient': 0, 'selection_type': None}\n",
      "270 {'model': ('kingman', None), 'sequence_length': 1000000, 'selection_coefficient': 0, 'selection_type': 'none'}\n",
      "271 {'model': ('beta', 1.49), 'sequence_length': 512000000, 'selection_coefficient': 0, 'selection_type': None}\n",
      "272 {'model': ('kingman', None), 'sequence_length': 1000000, 'selection_coefficient': 0, 'selection_type': 'none'}\n",
      "273 {'model': ('beta', 1.35), 'sequence_length': 512000000, 'selection_coefficient': 0, 'selection_type': None}\n",
      "274 {'model': ('kingman', None), 'sequence_length': 2000000, 'selection_coefficient': 0.006, 'selection_type': 'weak'}\n",
      "275 {'model': ('beta', 1.63), 'sequence_length': 128000000, 'selection_coefficient': 0, 'selection_type': None}\n",
      "276 {'model': ('kingman', None), 'sequence_length': 8000000, 'selection_coefficient': 0.84, 'selection_type': 'strong'}\n",
      "277 {'model': ('beta', 1.64), 'sequence_length': 64000000, 'selection_coefficient': 0, 'selection_type': None}\n",
      "278 {'model': ('kingman', None), 'sequence_length': 1000000, 'selection_coefficient': 0.005, 'selection_type': 'weak'}\n",
      "279 {'model': ('beta', 1.27), 'sequence_length': 1024000000, 'selection_coefficient': 0, 'selection_type': None}\n"
     ]
    },
    {
     "name": "stderr",
     "output_type": "stream",
     "text": [
      "WARNING:tsinfer.inference:No sites used for inference\n",
      "WARNING:tsinfer.inference:No sites used for inference\n"
     ]
    },
    {
     "name": "stdout",
     "output_type": "stream",
     "text": [
      "280 {'model': ('kingman', None), 'sequence_length': 1000000, 'selection_coefficient': 0, 'selection_type': 'none'}\n",
      "281 {'model': ('beta', 1.08), 'sequence_length': 4096000000, 'selection_coefficient': 0, 'selection_type': None}\n",
      "282 {'model': ('kingman', None), 'sequence_length': 2000000, 'selection_coefficient': 0.007, 'selection_type': 'weak'}\n"
     ]
    },
    {
     "name": "stderr",
     "output_type": "stream",
     "text": [
      "WARNING:tsinfer.inference:No sites used for inference\n",
      "WARNING:tsinfer.inference:No sites used for inference\n"
     ]
    },
    {
     "name": "stdout",
     "output_type": "stream",
     "text": [
      "283 {'model': ('beta', 1.3), 'sequence_length': 2048000000, 'selection_coefficient': 0, 'selection_type': None}\n",
      "284 {'model': ('kingman', None), 'sequence_length': 8000000, 'selection_coefficient': 0.914, 'selection_type': 'strong'}\n",
      "285 {'model': ('beta', 1.64), 'sequence_length': 128000000, 'selection_coefficient': 0, 'selection_type': None}\n",
      "286 {'model': ('kingman', None), 'sequence_length': 2000000, 'selection_coefficient': 0.063, 'selection_type': 'medium'}\n",
      "287 {'model': ('beta', 1.39), 'sequence_length': 512000000, 'selection_coefficient': 0, 'selection_type': None}\n",
      "288 {'model': ('kingman', None), 'sequence_length': 1000000, 'selection_coefficient': 0.004, 'selection_type': 'weak'}\n",
      "289 {'model': ('beta', 1.06), 'sequence_length': 4096000000, 'selection_coefficient': 0, 'selection_type': None}\n",
      "290 {'model': ('kingman', None), 'sequence_length': 2000000, 'selection_coefficient': 0.007, 'selection_type': 'weak'}\n",
      "291 {'model': ('beta', 1.99), 'sequence_length': 128000000, 'selection_coefficient': 0, 'selection_type': None}\n",
      "292 {'model': ('kingman', None), 'sequence_length': 4000000, 'selection_coefficient': 0.054, 'selection_type': 'medium'}\n",
      "293 {'model': ('beta', 1.95), 'sequence_length': 32000000, 'selection_coefficient': 0, 'selection_type': None}\n",
      "294 {'model': ('kingman', None), 'sequence_length': 1000000, 'selection_coefficient': 0, 'selection_type': 'none'}\n",
      "295 {'model': ('beta', 1.5), 'sequence_length': 128000000, 'selection_coefficient': 0, 'selection_type': None}\n",
      "296 {'model': ('kingman', None), 'sequence_length': 2000000, 'selection_coefficient': 0.023, 'selection_type': 'medium'}\n",
      "297 {'model': ('beta', 1.66), 'sequence_length': 64000000, 'selection_coefficient': 0, 'selection_type': None}\n",
      "298 {'model': ('kingman', None), 'sequence_length': 1000000, 'selection_coefficient': 0, 'selection_type': 'none'}\n",
      "299 {'model': ('beta', 1.62), 'sequence_length': 64000000, 'selection_coefficient': 0, 'selection_type': None}\n",
      "300 {'model': ('kingman', None), 'sequence_length': 1000000, 'selection_coefficient': 0, 'selection_type': 'none'}\n",
      "301 {'model': ('beta', 1.11), 'sequence_length': 2048000000, 'selection_coefficient': 0, 'selection_type': None}\n",
      "302 {'model': ('kingman', None), 'sequence_length': 1000000, 'selection_coefficient': 0, 'selection_type': 'none'}\n"
     ]
    },
    {
     "name": "stderr",
     "output_type": "stream",
     "text": [
      "WARNING:tsinfer.inference:No sites used for inference\n",
      "WARNING:tsinfer.inference:No sites used for inference\n"
     ]
    },
    {
     "name": "stdout",
     "output_type": "stream",
     "text": [
      "303 {'model': ('beta', 1.6), 'sequence_length': 64000000, 'selection_coefficient': 0, 'selection_type': None}\n",
      "304 {'model': ('kingman', None), 'sequence_length': 16000000, 'selection_coefficient': 0.811, 'selection_type': 'strong'}\n",
      "305 {'model': ('beta', 1.89), 'sequence_length': 32000000, 'selection_coefficient': 0, 'selection_type': None}\n",
      "306 {'model': ('kingman', None), 'sequence_length': 1000000, 'selection_coefficient': 0.01, 'selection_type': 'weak'}\n",
      "307 {'model': ('beta', 1.94), 'sequence_length': 32000000, 'selection_coefficient': 0, 'selection_type': None}\n"
     ]
    }
   ],
   "source": [
    "np.random.seed(0x999999)\n",
    "directory = \"./inferred_undated_classification_dataset/\"\n",
    "\n",
    "\n",
    "for nth_scenario in range(0, 10_000):\n",
    "\n",
    "    if nth_scenario % 2 == 0:\n",
    "    \n",
    "    \n",
    "        L = 1_000_000\n",
    "        s, selection_type = sample_selection_coefficient()\n",
    "\n",
    "        model_kingman = get_kingman_model(s, L)\n",
    "        tree_sequences = simulate_tree_sequence(L, model_kingman, 1+nth_scenario*10, num_replicates=1)\n",
    "        tree_sequences = [reinferts(ts) for ts in tree_sequences]\n",
    "        num_ts_above_1999 = np.sum([1 if ts.num_trees >= 1000 else 0 for ts in tree_sequences])\n",
    "\n",
    "        while num_ts_above_1999 < 1:\n",
    "            L = L*2\n",
    "            #print(L)\n",
    "            model_kingman = get_kingman_model(s, L)\n",
    "            tree_sequences = simulate_tree_sequence(L, model_kingman, 1+nth_scenario*10, num_replicates=1)\n",
    "            tree_sequences = [reinferts(ts) for ts in tree_sequences]\n",
    "            \n",
    "            num_ts_above_1999 = np.sum([1 if ts.num_trees >= 1000 else 0 for ts in tree_sequences])\n",
    "\n",
    "\n",
    "\n",
    "        \n",
    "        c = 0\n",
    "        for j, ts in enumerate(tree_sequences):\n",
    "\n",
    "            if ts.num_trees >= 1000 and c < 1:\n",
    "                y_dict = {\"model\": (\"kingman\", None), \"sequence_length\":L, \"selection_coefficient\":s, \"selection_type\":selection_type}\n",
    "                torch.save((ts, y_dict),  open(str(directory) + \"kingman_\" + str(nth_scenario) + \"_\" + str(j) + \".pth\", \"wb\"))\n",
    "                c += 1\n",
    "                \n",
    "    else:\n",
    "        \n",
    "        L = 1_000_000\n",
    "        \n",
    "        alpha = np.round(np.random.uniform(1.01, 1.99), 2)\n",
    "        model_beta = get_beta_model(alpha)\n",
    "        \n",
    "        tree_sequences = simulate_tree_sequence(L, model_beta, 1+nth_scenario*10, num_replicates=1)\n",
    "        tree_sequences = [reinferts(ts) for ts in tree_sequences]\n",
    "\n",
    "        num_ts_above_1999 = np.sum([1 if ts.num_trees >= 1000 else 0 for ts in tree_sequences])\n",
    "\n",
    "        while num_ts_above_1999 < 1:\n",
    "            L = L*2\n",
    "            #print(L, num_ts_above_1999)\n",
    "            model_beta = get_beta_model(alpha)\n",
    "            tree_sequences = simulate_tree_sequence(L, model_beta, 1+nth_scenario*10, num_replicates=1)\n",
    "            tree_sequences = [reinferts(ts) for ts in tree_sequences]\n",
    "            \n",
    "            num_ts_above_1999 = np.sum([1 if ts.num_trees >= 1000 else 0 for ts in tree_sequences])\n",
    "\n",
    "\n",
    "        c = 0\n",
    "        for j, ts in enumerate(tree_sequences):\n",
    "\n",
    "            if ts.num_trees >= 1000 and c < 1:\n",
    "                y_dict = {\"model\": (\"beta\", alpha), \"sequence_length\":L, \"selection_coefficient\":0, \"selection_type\":None}\n",
    "                torch.save((ts, y_dict),  open(str(directory) + \"beta_\" + str(nth_scenario) + \"_\" + str(j) + \".pth\", \"wb\"))\n",
    "                c += 1\n",
    "\n",
    "    print(nth_scenario, y_dict)"
   ]
  },
  {
   "cell_type": "code",
   "execution_count": null,
   "id": "6952d9de-21d3-400a-a9a8-257afcabaa00",
   "metadata": {},
   "outputs": [],
   "source": []
  },
  {
   "cell_type": "code",
   "execution_count": null,
   "id": "680e0f3f-e6ee-49f0-90b1-e0b59395fc63",
   "metadata": {},
   "outputs": [],
   "source": []
  },
  {
   "cell_type": "code",
   "execution_count": null,
   "id": "f8ee3cf9-e82f-4ed4-92c3-1e5f80b0abd3",
   "metadata": {},
   "outputs": [],
   "source": []
  },
  {
   "cell_type": "code",
   "execution_count": null,
   "id": "68832e7e-a8ad-4dca-8d40-b098d407f34c",
   "metadata": {},
   "outputs": [],
   "source": []
  },
  {
   "cell_type": "code",
   "execution_count": null,
   "id": "01adc5a4-9259-45fb-ac2e-e4bc64f666a7",
   "metadata": {},
   "outputs": [],
   "source": []
  },
  {
   "cell_type": "code",
   "execution_count": null,
   "id": "7bf2424c-f734-4f48-a699-3009c3e64135",
   "metadata": {},
   "outputs": [],
   "source": []
  },
  {
   "cell_type": "code",
   "execution_count": null,
   "id": "edaa39da-2e6e-41fa-a892-eda7cce8ea70",
   "metadata": {},
   "outputs": [],
   "source": []
  },
  {
   "cell_type": "code",
   "execution_count": null,
   "id": "49c0906e-f6e8-438b-a2d2-a2ada8ca29df",
   "metadata": {},
   "outputs": [],
   "source": []
  },
  {
   "cell_type": "code",
   "execution_count": null,
   "id": "5493458a-8af8-4966-bd2c-3876e9e64e73",
   "metadata": {},
   "outputs": [],
   "source": []
  }
 ],
 "metadata": {
  "kernelspec": {
   "display_name": "Python 3 (ipykernel)",
   "language": "python",
   "name": "python3"
  },
  "language_info": {
   "codemirror_mode": {
    "name": "ipython",
    "version": 3
   },
   "file_extension": ".py",
   "mimetype": "text/x-python",
   "name": "python",
   "nbconvert_exporter": "python",
   "pygments_lexer": "ipython3",
   "version": "3.8.10"
  }
 },
 "nbformat": 4,
 "nbformat_minor": 5
}
