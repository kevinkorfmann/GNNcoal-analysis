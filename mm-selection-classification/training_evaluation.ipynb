{
 "cells": [
  {
   "cell_type": "code",
   "execution_count": 1,
   "id": "de09faac-c911-45aa-8c3f-1b59c1b19fef",
   "metadata": {},
   "outputs": [],
   "source": [
    "%load_ext autoreload\n",
    "%autoreload 2\n",
    "import sys\n",
    "sys.path.append(\"/home/ubuntu/graphseq-inference/\")\n",
    "from graphseq_inference.models import *"
   ]
  },
  {
   "cell_type": "code",
   "execution_count": 2,
   "id": "2a19bf07-b606-41e9-b759-012891c6eb6a",
   "metadata": {},
   "outputs": [],
   "source": [
    "import networkx as nx\n",
    "import tsinfer\n",
    "from torch_geometric.utils import from_networkx\n",
    "import tskit\n",
    "import os\n",
    "import numpy as np\n",
    "import tsdate"
   ]
  },
  {
   "cell_type": "code",
   "execution_count": 3,
   "id": "4e74e595-3496-4203-a625-b41767b99cd0",
   "metadata": {},
   "outputs": [],
   "source": [
    "import torch\n",
    "import numpy as np\n",
    "import random\n",
    "import os\n",
    "\n",
    "def seed_everything(seed):\n",
    "    \"\"\"\n",
    "    Seed everything to make all random processes reproducible.\n",
    "    :param seed: An integer for the seed.\n",
    "    :return: None\n",
    "    \"\"\"\n",
    "    random.seed(seed)            # Python random module\n",
    "    np.random.seed(seed)         # Numpy\n",
    "    torch.manual_seed(seed)      # PyTorch\n",
    "    torch.cuda.manual_seed(seed) # PyTorch CUDA (for GPU computation)\n",
    "    torch.cuda.manual_seed_all(seed) # PyTorch CUDA (for all GPUs)\n",
    "    torch.backends.cudnn.deterministic = True\n",
    "    torch.backends.cudnn.benchmark = False\n",
    "    os.environ['PYTHONHASHSEED'] = str(seed)  # Environment variable\n",
    "\n",
    "# Example usage\n",
    "seed = 42\n",
    "seed_everything(seed)"
   ]
  },
  {
   "cell_type": "code",
   "execution_count": 4,
   "id": "624225a9-d4ca-4e08-8896-e8a7e8bcf6b2",
   "metadata": {},
   "outputs": [],
   "source": [
    "label_lookup = {\n",
    "    \"kingman_selection_none\" : 0,\n",
    "    \"kingman_selection_weak\" : 1,\n",
    "    \"kingman_selection_medium\" : 2,\n",
    "    \"kingman_selection_strong\" : 3,\n",
    "    \n",
    "    \"beta_selection_a1.99-1.75\" : 4,\n",
    "    \"beta_selection_a1.75-1.50\" : 5,\n",
    "    \"beta_selection_a1.50-1.25\" : 6,\n",
    "    \"beta_selection_a1.25-1.01\" : 7,    \n",
    "}\n",
    "\n",
    "\n",
    "def get_y_label_from_y_dict(y_dict):\n",
    "    reproduction_model, parameter = y_dict[\"model\"]\n",
    "\n",
    "    if reproduction_model == \"beta\":\n",
    "        if parameter < 1.25: return torch.Tensor([7]).long()\n",
    "        if parameter < 1.5: return torch.Tensor([6]).long()\n",
    "        if parameter < 1.75: return torch.Tensor([5]).long()\n",
    "        if parameter < 2: return torch.Tensor([4]).long()\n",
    "    else:\n",
    "        label = y_dict[\"model\"][0] + \"_selection_\" + y_dict[\"selection_type\"]\n",
    "        y = torch.Tensor([label_lookup[label]]).long()\n",
    "        return y\n",
    "\n",
    "def convert_for_classification(file: tskit.trees.TreeSequence):\n",
    "    data_objects, y_dict = torch.load(file)    \n",
    "    y = get_y_label_from_y_dict(y_dict)\n",
    "    for data in data_objects: data.y = y\n",
    "    return data_objects"
   ]
  },
  {
   "cell_type": "code",
   "execution_count": null,
   "id": "92eed435-9b8b-4d55-bc24-3e401e303d4e",
   "metadata": {},
   "outputs": [],
   "source": []
  },
  {
   "cell_type": "code",
   "execution_count": null,
   "id": "a3af2303-7b83-4977-b47a-0b0ce3b7c0aa",
   "metadata": {},
   "outputs": [],
   "source": []
  },
  {
   "cell_type": "code",
   "execution_count": null,
   "id": "37827073-a3d4-4912-88f8-2556f46a5ffe",
   "metadata": {},
   "outputs": [],
   "source": []
  },
  {
   "cell_type": "code",
   "execution_count": 5,
   "id": "ddbc2e12-d47e-4549-b84e-0092f8478fd7",
   "metadata": {},
   "outputs": [],
   "source": [
    "class ClassificationModel(nn.Module):\n",
    "    \n",
    "    def __init__(self, DemographyNet, num_classes, time_window=60):\n",
    "        super().__init__()\n",
    "        self.l1 = nn.Linear(time_window, time_window//2)\n",
    "        self.l2 = nn.Linear(time_window//2, num_classes)\n",
    "        self.DemographyNet = DemographyNet\n",
    "    \n",
    "    def forward(self, batch):\n",
    "        x = self.DemographyNet(batch)\n",
    "        return self.l2(F.relu(self.l1(x)))"
   ]
  },
  {
   "cell_type": "code",
   "execution_count": 6,
   "id": "b23eb940-5c10-4dd6-84ad-2c8107020995",
   "metadata": {},
   "outputs": [],
   "source": [
    "def calculate_accuracy(predictions, targets):\n",
    "    predictions_tensor = torch.tensor(predictions)\n",
    "    targets_tensor = torch.tensor(targets)\n",
    "    \n",
    "    correct = (predictions_tensor == targets_tensor).sum().item()\n",
    "    total = targets_tensor.size(0)\n",
    "    accuracy = correct / total\n",
    "    return accuracy"
   ]
  },
  {
   "cell_type": "code",
   "execution_count": 31,
   "id": "c7368a3a-313b-4b9b-b684-04780b037ed4",
   "metadata": {},
   "outputs": [],
   "source": [
    "device = torch.device('cuda:1' if torch.cuda.is_available() else 'cpu')\n",
    "demography_net = DiffPoolNet(19, 60, 192, 60)#.to(device)\n",
    "model = ClassificationModel(demography_net, num_classes=8).to(device)\n",
    "criterion = nn.CrossEntropyLoss()"
   ]
  },
  {
   "cell_type": "code",
   "execution_count": 8,
   "id": "2471880d-bba3-4328-b881-3852590ef1ee",
   "metadata": {},
   "outputs": [],
   "source": []
  },
  {
   "cell_type": "code",
   "execution_count": 79,
   "id": "182e4318-61d9-4061-9e55-bba31a13efd3",
   "metadata": {},
   "outputs": [
    {
     "name": "stdout",
     "output_type": "stream",
     "text": [
      "40000\n",
      "5000\n"
     ]
    }
   ],
   "source": [
    "directory = \"./classification-dataset/\"\n",
    "files = os.listdir(directory)\n",
    "files = [directory +  file for file in files]\n",
    "print(len(files))\n",
    "# restrict to 5000 since there are only 4000 inferred sequences\n",
    "files = files[:5000]\n",
    "print(len(files))"
   ]
  },
  {
   "cell_type": "code",
   "execution_count": 80,
   "id": "779f4499-2d01-4f7c-bd2a-fb5ca166edcf",
   "metadata": {},
   "outputs": [],
   "source": [
    "#directory = \"./classification-dataset-inf/\"\n",
    "#files = os.listdir(directory)\n",
    "#files = [directory +  file for file in files]\n",
    "#len(files)\n",
    "\n",
    "train_files = files[:int(len(files)*0.8)]\n",
    "test_files = files[int(len(files)*0.8):]"
   ]
  },
  {
   "cell_type": "code",
   "execution_count": 34,
   "id": "6adc1de8-bcb9-416c-99e7-d453eace53f3",
   "metadata": {},
   "outputs": [],
   "source": [
    "optimizer = torch.optim.AdamW(model.parameters(), lr=2e-5)"
   ]
  },
  {
   "cell_type": "code",
   "execution_count": 35,
   "id": "2fc85080-aee6-4c33-9f89-125a2431ec9e",
   "metadata": {
    "collapsed": true,
    "jupyter": {
     "outputs_hidden": true
    }
   },
   "outputs": [
    {
     "data": {
      "application/vnd.jupyter.widget-view+json": {
       "model_id": "9489035b6e4c42f6af7273ce516b6ae8",
       "version_major": 2,
       "version_minor": 0
      },
      "text/plain": [
       "  0%|          | 0/4000 [00:00<?, ?it/s]"
      ]
     },
     "metadata": {},
     "output_type": "display_data"
    },
    {
     "name": "stdout",
     "output_type": "stream",
     "text": [
      "Epoch: 000, Train Loss: 77.6499, Acc: 0.1719\n",
      "Epoch: 000, Train Loss: 95.2477, Acc: 0.0938\n",
      "Epoch: 000, Train Loss: 90.2537, Acc: 0.0781\n",
      "Epoch: 000, Train Loss: 73.8854, Acc: 0.1406\n",
      "Epoch: 000, Train Loss: 91.0332, Acc: 0.1094\n",
      "Epoch: 000, Train Loss: 80.1042, Acc: 0.0938\n",
      "Epoch: 000, Train Loss: 81.8994, Acc: 0.0938\n",
      "Epoch: 000, Train Loss: 78.8727, Acc: 0.1094\n",
      "Epoch: 000, Train Loss: 72.8560, Acc: 0.1250\n",
      "Epoch: 000, Train Loss: 84.3045, Acc: 0.1094\n",
      "Epoch: 000, Train Loss: 71.7272, Acc: 0.1250\n",
      "Epoch: 000, Train Loss: 75.9117, Acc: 0.1875\n",
      "Epoch: 000, Train Loss: 79.7787, Acc: 0.1250\n",
      "Epoch: 000, Train Loss: 70.5675, Acc: 0.1875\n",
      "Epoch: 000, Train Loss: 74.4881, Acc: 0.1406\n",
      "Epoch: 000, Train Loss: 68.7277, Acc: 0.1562\n",
      "Epoch: 000, Train Loss: 69.5913, Acc: 0.1562\n",
      "Epoch: 000, Train Loss: 74.1003, Acc: 0.0938\n",
      "Epoch: 000, Train Loss: 64.9445, Acc: 0.2031\n",
      "Epoch: 000, Train Loss: 67.6809, Acc: 0.0938\n",
      "Epoch: 000, Train Loss: 64.7562, Acc: 0.1094\n",
      "Epoch: 000, Train Loss: 65.8996, Acc: 0.1250\n",
      "Epoch: 000, Train Loss: 62.7530, Acc: 0.1250\n",
      "Epoch: 000, Train Loss: 62.1881, Acc: 0.1250\n",
      "Epoch: 000, Train Loss: 57.2136, Acc: 0.1094\n",
      "Epoch: 000, Train Loss: 64.5865, Acc: 0.1094\n",
      "Epoch: 000, Train Loss: 73.9941, Acc: 0.0469\n",
      "Epoch: 000, Train Loss: 63.4037, Acc: 0.0781\n",
      "Epoch: 000, Train Loss: 62.2619, Acc: 0.0781\n",
      "Epoch: 000, Train Loss: 59.8954, Acc: 0.0625\n",
      "Epoch: 000, Train Loss: 63.0694, Acc: 0.1094\n",
      "Epoch: 000, Train Loss: 55.0024, Acc: 0.0781\n",
      "Epoch: 000, Train Loss: 64.2691, Acc: 0.0781\n",
      "Epoch: 000, Train Loss: 61.5627, Acc: 0.1250\n",
      "Epoch: 000, Train Loss: 54.1339, Acc: 0.0781\n",
      "Epoch: 000, Train Loss: 56.6770, Acc: 0.1250\n",
      "Epoch: 000, Train Loss: 62.1553, Acc: 0.0938\n",
      "Epoch: 000, Train Loss: 49.9792, Acc: 0.0938\n",
      "Epoch: 000, Train Loss: 52.2733, Acc: 0.1094\n",
      "Epoch: 000, Train Loss: 52.7116, Acc: 0.1094\n",
      "Epoch: 000, Train Loss: 51.8334, Acc: 0.1719\n",
      "Epoch: 000, Train Loss: 54.9793, Acc: 0.0625\n",
      "Epoch: 000, Train Loss: 49.1837, Acc: 0.1250\n",
      "Epoch: 000, Train Loss: 45.2559, Acc: 0.1562\n",
      "Epoch: 000, Train Loss: 46.0936, Acc: 0.1406\n",
      "Epoch: 000, Train Loss: 49.4818, Acc: 0.1250\n",
      "Epoch: 000, Train Loss: 41.7564, Acc: 0.1719\n",
      "Epoch: 000, Train Loss: 44.0949, Acc: 0.1562\n",
      "Epoch: 000, Train Loss: 48.5023, Acc: 0.0312\n",
      "Epoch: 000, Train Loss: 49.3820, Acc: 0.0938\n",
      "Epoch: 000, Train Loss: 44.2955, Acc: 0.1250\n",
      "Epoch: 000, Train Loss: 46.4508, Acc: 0.2031\n",
      "Epoch: 000, Train Loss: 56.1419, Acc: 0.1875\n",
      "Epoch: 000, Train Loss: 40.5213, Acc: 0.2031\n",
      "Epoch: 000, Train Loss: 46.3555, Acc: 0.1562\n",
      "Epoch: 000, Train Loss: 39.7581, Acc: 0.2188\n",
      "Epoch: 000, Train Loss: 33.1224, Acc: 0.2500\n"
     ]
    },
    {
     "data": {
      "application/vnd.jupyter.widget-view+json": {
       "model_id": "0f92972546d9499585e4518ca50b0e62",
       "version_major": 2,
       "version_minor": 0
      },
      "text/plain": [
       "  0%|          | 0/1000 [00:00<?, ?it/s]"
      ]
     },
     "metadata": {},
     "output_type": "display_data"
    },
    {
     "name": "stdout",
     "output_type": "stream",
     "text": [
      "Epoch: 000, Test loss: 41.6188, 0.1680\n"
     ]
    },
    {
     "data": {
      "application/vnd.jupyter.widget-view+json": {
       "model_id": "df1bc596883a4d14bccb3531c83ffe32",
       "version_major": 2,
       "version_minor": 0
      },
      "text/plain": [
       "  0%|          | 0/4000 [00:00<?, ?it/s]"
      ]
     },
     "metadata": {},
     "output_type": "display_data"
    },
    {
     "name": "stdout",
     "output_type": "stream",
     "text": [
      "Epoch: 001, Train Loss: 43.3217, Acc: 0.1385\n",
      "Epoch: 001, Train Loss: 44.2892, Acc: 0.1719\n",
      "Epoch: 001, Train Loss: 39.8495, Acc: 0.1562\n",
      "Epoch: 001, Train Loss: 44.9505, Acc: 0.0469\n",
      "Epoch: 001, Train Loss: 35.8487, Acc: 0.1875\n",
      "Epoch: 001, Train Loss: 35.5068, Acc: 0.1562\n",
      "Epoch: 001, Train Loss: 43.8947, Acc: 0.1719\n",
      "Epoch: 001, Train Loss: 41.3716, Acc: 0.1719\n",
      "Epoch: 001, Train Loss: 39.7324, Acc: 0.0469\n",
      "Epoch: 001, Train Loss: 32.8521, Acc: 0.2344\n",
      "Epoch: 001, Train Loss: 46.7090, Acc: 0.1250\n",
      "Epoch: 001, Train Loss: 35.2630, Acc: 0.2812\n",
      "Epoch: 001, Train Loss: 45.1308, Acc: 0.2188\n",
      "Epoch: 001, Train Loss: 34.8117, Acc: 0.1875\n",
      "Epoch: 001, Train Loss: 40.6285, Acc: 0.1719\n",
      "Epoch: 001, Train Loss: 30.4882, Acc: 0.2500\n",
      "Epoch: 001, Train Loss: 40.6523, Acc: 0.1562\n",
      "Epoch: 001, Train Loss: 25.3609, Acc: 0.2969\n",
      "Epoch: 001, Train Loss: 31.8302, Acc: 0.2500\n",
      "Epoch: 001, Train Loss: 32.3938, Acc: 0.1562\n",
      "Epoch: 001, Train Loss: 37.4692, Acc: 0.1406\n",
      "Epoch: 001, Train Loss: 39.2515, Acc: 0.1875\n",
      "Epoch: 001, Train Loss: 37.9897, Acc: 0.2188\n",
      "Epoch: 001, Train Loss: 28.3277, Acc: 0.2031\n",
      "Epoch: 001, Train Loss: 30.4711, Acc: 0.1562\n",
      "Epoch: 001, Train Loss: 26.9017, Acc: 0.2812\n",
      "Epoch: 001, Train Loss: 21.2995, Acc: 0.1719\n",
      "Epoch: 001, Train Loss: 30.5346, Acc: 0.2031\n",
      "Epoch: 001, Train Loss: 23.4910, Acc: 0.2188\n",
      "Epoch: 001, Train Loss: 27.6302, Acc: 0.1719\n",
      "Epoch: 001, Train Loss: 32.8601, Acc: 0.1406\n",
      "Epoch: 001, Train Loss: 30.1942, Acc: 0.1562\n",
      "Epoch: 001, Train Loss: 23.1943, Acc: 0.1406\n",
      "Epoch: 001, Train Loss: 26.1072, Acc: 0.2812\n",
      "Epoch: 001, Train Loss: 27.1367, Acc: 0.2344\n",
      "Epoch: 001, Train Loss: 28.6401, Acc: 0.2188\n",
      "Epoch: 001, Train Loss: 20.8064, Acc: 0.2031\n",
      "Epoch: 001, Train Loss: 27.3269, Acc: 0.1406\n",
      "Epoch: 001, Train Loss: 24.3609, Acc: 0.1719\n",
      "Epoch: 001, Train Loss: 18.8667, Acc: 0.2031\n",
      "Epoch: 001, Train Loss: 23.1438, Acc: 0.1094\n",
      "Epoch: 001, Train Loss: 19.0649, Acc: 0.2656\n",
      "Epoch: 001, Train Loss: 19.9627, Acc: 0.1094\n",
      "Epoch: 001, Train Loss: 16.5255, Acc: 0.2344\n",
      "Epoch: 001, Train Loss: 15.9663, Acc: 0.1719\n",
      "Epoch: 001, Train Loss: 23.0565, Acc: 0.0938\n",
      "Epoch: 001, Train Loss: 14.2699, Acc: 0.1719\n",
      "Epoch: 001, Train Loss: 18.5183, Acc: 0.1875\n",
      "Epoch: 001, Train Loss: 17.2294, Acc: 0.1562\n",
      "Epoch: 001, Train Loss: 27.0553, Acc: 0.1719\n",
      "Epoch: 001, Train Loss: 19.0164, Acc: 0.1094\n",
      "Epoch: 001, Train Loss: 15.0000, Acc: 0.2656\n",
      "Epoch: 001, Train Loss: 17.0472, Acc: 0.0938\n",
      "Epoch: 001, Train Loss: 15.4851, Acc: 0.1562\n",
      "Epoch: 001, Train Loss: 16.3462, Acc: 0.0469\n",
      "Epoch: 001, Train Loss: 18.1973, Acc: 0.1094\n",
      "Epoch: 001, Train Loss: 20.4165, Acc: 0.1719\n",
      "Epoch: 001, Train Loss: 15.3975, Acc: 0.1406\n",
      "Epoch: 001, Train Loss: 14.0765, Acc: 0.2812\n",
      "Epoch: 001, Train Loss: 17.1240, Acc: 0.1250\n",
      "Epoch: 001, Train Loss: 16.8453, Acc: 0.1562\n",
      "Epoch: 001, Train Loss: 10.5518, Acc: 0.1719\n"
     ]
    },
    {
     "data": {
      "application/vnd.jupyter.widget-view+json": {
       "model_id": "4452cb5e78504e7ab591d6fccab74307",
       "version_major": 2,
       "version_minor": 0
      },
      "text/plain": [
       "  0%|          | 0/1000 [00:00<?, ?it/s]"
      ]
     },
     "metadata": {},
     "output_type": "display_data"
    },
    {
     "name": "stdout",
     "output_type": "stream",
     "text": [
      "Epoch: 001, Test loss: 16.6288, 0.1400\n"
     ]
    },
    {
     "data": {
      "application/vnd.jupyter.widget-view+json": {
       "model_id": "3b54c94d2e6040108018410f2c12d19b",
       "version_major": 2,
       "version_minor": 0
      },
      "text/plain": [
       "  0%|          | 0/4000 [00:00<?, ?it/s]"
      ]
     },
     "metadata": {},
     "output_type": "display_data"
    },
    {
     "name": "stdout",
     "output_type": "stream",
     "text": [
      "Epoch: 002, Train Loss: 10.5839, Acc: 0.2615\n",
      "Epoch: 002, Train Loss: 14.7048, Acc: 0.1406\n",
      "Epoch: 002, Train Loss: 12.6975, Acc: 0.1406\n",
      "Epoch: 002, Train Loss: 15.8392, Acc: 0.1562\n",
      "Epoch: 002, Train Loss: 15.7128, Acc: 0.2500\n",
      "Epoch: 002, Train Loss: 15.9632, Acc: 0.2500\n",
      "Epoch: 002, Train Loss: 14.2903, Acc: 0.2344\n",
      "Epoch: 002, Train Loss: 15.0600, Acc: 0.2188\n",
      "Epoch: 002, Train Loss: 11.9626, Acc: 0.2031\n",
      "Epoch: 002, Train Loss: 15.3623, Acc: 0.1562\n",
      "Epoch: 002, Train Loss: 14.6944, Acc: 0.1719\n",
      "Epoch: 002, Train Loss: 14.6537, Acc: 0.2188\n",
      "Epoch: 002, Train Loss: 15.4240, Acc: 0.1875\n",
      "Epoch: 002, Train Loss: 11.1384, Acc: 0.0781\n",
      "Epoch: 002, Train Loss: 13.3067, Acc: 0.1719\n",
      "Epoch: 002, Train Loss: 9.1149, Acc: 0.1094\n",
      "Epoch: 002, Train Loss: 12.6897, Acc: 0.2188\n",
      "Epoch: 002, Train Loss: 17.6262, Acc: 0.1875\n",
      "Epoch: 002, Train Loss: 11.3072, Acc: 0.1562\n",
      "Epoch: 002, Train Loss: 7.7281, Acc: 0.1094\n",
      "Epoch: 002, Train Loss: 7.7236, Acc: 0.2344\n",
      "Epoch: 002, Train Loss: 13.1906, Acc: 0.1406\n",
      "Epoch: 002, Train Loss: 9.2220, Acc: 0.1562\n",
      "Epoch: 002, Train Loss: 7.5834, Acc: 0.2500\n",
      "Epoch: 002, Train Loss: 12.8583, Acc: 0.2344\n",
      "Epoch: 002, Train Loss: 13.7111, Acc: 0.1719\n",
      "Epoch: 002, Train Loss: 11.1029, Acc: 0.1875\n",
      "Epoch: 002, Train Loss: 11.2342, Acc: 0.1875\n",
      "Epoch: 002, Train Loss: 11.3019, Acc: 0.1250\n",
      "Epoch: 002, Train Loss: 8.2651, Acc: 0.1562\n",
      "Epoch: 002, Train Loss: 10.4555, Acc: 0.1562\n",
      "Epoch: 002, Train Loss: 15.6010, Acc: 0.0312\n",
      "Epoch: 002, Train Loss: 9.0304, Acc: 0.1406\n",
      "Epoch: 002, Train Loss: 9.0116, Acc: 0.1562\n",
      "Epoch: 002, Train Loss: 9.7056, Acc: 0.1406\n",
      "Epoch: 002, Train Loss: 7.7936, Acc: 0.1562\n",
      "Epoch: 002, Train Loss: 12.6075, Acc: 0.1562\n",
      "Epoch: 002, Train Loss: 9.9344, Acc: 0.1250\n",
      "Epoch: 002, Train Loss: 11.0811, Acc: 0.1875\n",
      "Epoch: 002, Train Loss: 8.9296, Acc: 0.0938\n",
      "Epoch: 002, Train Loss: 10.0780, Acc: 0.1250\n",
      "Epoch: 002, Train Loss: 7.9024, Acc: 0.1875\n",
      "Epoch: 002, Train Loss: 13.9766, Acc: 0.1250\n",
      "Epoch: 002, Train Loss: 10.6648, Acc: 0.2031\n",
      "Epoch: 002, Train Loss: 12.3528, Acc: 0.1250\n",
      "Epoch: 002, Train Loss: 8.0042, Acc: 0.1406\n",
      "Epoch: 002, Train Loss: 11.0414, Acc: 0.2188\n",
      "Epoch: 002, Train Loss: 8.0037, Acc: 0.1562\n",
      "Epoch: 002, Train Loss: 8.1343, Acc: 0.1406\n",
      "Epoch: 002, Train Loss: 11.2066, Acc: 0.1719\n",
      "Epoch: 002, Train Loss: 5.3042, Acc: 0.2188\n",
      "Epoch: 002, Train Loss: 7.2167, Acc: 0.1406\n",
      "Epoch: 002, Train Loss: 8.4684, Acc: 0.1719\n",
      "Epoch: 002, Train Loss: 9.1154, Acc: 0.2500\n",
      "Epoch: 002, Train Loss: 10.9501, Acc: 0.1094\n",
      "Epoch: 002, Train Loss: 12.3050, Acc: 0.0938\n",
      "Epoch: 002, Train Loss: 7.7241, Acc: 0.1719\n",
      "Epoch: 002, Train Loss: 11.2138, Acc: 0.2500\n",
      "Epoch: 002, Train Loss: 8.6091, Acc: 0.1562\n",
      "Epoch: 002, Train Loss: 6.7765, Acc: 0.1250\n",
      "Epoch: 002, Train Loss: 9.2758, Acc: 0.2344\n",
      "Epoch: 002, Train Loss: 7.6566, Acc: 0.3125\n"
     ]
    },
    {
     "data": {
      "application/vnd.jupyter.widget-view+json": {
       "model_id": "5e21c4de5be44d2eab530ee942df11ec",
       "version_major": 2,
       "version_minor": 0
      },
      "text/plain": [
       "  0%|          | 0/1000 [00:00<?, ?it/s]"
      ]
     },
     "metadata": {},
     "output_type": "display_data"
    },
    {
     "name": "stdout",
     "output_type": "stream",
     "text": [
      "Epoch: 002, Test loss: 9.1336, 0.1730\n"
     ]
    },
    {
     "data": {
      "application/vnd.jupyter.widget-view+json": {
       "model_id": "120e7c98a15d4968bdfd87e96c1f3c3f",
       "version_major": 2,
       "version_minor": 0
      },
      "text/plain": [
       "  0%|          | 0/4000 [00:00<?, ?it/s]"
      ]
     },
     "metadata": {},
     "output_type": "display_data"
    },
    {
     "name": "stdout",
     "output_type": "stream",
     "text": [
      "Epoch: 003, Train Loss: 7.6817, Acc: 0.2615\n",
      "Epoch: 003, Train Loss: 3.8748, Acc: 0.4062\n",
      "Epoch: 003, Train Loss: 6.3962, Acc: 0.2812\n",
      "Epoch: 003, Train Loss: 8.8013, Acc: 0.2031\n",
      "Epoch: 003, Train Loss: 9.0981, Acc: 0.2188\n",
      "Epoch: 003, Train Loss: 5.6648, Acc: 0.2500\n",
      "Epoch: 003, Train Loss: 5.4925, Acc: 0.2500\n",
      "Epoch: 003, Train Loss: 6.7818, Acc: 0.2031\n",
      "Epoch: 003, Train Loss: 7.7525, Acc: 0.1875\n",
      "Epoch: 003, Train Loss: 7.4034, Acc: 0.2969\n",
      "Epoch: 003, Train Loss: 9.4506, Acc: 0.2500\n",
      "Epoch: 003, Train Loss: 6.7400, Acc: 0.2969\n",
      "Epoch: 003, Train Loss: 9.6850, Acc: 0.1875\n",
      "Epoch: 003, Train Loss: 5.4596, Acc: 0.2031\n",
      "Epoch: 003, Train Loss: 7.0414, Acc: 0.3281\n",
      "Epoch: 003, Train Loss: 8.1904, Acc: 0.2969\n",
      "Epoch: 003, Train Loss: 9.1029, Acc: 0.2812\n",
      "Epoch: 003, Train Loss: 8.7757, Acc: 0.3125\n",
      "Epoch: 003, Train Loss: 9.2483, Acc: 0.2188\n",
      "Epoch: 003, Train Loss: 4.8726, Acc: 0.2969\n",
      "Epoch: 003, Train Loss: 6.6903, Acc: 0.3438\n",
      "Epoch: 003, Train Loss: 3.6662, Acc: 0.3438\n",
      "Epoch: 003, Train Loss: 8.1448, Acc: 0.2812\n",
      "Epoch: 003, Train Loss: 6.3581, Acc: 0.2188\n",
      "Epoch: 003, Train Loss: 4.1022, Acc: 0.3750\n",
      "Epoch: 003, Train Loss: 6.7170, Acc: 0.2969\n",
      "Epoch: 003, Train Loss: 6.3778, Acc: 0.2812\n",
      "Epoch: 003, Train Loss: 7.5873, Acc: 0.2969\n",
      "Epoch: 003, Train Loss: 5.5779, Acc: 0.2188\n",
      "Epoch: 003, Train Loss: 5.4549, Acc: 0.3125\n",
      "Epoch: 003, Train Loss: 6.9213, Acc: 0.2500\n",
      "Epoch: 003, Train Loss: 4.0184, Acc: 0.2969\n",
      "Epoch: 003, Train Loss: 6.6466, Acc: 0.1875\n",
      "Epoch: 003, Train Loss: 7.2856, Acc: 0.2500\n",
      "Epoch: 003, Train Loss: 5.5569, Acc: 0.2344\n",
      "Epoch: 003, Train Loss: 6.8981, Acc: 0.3125\n",
      "Epoch: 003, Train Loss: 4.9873, Acc: 0.2969\n",
      "Epoch: 003, Train Loss: 5.0588, Acc: 0.2500\n",
      "Epoch: 003, Train Loss: 4.6966, Acc: 0.3750\n",
      "Epoch: 003, Train Loss: 5.2343, Acc: 0.2344\n",
      "Epoch: 003, Train Loss: 6.0094, Acc: 0.2500\n",
      "Epoch: 003, Train Loss: 6.0339, Acc: 0.2812\n",
      "Epoch: 003, Train Loss: 7.8311, Acc: 0.1719\n",
      "Epoch: 003, Train Loss: 4.9667, Acc: 0.2812\n",
      "Epoch: 003, Train Loss: 3.5301, Acc: 0.2656\n",
      "Epoch: 003, Train Loss: 4.8421, Acc: 0.2656\n",
      "Epoch: 003, Train Loss: 6.7129, Acc: 0.2812\n",
      "Epoch: 003, Train Loss: 3.4621, Acc: 0.2344\n",
      "Epoch: 003, Train Loss: 5.1049, Acc: 0.2656\n",
      "Epoch: 003, Train Loss: 6.3508, Acc: 0.3281\n",
      "Epoch: 003, Train Loss: 6.7017, Acc: 0.2344\n",
      "Epoch: 003, Train Loss: 4.0416, Acc: 0.3125\n",
      "Epoch: 003, Train Loss: 4.1984, Acc: 0.3125\n",
      "Epoch: 003, Train Loss: 4.8621, Acc: 0.3594\n",
      "Epoch: 003, Train Loss: 3.8702, Acc: 0.2656\n",
      "Epoch: 003, Train Loss: 5.2583, Acc: 0.3594\n",
      "Epoch: 003, Train Loss: 3.8429, Acc: 0.3750\n",
      "Epoch: 003, Train Loss: 4.6824, Acc: 0.2812\n",
      "Epoch: 003, Train Loss: 4.1561, Acc: 0.2812\n",
      "Epoch: 003, Train Loss: 4.0830, Acc: 0.3125\n",
      "Epoch: 003, Train Loss: 6.0737, Acc: 0.2344\n",
      "Epoch: 003, Train Loss: 4.4433, Acc: 0.3281\n"
     ]
    },
    {
     "data": {
      "application/vnd.jupyter.widget-view+json": {
       "model_id": "d4557ba6efef45efac6238c0485cf75f",
       "version_major": 2,
       "version_minor": 0
      },
      "text/plain": [
       "  0%|          | 0/1000 [00:00<?, ?it/s]"
      ]
     },
     "metadata": {},
     "output_type": "display_data"
    },
    {
     "name": "stdout",
     "output_type": "stream",
     "text": [
      "Epoch: 003, Test loss: 4.8746, 0.2470\n"
     ]
    },
    {
     "data": {
      "application/vnd.jupyter.widget-view+json": {
       "model_id": "8b84154ddd0a463a887e9e16332ff540",
       "version_major": 2,
       "version_minor": 0
      },
      "text/plain": [
       "  0%|          | 0/4000 [00:00<?, ?it/s]"
      ]
     },
     "metadata": {},
     "output_type": "display_data"
    },
    {
     "name": "stdout",
     "output_type": "stream",
     "text": [
      "Epoch: 004, Train Loss: 4.3236, Acc: 0.3692\n",
      "Epoch: 004, Train Loss: 2.8961, Acc: 0.4531\n",
      "Epoch: 004, Train Loss: 3.7794, Acc: 0.3125\n",
      "Epoch: 004, Train Loss: 3.6548, Acc: 0.3906\n",
      "Epoch: 004, Train Loss: 3.3361, Acc: 0.4375\n",
      "Epoch: 004, Train Loss: 3.9521, Acc: 0.3281\n",
      "Epoch: 004, Train Loss: 3.6607, Acc: 0.3906\n",
      "Epoch: 004, Train Loss: 2.9790, Acc: 0.3594\n",
      "Epoch: 004, Train Loss: 2.4166, Acc: 0.3750\n",
      "Epoch: 004, Train Loss: 2.7023, Acc: 0.2969\n",
      "Epoch: 004, Train Loss: 3.0605, Acc: 0.3438\n",
      "Epoch: 004, Train Loss: 3.3211, Acc: 0.3438\n",
      "Epoch: 004, Train Loss: 2.8315, Acc: 0.2812\n",
      "Epoch: 004, Train Loss: 2.1405, Acc: 0.4375\n",
      "Epoch: 004, Train Loss: 1.9852, Acc: 0.4219\n",
      "Epoch: 004, Train Loss: 3.1061, Acc: 0.3594\n",
      "Epoch: 004, Train Loss: 2.6622, Acc: 0.3125\n",
      "Epoch: 004, Train Loss: 3.0239, Acc: 0.3125\n",
      "Epoch: 004, Train Loss: 2.9080, Acc: 0.3281\n",
      "Epoch: 004, Train Loss: 3.0142, Acc: 0.3281\n",
      "Epoch: 004, Train Loss: 2.8191, Acc: 0.4688\n",
      "Epoch: 004, Train Loss: 2.4470, Acc: 0.2656\n",
      "Epoch: 004, Train Loss: 2.3959, Acc: 0.3125\n",
      "Epoch: 004, Train Loss: 1.7167, Acc: 0.5156\n",
      "Epoch: 004, Train Loss: 2.1505, Acc: 0.3750\n",
      "Epoch: 004, Train Loss: 2.0589, Acc: 0.3438\n",
      "Epoch: 004, Train Loss: 2.1570, Acc: 0.3750\n",
      "Epoch: 004, Train Loss: 1.7689, Acc: 0.4531\n",
      "Epoch: 004, Train Loss: 1.9177, Acc: 0.3281\n",
      "Epoch: 004, Train Loss: 2.1526, Acc: 0.3906\n",
      "Epoch: 004, Train Loss: 2.0056, Acc: 0.3906\n",
      "Epoch: 004, Train Loss: 1.9402, Acc: 0.4062\n",
      "Epoch: 004, Train Loss: 2.1303, Acc: 0.3281\n",
      "Epoch: 004, Train Loss: 2.5372, Acc: 0.3594\n",
      "Epoch: 004, Train Loss: 2.2064, Acc: 0.2812\n",
      "Epoch: 004, Train Loss: 1.9833, Acc: 0.4219\n",
      "Epoch: 004, Train Loss: 1.7815, Acc: 0.4062\n",
      "Epoch: 004, Train Loss: 1.8197, Acc: 0.5000\n",
      "Epoch: 004, Train Loss: 1.6297, Acc: 0.5156\n",
      "Epoch: 004, Train Loss: 1.5663, Acc: 0.4688\n",
      "Epoch: 004, Train Loss: 1.9146, Acc: 0.3125\n",
      "Epoch: 004, Train Loss: 1.5928, Acc: 0.5312\n",
      "Epoch: 004, Train Loss: 2.1536, Acc: 0.4844\n",
      "Epoch: 004, Train Loss: 1.6476, Acc: 0.5000\n",
      "Epoch: 004, Train Loss: 1.9982, Acc: 0.4844\n",
      "Epoch: 004, Train Loss: 1.7543, Acc: 0.3750\n",
      "Epoch: 004, Train Loss: 1.6377, Acc: 0.5156\n",
      "Epoch: 004, Train Loss: 1.6255, Acc: 0.5000\n",
      "Epoch: 004, Train Loss: 1.9062, Acc: 0.3906\n",
      "Epoch: 004, Train Loss: 1.3856, Acc: 0.5781\n",
      "Epoch: 004, Train Loss: 1.9473, Acc: 0.3906\n",
      "Epoch: 004, Train Loss: 1.6905, Acc: 0.5156\n",
      "Epoch: 004, Train Loss: 2.0584, Acc: 0.4375\n",
      "Epoch: 004, Train Loss: 1.7821, Acc: 0.3906\n",
      "Epoch: 004, Train Loss: 1.5861, Acc: 0.4531\n",
      "Epoch: 004, Train Loss: 1.6669, Acc: 0.3750\n",
      "Epoch: 004, Train Loss: 2.1385, Acc: 0.4844\n",
      "Epoch: 004, Train Loss: 1.8710, Acc: 0.3906\n",
      "Epoch: 004, Train Loss: 1.6170, Acc: 0.4219\n",
      "Epoch: 004, Train Loss: 2.1123, Acc: 0.3906\n",
      "Epoch: 004, Train Loss: 1.5233, Acc: 0.3906\n",
      "Epoch: 004, Train Loss: 1.9683, Acc: 0.3906\n"
     ]
    },
    {
     "data": {
      "application/vnd.jupyter.widget-view+json": {
       "model_id": "b60cea9db7d3490c9c0ad9ac52ac8044",
       "version_major": 2,
       "version_minor": 0
      },
      "text/plain": [
       "  0%|          | 0/1000 [00:00<?, ?it/s]"
      ]
     },
     "metadata": {},
     "output_type": "display_data"
    },
    {
     "name": "stdout",
     "output_type": "stream",
     "text": [
      "Epoch: 004, Test loss: 2.4958, 0.3770\n"
     ]
    },
    {
     "data": {
      "application/vnd.jupyter.widget-view+json": {
       "model_id": "e51e8371966d4d1e93bc94473967772c",
       "version_major": 2,
       "version_minor": 0
      },
      "text/plain": [
       "  0%|          | 0/4000 [00:00<?, ?it/s]"
      ]
     },
     "metadata": {},
     "output_type": "display_data"
    },
    {
     "name": "stdout",
     "output_type": "stream",
     "text": [
      "Epoch: 005, Train Loss: 1.3516, Acc: 0.5692\n",
      "Epoch: 005, Train Loss: 1.3586, Acc: 0.5938\n",
      "Epoch: 005, Train Loss: 1.7260, Acc: 0.5000\n",
      "Epoch: 005, Train Loss: 1.4716, Acc: 0.5781\n",
      "Epoch: 005, Train Loss: 1.7921, Acc: 0.5469\n",
      "Epoch: 005, Train Loss: 1.4684, Acc: 0.4688\n",
      "Epoch: 005, Train Loss: 1.4942, Acc: 0.5000\n",
      "Epoch: 005, Train Loss: 1.2916, Acc: 0.5781\n",
      "Epoch: 005, Train Loss: 1.5391, Acc: 0.4844\n",
      "Epoch: 005, Train Loss: 1.0995, Acc: 0.6250\n",
      "Epoch: 005, Train Loss: 1.6229, Acc: 0.5156\n",
      "Epoch: 005, Train Loss: 1.7162, Acc: 0.4531\n",
      "Epoch: 005, Train Loss: 1.3813, Acc: 0.5000\n",
      "Epoch: 005, Train Loss: 1.5002, Acc: 0.5156\n",
      "Epoch: 005, Train Loss: 1.5064, Acc: 0.4844\n",
      "Epoch: 005, Train Loss: 1.4264, Acc: 0.5156\n",
      "Epoch: 005, Train Loss: 1.5175, Acc: 0.4531\n",
      "Epoch: 005, Train Loss: 1.1966, Acc: 0.6094\n",
      "Epoch: 005, Train Loss: 1.3545, Acc: 0.5469\n",
      "Epoch: 005, Train Loss: 1.3422, Acc: 0.5938\n",
      "Epoch: 005, Train Loss: 1.3821, Acc: 0.5469\n",
      "Epoch: 005, Train Loss: 1.4186, Acc: 0.4844\n",
      "Epoch: 005, Train Loss: 1.6524, Acc: 0.5938\n",
      "Epoch: 005, Train Loss: 1.7493, Acc: 0.5938\n",
      "Epoch: 005, Train Loss: 1.2812, Acc: 0.6562\n",
      "Epoch: 005, Train Loss: 2.0465, Acc: 0.5000\n",
      "Epoch: 005, Train Loss: 1.3704, Acc: 0.5469\n",
      "Epoch: 005, Train Loss: 1.4198, Acc: 0.5312\n",
      "Epoch: 005, Train Loss: 1.4204, Acc: 0.4531\n",
      "Epoch: 005, Train Loss: 1.0915, Acc: 0.6562\n",
      "Epoch: 005, Train Loss: 1.3534, Acc: 0.5781\n",
      "Epoch: 005, Train Loss: 1.3110, Acc: 0.4844\n",
      "Epoch: 005, Train Loss: 1.2179, Acc: 0.6094\n",
      "Epoch: 005, Train Loss: 1.3040, Acc: 0.5469\n",
      "Epoch: 005, Train Loss: 1.4689, Acc: 0.5781\n",
      "Epoch: 005, Train Loss: 1.4880, Acc: 0.5156\n",
      "Epoch: 005, Train Loss: 1.1683, Acc: 0.5781\n",
      "Epoch: 005, Train Loss: 1.5205, Acc: 0.5625\n",
      "Epoch: 005, Train Loss: 1.3330, Acc: 0.5312\n",
      "Epoch: 005, Train Loss: 1.2866, Acc: 0.6406\n",
      "Epoch: 005, Train Loss: 1.2655, Acc: 0.6406\n",
      "Epoch: 005, Train Loss: 1.1007, Acc: 0.6250\n",
      "Epoch: 005, Train Loss: 1.7719, Acc: 0.5312\n",
      "Epoch: 005, Train Loss: 1.2564, Acc: 0.5781\n",
      "Epoch: 005, Train Loss: 1.3683, Acc: 0.5469\n",
      "Epoch: 005, Train Loss: 1.7331, Acc: 0.4219\n",
      "Epoch: 005, Train Loss: 1.2627, Acc: 0.5938\n",
      "Epoch: 005, Train Loss: 1.7199, Acc: 0.5312\n",
      "Epoch: 005, Train Loss: 1.2929, Acc: 0.4688\n",
      "Epoch: 005, Train Loss: 1.1540, Acc: 0.5000\n",
      "Epoch: 005, Train Loss: 1.0659, Acc: 0.5938\n",
      "Epoch: 005, Train Loss: 1.3067, Acc: 0.6875\n",
      "Epoch: 005, Train Loss: 1.1313, Acc: 0.5938\n",
      "Epoch: 005, Train Loss: 1.1877, Acc: 0.5156\n",
      "Epoch: 005, Train Loss: 1.5015, Acc: 0.5000\n",
      "Epoch: 005, Train Loss: 1.5570, Acc: 0.5156\n",
      "Epoch: 005, Train Loss: 0.8675, Acc: 0.6406\n",
      "Epoch: 005, Train Loss: 1.5458, Acc: 0.4375\n",
      "Epoch: 005, Train Loss: 1.3496, Acc: 0.5938\n",
      "Epoch: 005, Train Loss: 1.2317, Acc: 0.6094\n",
      "Epoch: 005, Train Loss: 1.0737, Acc: 0.6719\n",
      "Epoch: 005, Train Loss: 1.2275, Acc: 0.6406\n"
     ]
    },
    {
     "data": {
      "application/vnd.jupyter.widget-view+json": {
       "model_id": "8af1f4bff50e4d62ad3384a31c302cf2",
       "version_major": 2,
       "version_minor": 0
      },
      "text/plain": [
       "  0%|          | 0/1000 [00:00<?, ?it/s]"
      ]
     },
     "metadata": {},
     "output_type": "display_data"
    },
    {
     "name": "stdout",
     "output_type": "stream",
     "text": [
      "Epoch: 005, Test loss: 2.2282, 0.4380\n"
     ]
    },
    {
     "data": {
      "application/vnd.jupyter.widget-view+json": {
       "model_id": "55a8cb99f1ee4c85aa04a5d898f94e57",
       "version_major": 2,
       "version_minor": 0
      },
      "text/plain": [
       "  0%|          | 0/4000 [00:00<?, ?it/s]"
      ]
     },
     "metadata": {},
     "output_type": "display_data"
    },
    {
     "name": "stdout",
     "output_type": "stream",
     "text": [
      "Epoch: 006, Train Loss: 1.1962, Acc: 0.5538\n",
      "Epoch: 006, Train Loss: 1.2386, Acc: 0.6719\n",
      "Epoch: 006, Train Loss: 1.1467, Acc: 0.5625\n",
      "Epoch: 006, Train Loss: 1.2610, Acc: 0.6250\n",
      "Epoch: 006, Train Loss: 1.0037, Acc: 0.6875\n",
      "Epoch: 006, Train Loss: 1.0687, Acc: 0.6250\n",
      "Epoch: 006, Train Loss: 0.7921, Acc: 0.7344\n",
      "Epoch: 006, Train Loss: 1.5404, Acc: 0.5312\n",
      "Epoch: 006, Train Loss: 1.2097, Acc: 0.5938\n",
      "Epoch: 006, Train Loss: 0.9265, Acc: 0.6406\n",
      "Epoch: 006, Train Loss: 1.2583, Acc: 0.6406\n",
      "Epoch: 006, Train Loss: 1.1140, Acc: 0.6406\n",
      "Epoch: 006, Train Loss: 0.9670, Acc: 0.6719\n",
      "Epoch: 006, Train Loss: 1.1677, Acc: 0.7344\n",
      "Epoch: 006, Train Loss: 1.0132, Acc: 0.6875\n",
      "Epoch: 006, Train Loss: 1.2158, Acc: 0.6094\n",
      "Epoch: 006, Train Loss: 0.9189, Acc: 0.7031\n",
      "Epoch: 006, Train Loss: 1.1367, Acc: 0.6094\n",
      "Epoch: 006, Train Loss: 1.2011, Acc: 0.6094\n",
      "Epoch: 006, Train Loss: 0.9498, Acc: 0.6250\n",
      "Epoch: 006, Train Loss: 1.2844, Acc: 0.5938\n",
      "Epoch: 006, Train Loss: 1.0070, Acc: 0.7031\n",
      "Epoch: 006, Train Loss: 1.2037, Acc: 0.5781\n",
      "Epoch: 006, Train Loss: 1.3319, Acc: 0.5781\n",
      "Epoch: 006, Train Loss: 1.3612, Acc: 0.5625\n",
      "Epoch: 006, Train Loss: 1.5627, Acc: 0.5469\n",
      "Epoch: 006, Train Loss: 0.9367, Acc: 0.6875\n",
      "Epoch: 006, Train Loss: 1.2194, Acc: 0.6094\n",
      "Epoch: 006, Train Loss: 1.1032, Acc: 0.7188\n",
      "Epoch: 006, Train Loss: 1.2785, Acc: 0.6094\n",
      "Epoch: 006, Train Loss: 0.9147, Acc: 0.6562\n",
      "Epoch: 006, Train Loss: 1.0556, Acc: 0.5938\n",
      "Epoch: 006, Train Loss: 1.0431, Acc: 0.5938\n",
      "Epoch: 006, Train Loss: 1.0294, Acc: 0.6406\n",
      "Epoch: 006, Train Loss: 0.8719, Acc: 0.6094\n",
      "Epoch: 006, Train Loss: 1.4416, Acc: 0.5312\n",
      "Epoch: 006, Train Loss: 1.2075, Acc: 0.6250\n",
      "Epoch: 006, Train Loss: 1.2780, Acc: 0.4531\n",
      "Epoch: 006, Train Loss: 0.8713, Acc: 0.7344\n",
      "Epoch: 006, Train Loss: 1.1215, Acc: 0.5781\n",
      "Epoch: 006, Train Loss: 1.0863, Acc: 0.6406\n",
      "Epoch: 006, Train Loss: 1.2997, Acc: 0.5469\n",
      "Epoch: 006, Train Loss: 1.0334, Acc: 0.6250\n",
      "Epoch: 006, Train Loss: 0.9676, Acc: 0.6875\n",
      "Epoch: 006, Train Loss: 1.0299, Acc: 0.6719\n",
      "Epoch: 006, Train Loss: 1.0177, Acc: 0.6406\n",
      "Epoch: 006, Train Loss: 1.1792, Acc: 0.6250\n",
      "Epoch: 006, Train Loss: 1.0451, Acc: 0.6562\n",
      "Epoch: 006, Train Loss: 1.2637, Acc: 0.6094\n",
      "Epoch: 006, Train Loss: 0.9827, Acc: 0.6406\n",
      "Epoch: 006, Train Loss: 1.0912, Acc: 0.5938\n",
      "Epoch: 006, Train Loss: 1.3370, Acc: 0.5938\n",
      "Epoch: 006, Train Loss: 1.2216, Acc: 0.6406\n",
      "Epoch: 006, Train Loss: 1.2011, Acc: 0.6406\n",
      "Epoch: 006, Train Loss: 1.1789, Acc: 0.5625\n",
      "Epoch: 006, Train Loss: 1.2101, Acc: 0.6094\n",
      "Epoch: 006, Train Loss: 0.9140, Acc: 0.6406\n",
      "Epoch: 006, Train Loss: 1.0571, Acc: 0.6406\n",
      "Epoch: 006, Train Loss: 0.9358, Acc: 0.6875\n",
      "Epoch: 006, Train Loss: 1.1962, Acc: 0.6094\n",
      "Epoch: 006, Train Loss: 0.9365, Acc: 0.6250\n",
      "Epoch: 006, Train Loss: 1.2052, Acc: 0.5312\n"
     ]
    },
    {
     "data": {
      "application/vnd.jupyter.widget-view+json": {
       "model_id": "27d32697ab3c4f939a5131ba3cd489dd",
       "version_major": 2,
       "version_minor": 0
      },
      "text/plain": [
       "  0%|          | 0/1000 [00:00<?, ?it/s]"
      ]
     },
     "metadata": {},
     "output_type": "display_data"
    },
    {
     "name": "stdout",
     "output_type": "stream",
     "text": [
      "Epoch: 006, Test loss: 2.1697, 0.4450\n"
     ]
    },
    {
     "data": {
      "application/vnd.jupyter.widget-view+json": {
       "model_id": "58e13965899e421aaf9aa2e5d67f4f84",
       "version_major": 2,
       "version_minor": 0
      },
      "text/plain": [
       "  0%|          | 0/4000 [00:00<?, ?it/s]"
      ]
     },
     "metadata": {},
     "output_type": "display_data"
    },
    {
     "name": "stdout",
     "output_type": "stream",
     "text": [
      "Epoch: 007, Train Loss: 0.9182, Acc: 0.6923\n",
      "Epoch: 007, Train Loss: 1.0424, Acc: 0.6719\n",
      "Epoch: 007, Train Loss: 0.9615, Acc: 0.5938\n",
      "Epoch: 007, Train Loss: 0.8091, Acc: 0.7500\n",
      "Epoch: 007, Train Loss: 0.9419, Acc: 0.7344\n",
      "Epoch: 007, Train Loss: 1.0066, Acc: 0.6250\n",
      "Epoch: 007, Train Loss: 0.7555, Acc: 0.7031\n",
      "Epoch: 007, Train Loss: 1.4183, Acc: 0.6406\n",
      "Epoch: 007, Train Loss: 1.0061, Acc: 0.6875\n",
      "Epoch: 007, Train Loss: 1.1474, Acc: 0.6250\n",
      "Epoch: 007, Train Loss: 1.1113, Acc: 0.6406\n",
      "Epoch: 007, Train Loss: 0.8551, Acc: 0.6406\n",
      "Epoch: 007, Train Loss: 1.1196, Acc: 0.7031\n",
      "Epoch: 007, Train Loss: 1.1515, Acc: 0.5938\n",
      "Epoch: 007, Train Loss: 1.0601, Acc: 0.5781\n",
      "Epoch: 007, Train Loss: 1.0805, Acc: 0.5781\n",
      "Epoch: 007, Train Loss: 0.8504, Acc: 0.6875\n",
      "Epoch: 007, Train Loss: 1.0864, Acc: 0.6250\n",
      "Epoch: 007, Train Loss: 0.7652, Acc: 0.7656\n",
      "Epoch: 007, Train Loss: 1.3291, Acc: 0.6562\n",
      "Epoch: 007, Train Loss: 0.9638, Acc: 0.6719\n",
      "Epoch: 007, Train Loss: 0.8631, Acc: 0.6875\n",
      "Epoch: 007, Train Loss: 0.6943, Acc: 0.8438\n",
      "Epoch: 007, Train Loss: 0.8202, Acc: 0.7031\n",
      "Epoch: 007, Train Loss: 1.0285, Acc: 0.6875\n",
      "Epoch: 007, Train Loss: 1.0134, Acc: 0.6250\n",
      "Epoch: 007, Train Loss: 0.7781, Acc: 0.6719\n",
      "Epoch: 007, Train Loss: 0.8409, Acc: 0.6406\n",
      "Epoch: 007, Train Loss: 0.8942, Acc: 0.6562\n",
      "Epoch: 007, Train Loss: 0.9299, Acc: 0.7344\n",
      "Epoch: 007, Train Loss: 0.6947, Acc: 0.7812\n",
      "Epoch: 007, Train Loss: 0.9233, Acc: 0.6719\n",
      "Epoch: 007, Train Loss: 0.8815, Acc: 0.6406\n",
      "Epoch: 007, Train Loss: 1.0830, Acc: 0.6250\n",
      "Epoch: 007, Train Loss: 1.0188, Acc: 0.5781\n",
      "Epoch: 007, Train Loss: 0.5975, Acc: 0.7656\n",
      "Epoch: 007, Train Loss: 0.8475, Acc: 0.7031\n",
      "Epoch: 007, Train Loss: 1.0814, Acc: 0.5469\n",
      "Epoch: 007, Train Loss: 0.7834, Acc: 0.7656\n",
      "Epoch: 007, Train Loss: 0.8370, Acc: 0.7344\n",
      "Epoch: 007, Train Loss: 0.9774, Acc: 0.5938\n",
      "Epoch: 007, Train Loss: 0.7184, Acc: 0.7500\n",
      "Epoch: 007, Train Loss: 0.8076, Acc: 0.6562\n",
      "Epoch: 007, Train Loss: 0.9713, Acc: 0.6094\n",
      "Epoch: 007, Train Loss: 1.3290, Acc: 0.6562\n",
      "Epoch: 007, Train Loss: 0.9120, Acc: 0.6719\n",
      "Epoch: 007, Train Loss: 0.8637, Acc: 0.6875\n",
      "Epoch: 007, Train Loss: 0.9203, Acc: 0.6406\n",
      "Epoch: 007, Train Loss: 1.2853, Acc: 0.5781\n",
      "Epoch: 007, Train Loss: 1.1336, Acc: 0.5938\n",
      "Epoch: 007, Train Loss: 0.8814, Acc: 0.6875\n",
      "Epoch: 007, Train Loss: 1.2927, Acc: 0.5781\n",
      "Epoch: 007, Train Loss: 0.8016, Acc: 0.7344\n",
      "Epoch: 007, Train Loss: 1.0579, Acc: 0.6562\n",
      "Epoch: 007, Train Loss: 1.0828, Acc: 0.6562\n",
      "Epoch: 007, Train Loss: 0.8407, Acc: 0.6875\n",
      "Epoch: 007, Train Loss: 0.9829, Acc: 0.7031\n",
      "Epoch: 007, Train Loss: 0.7993, Acc: 0.6719\n",
      "Epoch: 007, Train Loss: 0.8430, Acc: 0.7656\n",
      "Epoch: 007, Train Loss: 0.9124, Acc: 0.6094\n",
      "Epoch: 007, Train Loss: 0.8419, Acc: 0.7188\n",
      "Epoch: 007, Train Loss: 0.8945, Acc: 0.6875\n"
     ]
    },
    {
     "data": {
      "application/vnd.jupyter.widget-view+json": {
       "model_id": "8bc866b5eb2148a1b4d5ad56dd5231bc",
       "version_major": 2,
       "version_minor": 0
      },
      "text/plain": [
       "  0%|          | 0/1000 [00:00<?, ?it/s]"
      ]
     },
     "metadata": {},
     "output_type": "display_data"
    },
    {
     "name": "stdout",
     "output_type": "stream",
     "text": [
      "Epoch: 007, Test loss: 1.9950, 0.4830\n"
     ]
    },
    {
     "data": {
      "application/vnd.jupyter.widget-view+json": {
       "model_id": "4332b120eae94fbaa35bbc9fc794526e",
       "version_major": 2,
       "version_minor": 0
      },
      "text/plain": [
       "  0%|          | 0/4000 [00:00<?, ?it/s]"
      ]
     },
     "metadata": {},
     "output_type": "display_data"
    },
    {
     "name": "stdout",
     "output_type": "stream",
     "text": [
      "Epoch: 008, Train Loss: 0.8070, Acc: 0.6769\n",
      "Epoch: 008, Train Loss: 0.8025, Acc: 0.6875\n",
      "Epoch: 008, Train Loss: 0.5735, Acc: 0.8281\n",
      "Epoch: 008, Train Loss: 0.9712, Acc: 0.5938\n",
      "Epoch: 008, Train Loss: 0.8184, Acc: 0.6250\n",
      "Epoch: 008, Train Loss: 0.7858, Acc: 0.7500\n",
      "Epoch: 008, Train Loss: 1.1381, Acc: 0.5625\n",
      "Epoch: 008, Train Loss: 0.7133, Acc: 0.7344\n",
      "Epoch: 008, Train Loss: 0.6353, Acc: 0.8125\n",
      "Epoch: 008, Train Loss: 0.9087, Acc: 0.6562\n",
      "Epoch: 008, Train Loss: 0.7385, Acc: 0.7188\n",
      "Epoch: 008, Train Loss: 0.9847, Acc: 0.5312\n",
      "Epoch: 008, Train Loss: 0.8546, Acc: 0.6875\n",
      "Epoch: 008, Train Loss: 0.7513, Acc: 0.6875\n",
      "Epoch: 008, Train Loss: 0.9134, Acc: 0.7344\n",
      "Epoch: 008, Train Loss: 0.8665, Acc: 0.7500\n",
      "Epoch: 008, Train Loss: 0.9795, Acc: 0.6406\n",
      "Epoch: 008, Train Loss: 0.8131, Acc: 0.7031\n",
      "Epoch: 008, Train Loss: 0.9392, Acc: 0.6875\n",
      "Epoch: 008, Train Loss: 0.7734, Acc: 0.7969\n",
      "Epoch: 008, Train Loss: 0.8367, Acc: 0.6250\n",
      "Epoch: 008, Train Loss: 0.6338, Acc: 0.7812\n",
      "Epoch: 008, Train Loss: 0.6053, Acc: 0.8281\n",
      "Epoch: 008, Train Loss: 0.8186, Acc: 0.7500\n",
      "Epoch: 008, Train Loss: 0.8703, Acc: 0.6406\n",
      "Epoch: 008, Train Loss: 0.9111, Acc: 0.6406\n",
      "Epoch: 008, Train Loss: 0.7430, Acc: 0.7500\n",
      "Epoch: 008, Train Loss: 0.8012, Acc: 0.6719\n",
      "Epoch: 008, Train Loss: 0.6731, Acc: 0.7500\n",
      "Epoch: 008, Train Loss: 0.8537, Acc: 0.7500\n",
      "Epoch: 008, Train Loss: 0.8339, Acc: 0.6875\n",
      "Epoch: 008, Train Loss: 0.8248, Acc: 0.7500\n",
      "Epoch: 008, Train Loss: 0.8937, Acc: 0.7969\n",
      "Epoch: 008, Train Loss: 0.8733, Acc: 0.6406\n",
      "Epoch: 008, Train Loss: 0.6547, Acc: 0.7656\n",
      "Epoch: 008, Train Loss: 0.7988, Acc: 0.7656\n",
      "Epoch: 008, Train Loss: 0.9157, Acc: 0.6875\n",
      "Epoch: 008, Train Loss: 0.8253, Acc: 0.6562\n",
      "Epoch: 008, Train Loss: 0.7054, Acc: 0.7344\n",
      "Epoch: 008, Train Loss: 0.6339, Acc: 0.7969\n",
      "Epoch: 008, Train Loss: 0.7627, Acc: 0.7344\n",
      "Epoch: 008, Train Loss: 0.8123, Acc: 0.7031\n",
      "Epoch: 008, Train Loss: 0.6907, Acc: 0.7656\n",
      "Epoch: 008, Train Loss: 0.8025, Acc: 0.7344\n",
      "Epoch: 008, Train Loss: 0.7567, Acc: 0.7344\n",
      "Epoch: 008, Train Loss: 0.8953, Acc: 0.6406\n",
      "Epoch: 008, Train Loss: 0.8550, Acc: 0.7188\n",
      "Epoch: 008, Train Loss: 0.6846, Acc: 0.7344\n",
      "Epoch: 008, Train Loss: 0.8176, Acc: 0.7188\n",
      "Epoch: 008, Train Loss: 0.8353, Acc: 0.7031\n",
      "Epoch: 008, Train Loss: 0.8040, Acc: 0.7188\n",
      "Epoch: 008, Train Loss: 0.8532, Acc: 0.7188\n",
      "Epoch: 008, Train Loss: 0.9197, Acc: 0.6250\n",
      "Epoch: 008, Train Loss: 0.9468, Acc: 0.6250\n",
      "Epoch: 008, Train Loss: 0.7903, Acc: 0.6875\n",
      "Epoch: 008, Train Loss: 0.7932, Acc: 0.6875\n",
      "Epoch: 008, Train Loss: 0.8598, Acc: 0.6094\n",
      "Epoch: 008, Train Loss: 0.6091, Acc: 0.7812\n",
      "Epoch: 008, Train Loss: 0.9715, Acc: 0.7188\n",
      "Epoch: 008, Train Loss: 1.0238, Acc: 0.7031\n",
      "Epoch: 008, Train Loss: 0.6921, Acc: 0.7812\n",
      "Epoch: 008, Train Loss: 0.7480, Acc: 0.7344\n"
     ]
    },
    {
     "data": {
      "application/vnd.jupyter.widget-view+json": {
       "model_id": "6988eec0931f4f50ad7c5db9d90b6d77",
       "version_major": 2,
       "version_minor": 0
      },
      "text/plain": [
       "  0%|          | 0/1000 [00:00<?, ?it/s]"
      ]
     },
     "metadata": {},
     "output_type": "display_data"
    },
    {
     "name": "stdout",
     "output_type": "stream",
     "text": [
      "Epoch: 008, Test loss: 1.9166, 0.4980\n"
     ]
    },
    {
     "data": {
      "application/vnd.jupyter.widget-view+json": {
       "model_id": "2a82354218034ed7a6ad704c0233e865",
       "version_major": 2,
       "version_minor": 0
      },
      "text/plain": [
       "  0%|          | 0/4000 [00:00<?, ?it/s]"
      ]
     },
     "metadata": {},
     "output_type": "display_data"
    },
    {
     "name": "stdout",
     "output_type": "stream",
     "text": [
      "Epoch: 009, Train Loss: 0.8997, Acc: 0.7231\n",
      "Epoch: 009, Train Loss: 0.7068, Acc: 0.7969\n",
      "Epoch: 009, Train Loss: 0.9607, Acc: 0.6250\n",
      "Epoch: 009, Train Loss: 0.7634, Acc: 0.7656\n",
      "Epoch: 009, Train Loss: 0.8473, Acc: 0.7500\n",
      "Epoch: 009, Train Loss: 0.7002, Acc: 0.7656\n",
      "Epoch: 009, Train Loss: 0.6101, Acc: 0.7656\n",
      "Epoch: 009, Train Loss: 0.5193, Acc: 0.8281\n",
      "Epoch: 009, Train Loss: 0.6515, Acc: 0.6875\n",
      "Epoch: 009, Train Loss: 0.7180, Acc: 0.7656\n",
      "Epoch: 009, Train Loss: 0.7461, Acc: 0.7500\n",
      "Epoch: 009, Train Loss: 0.7562, Acc: 0.7188\n",
      "Epoch: 009, Train Loss: 0.7159, Acc: 0.7188\n",
      "Epoch: 009, Train Loss: 0.6004, Acc: 0.7969\n",
      "Epoch: 009, Train Loss: 0.6440, Acc: 0.7500\n",
      "Epoch: 009, Train Loss: 0.7820, Acc: 0.7188\n",
      "Epoch: 009, Train Loss: 0.5471, Acc: 0.7812\n",
      "Epoch: 009, Train Loss: 0.5014, Acc: 0.8594\n",
      "Epoch: 009, Train Loss: 0.8790, Acc: 0.7188\n",
      "Epoch: 009, Train Loss: 1.0419, Acc: 0.7188\n",
      "Epoch: 009, Train Loss: 0.7505, Acc: 0.7031\n",
      "Epoch: 009, Train Loss: 0.5638, Acc: 0.8281\n",
      "Epoch: 009, Train Loss: 0.9325, Acc: 0.6875\n",
      "Epoch: 009, Train Loss: 0.7056, Acc: 0.7344\n",
      "Epoch: 009, Train Loss: 0.7961, Acc: 0.7031\n",
      "Epoch: 009, Train Loss: 0.6275, Acc: 0.8281\n",
      "Epoch: 009, Train Loss: 0.6088, Acc: 0.7969\n",
      "Epoch: 009, Train Loss: 0.8463, Acc: 0.5938\n",
      "Epoch: 009, Train Loss: 0.6599, Acc: 0.7031\n",
      "Epoch: 009, Train Loss: 0.6260, Acc: 0.7812\n",
      "Epoch: 009, Train Loss: 0.6468, Acc: 0.7656\n",
      "Epoch: 009, Train Loss: 0.6428, Acc: 0.7188\n",
      "Epoch: 009, Train Loss: 0.8855, Acc: 0.6406\n",
      "Epoch: 009, Train Loss: 0.5501, Acc: 0.7656\n",
      "Epoch: 009, Train Loss: 0.7681, Acc: 0.7656\n",
      "Epoch: 009, Train Loss: 0.6146, Acc: 0.8125\n",
      "Epoch: 009, Train Loss: 0.7964, Acc: 0.7188\n",
      "Epoch: 009, Train Loss: 0.7829, Acc: 0.6562\n",
      "Epoch: 009, Train Loss: 0.7850, Acc: 0.7344\n",
      "Epoch: 009, Train Loss: 0.8707, Acc: 0.5938\n",
      "Epoch: 009, Train Loss: 0.7593, Acc: 0.7031\n",
      "Epoch: 009, Train Loss: 0.6387, Acc: 0.7656\n",
      "Epoch: 009, Train Loss: 0.5912, Acc: 0.7812\n",
      "Epoch: 009, Train Loss: 0.8084, Acc: 0.6562\n",
      "Epoch: 009, Train Loss: 0.6871, Acc: 0.7344\n",
      "Epoch: 009, Train Loss: 0.4685, Acc: 0.8438\n",
      "Epoch: 009, Train Loss: 0.5536, Acc: 0.8438\n",
      "Epoch: 009, Train Loss: 0.7180, Acc: 0.8594\n",
      "Epoch: 009, Train Loss: 0.6121, Acc: 0.7500\n",
      "Epoch: 009, Train Loss: 0.5919, Acc: 0.8125\n",
      "Epoch: 009, Train Loss: 0.7080, Acc: 0.7656\n",
      "Epoch: 009, Train Loss: 0.6902, Acc: 0.7188\n",
      "Epoch: 009, Train Loss: 0.6889, Acc: 0.8281\n",
      "Epoch: 009, Train Loss: 0.6475, Acc: 0.7969\n",
      "Epoch: 009, Train Loss: 0.7738, Acc: 0.7656\n",
      "Epoch: 009, Train Loss: 0.6701, Acc: 0.7500\n",
      "Epoch: 009, Train Loss: 0.6659, Acc: 0.7031\n",
      "Epoch: 009, Train Loss: 0.6431, Acc: 0.8594\n",
      "Epoch: 009, Train Loss: 0.8190, Acc: 0.6875\n",
      "Epoch: 009, Train Loss: 0.7486, Acc: 0.7188\n",
      "Epoch: 009, Train Loss: 0.6782, Acc: 0.7031\n",
      "Epoch: 009, Train Loss: 0.9415, Acc: 0.7188\n"
     ]
    },
    {
     "data": {
      "application/vnd.jupyter.widget-view+json": {
       "model_id": "26e37847d8014d2b803a3f512fa52b1c",
       "version_major": 2,
       "version_minor": 0
      },
      "text/plain": [
       "  0%|          | 0/1000 [00:00<?, ?it/s]"
      ]
     },
     "metadata": {},
     "output_type": "display_data"
    },
    {
     "name": "stdout",
     "output_type": "stream",
     "text": [
      "Epoch: 009, Test loss: 1.9417, 0.5010\n"
     ]
    },
    {
     "data": {
      "application/vnd.jupyter.widget-view+json": {
       "model_id": "8ebba5c465fe4a6e91753c5983eed4da",
       "version_major": 2,
       "version_minor": 0
      },
      "text/plain": [
       "  0%|          | 0/4000 [00:00<?, ?it/s]"
      ]
     },
     "metadata": {},
     "output_type": "display_data"
    },
    {
     "name": "stdout",
     "output_type": "stream",
     "text": [
      "Epoch: 010, Train Loss: 0.7547, Acc: 0.7077\n",
      "Epoch: 010, Train Loss: 0.7356, Acc: 0.8125\n",
      "Epoch: 010, Train Loss: 0.4981, Acc: 0.7344\n",
      "Epoch: 010, Train Loss: 0.6218, Acc: 0.7812\n",
      "Epoch: 010, Train Loss: 0.5952, Acc: 0.8438\n",
      "Epoch: 010, Train Loss: 0.8267, Acc: 0.7188\n",
      "Epoch: 010, Train Loss: 0.6377, Acc: 0.7656\n",
      "Epoch: 010, Train Loss: 0.7362, Acc: 0.7656\n",
      "Epoch: 010, Train Loss: 0.5554, Acc: 0.7969\n",
      "Epoch: 010, Train Loss: 0.5937, Acc: 0.7969\n",
      "Epoch: 010, Train Loss: 0.5927, Acc: 0.8438\n",
      "Epoch: 010, Train Loss: 0.8052, Acc: 0.7344\n",
      "Epoch: 010, Train Loss: 0.6435, Acc: 0.7812\n",
      "Epoch: 010, Train Loss: 0.5526, Acc: 0.7344\n",
      "Epoch: 010, Train Loss: 0.5997, Acc: 0.7656\n",
      "Epoch: 010, Train Loss: 0.7394, Acc: 0.7031\n",
      "Epoch: 010, Train Loss: 0.8773, Acc: 0.6719\n",
      "Epoch: 010, Train Loss: 0.5959, Acc: 0.7812\n",
      "Epoch: 010, Train Loss: 0.5392, Acc: 0.8594\n",
      "Epoch: 010, Train Loss: 0.5742, Acc: 0.8594\n",
      "Epoch: 010, Train Loss: 0.6543, Acc: 0.7812\n",
      "Epoch: 010, Train Loss: 0.5854, Acc: 0.8125\n",
      "Epoch: 010, Train Loss: 0.7051, Acc: 0.7656\n",
      "Epoch: 010, Train Loss: 0.6380, Acc: 0.7031\n",
      "Epoch: 010, Train Loss: 0.5932, Acc: 0.7812\n",
      "Epoch: 010, Train Loss: 0.6111, Acc: 0.7812\n",
      "Epoch: 010, Train Loss: 0.6141, Acc: 0.7969\n",
      "Epoch: 010, Train Loss: 0.6141, Acc: 0.7812\n",
      "Epoch: 010, Train Loss: 0.5365, Acc: 0.8125\n",
      "Epoch: 010, Train Loss: 0.8544, Acc: 0.7656\n",
      "Epoch: 010, Train Loss: 0.7088, Acc: 0.7188\n",
      "Epoch: 010, Train Loss: 0.5214, Acc: 0.8125\n",
      "Epoch: 010, Train Loss: 0.4964, Acc: 0.8438\n",
      "Epoch: 010, Train Loss: 0.6742, Acc: 0.7500\n",
      "Epoch: 010, Train Loss: 0.8179, Acc: 0.7500\n",
      "Epoch: 010, Train Loss: 0.5540, Acc: 0.8125\n",
      "Epoch: 010, Train Loss: 0.6863, Acc: 0.7812\n",
      "Epoch: 010, Train Loss: 0.5469, Acc: 0.7969\n",
      "Epoch: 010, Train Loss: 0.6513, Acc: 0.7969\n",
      "Epoch: 010, Train Loss: 0.5018, Acc: 0.8125\n",
      "Epoch: 010, Train Loss: 0.6290, Acc: 0.7500\n",
      "Epoch: 010, Train Loss: 0.5500, Acc: 0.8281\n",
      "Epoch: 010, Train Loss: 0.6250, Acc: 0.8125\n",
      "Epoch: 010, Train Loss: 0.5569, Acc: 0.7969\n",
      "Epoch: 010, Train Loss: 0.6589, Acc: 0.7031\n",
      "Epoch: 010, Train Loss: 0.5753, Acc: 0.8594\n",
      "Epoch: 010, Train Loss: 0.6992, Acc: 0.7656\n",
      "Epoch: 010, Train Loss: 0.7771, Acc: 0.6250\n",
      "Epoch: 010, Train Loss: 0.4973, Acc: 0.8125\n",
      "Epoch: 010, Train Loss: 0.6793, Acc: 0.7188\n",
      "Epoch: 010, Train Loss: 0.5991, Acc: 0.7500\n",
      "Epoch: 010, Train Loss: 0.6623, Acc: 0.7969\n",
      "Epoch: 010, Train Loss: 0.5813, Acc: 0.8281\n",
      "Epoch: 010, Train Loss: 0.6355, Acc: 0.7344\n",
      "Epoch: 010, Train Loss: 0.6722, Acc: 0.6562\n",
      "Epoch: 010, Train Loss: 0.6513, Acc: 0.7188\n",
      "Epoch: 010, Train Loss: 0.5163, Acc: 0.8125\n",
      "Epoch: 010, Train Loss: 0.5066, Acc: 0.8281\n",
      "Epoch: 010, Train Loss: 0.6660, Acc: 0.8281\n",
      "Epoch: 010, Train Loss: 0.7047, Acc: 0.7188\n",
      "Epoch: 010, Train Loss: 0.6289, Acc: 0.7656\n",
      "Epoch: 010, Train Loss: 0.5263, Acc: 0.8594\n"
     ]
    },
    {
     "data": {
      "application/vnd.jupyter.widget-view+json": {
       "model_id": "c2e07baacc5548cfaaf1c188cae0c84c",
       "version_major": 2,
       "version_minor": 0
      },
      "text/plain": [
       "  0%|          | 0/1000 [00:00<?, ?it/s]"
      ]
     },
     "metadata": {},
     "output_type": "display_data"
    },
    {
     "name": "stdout",
     "output_type": "stream",
     "text": [
      "Epoch: 010, Test loss: 1.8677, 0.5170\n"
     ]
    },
    {
     "data": {
      "application/vnd.jupyter.widget-view+json": {
       "model_id": "fb3a3097463a47128bfc2bb1e8f0693f",
       "version_major": 2,
       "version_minor": 0
      },
      "text/plain": [
       "  0%|          | 0/4000 [00:00<?, ?it/s]"
      ]
     },
     "metadata": {},
     "output_type": "display_data"
    },
    {
     "name": "stdout",
     "output_type": "stream",
     "text": [
      "Epoch: 011, Train Loss: 0.6873, Acc: 0.7692\n",
      "Epoch: 011, Train Loss: 0.4801, Acc: 0.8906\n",
      "Epoch: 011, Train Loss: 0.4725, Acc: 0.7969\n",
      "Epoch: 011, Train Loss: 0.7060, Acc: 0.7969\n",
      "Epoch: 011, Train Loss: 0.5691, Acc: 0.7812\n",
      "Epoch: 011, Train Loss: 0.5316, Acc: 0.7969\n",
      "Epoch: 011, Train Loss: 0.4822, Acc: 0.7812\n",
      "Epoch: 011, Train Loss: 0.6211, Acc: 0.7656\n",
      "Epoch: 011, Train Loss: 0.5980, Acc: 0.7188\n",
      "Epoch: 011, Train Loss: 0.5710, Acc: 0.7812\n",
      "Epoch: 011, Train Loss: 0.5124, Acc: 0.8594\n",
      "Epoch: 011, Train Loss: 0.4699, Acc: 0.8594\n",
      "Epoch: 011, Train Loss: 0.5815, Acc: 0.8281\n",
      "Epoch: 011, Train Loss: 0.6441, Acc: 0.7812\n",
      "Epoch: 011, Train Loss: 0.6226, Acc: 0.7656\n",
      "Epoch: 011, Train Loss: 0.6569, Acc: 0.6406\n",
      "Epoch: 011, Train Loss: 0.6466, Acc: 0.7656\n",
      "Epoch: 011, Train Loss: 0.4484, Acc: 0.8906\n",
      "Epoch: 011, Train Loss: 0.7425, Acc: 0.7188\n",
      "Epoch: 011, Train Loss: 0.5671, Acc: 0.7812\n",
      "Epoch: 011, Train Loss: 0.4699, Acc: 0.8438\n",
      "Epoch: 011, Train Loss: 0.5837, Acc: 0.8438\n",
      "Epoch: 011, Train Loss: 0.5574, Acc: 0.8125\n",
      "Epoch: 011, Train Loss: 0.6312, Acc: 0.7500\n",
      "Epoch: 011, Train Loss: 0.5861, Acc: 0.8438\n",
      "Epoch: 011, Train Loss: 0.6150, Acc: 0.7812\n",
      "Epoch: 011, Train Loss: 0.4684, Acc: 0.8438\n",
      "Epoch: 011, Train Loss: 0.5563, Acc: 0.7812\n",
      "Epoch: 011, Train Loss: 0.5830, Acc: 0.7812\n",
      "Epoch: 011, Train Loss: 0.5908, Acc: 0.8125\n",
      "Epoch: 011, Train Loss: 0.4782, Acc: 0.7969\n",
      "Epoch: 011, Train Loss: 0.4284, Acc: 0.8750\n",
      "Epoch: 011, Train Loss: 0.4488, Acc: 0.8594\n",
      "Epoch: 011, Train Loss: 0.5368, Acc: 0.8281\n",
      "Epoch: 011, Train Loss: 0.5126, Acc: 0.7656\n",
      "Epoch: 011, Train Loss: 0.4255, Acc: 0.8438\n",
      "Epoch: 011, Train Loss: 0.5736, Acc: 0.7500\n",
      "Epoch: 011, Train Loss: 0.5788, Acc: 0.7500\n",
      "Epoch: 011, Train Loss: 0.4456, Acc: 0.8750\n",
      "Epoch: 011, Train Loss: 0.5679, Acc: 0.7656\n",
      "Epoch: 011, Train Loss: 0.4209, Acc: 0.8906\n",
      "Epoch: 011, Train Loss: 0.5466, Acc: 0.7656\n",
      "Epoch: 011, Train Loss: 0.5362, Acc: 0.8438\n",
      "Epoch: 011, Train Loss: 0.6819, Acc: 0.7812\n",
      "Epoch: 011, Train Loss: 0.4367, Acc: 0.9062\n",
      "Epoch: 011, Train Loss: 0.4837, Acc: 0.8438\n",
      "Epoch: 011, Train Loss: 0.6052, Acc: 0.7969\n",
      "Epoch: 011, Train Loss: 0.5814, Acc: 0.7812\n",
      "Epoch: 011, Train Loss: 0.5539, Acc: 0.8438\n",
      "Epoch: 011, Train Loss: 0.5077, Acc: 0.8125\n",
      "Epoch: 011, Train Loss: 0.4695, Acc: 0.8750\n",
      "Epoch: 011, Train Loss: 0.5732, Acc: 0.7500\n",
      "Epoch: 011, Train Loss: 0.7533, Acc: 0.7656\n",
      "Epoch: 011, Train Loss: 0.5675, Acc: 0.8125\n",
      "Epoch: 011, Train Loss: 0.6244, Acc: 0.7969\n",
      "Epoch: 011, Train Loss: 0.4931, Acc: 0.8438\n",
      "Epoch: 011, Train Loss: 0.5495, Acc: 0.8125\n",
      "Epoch: 011, Train Loss: 0.5855, Acc: 0.7812\n",
      "Epoch: 011, Train Loss: 0.4534, Acc: 0.8594\n",
      "Epoch: 011, Train Loss: 0.7453, Acc: 0.7188\n",
      "Epoch: 011, Train Loss: 0.5400, Acc: 0.8594\n",
      "Epoch: 011, Train Loss: 0.5141, Acc: 0.8750\n"
     ]
    },
    {
     "data": {
      "application/vnd.jupyter.widget-view+json": {
       "model_id": "92b27e305b394b26bd73ba1cecf7f530",
       "version_major": 2,
       "version_minor": 0
      },
      "text/plain": [
       "  0%|          | 0/1000 [00:00<?, ?it/s]"
      ]
     },
     "metadata": {},
     "output_type": "display_data"
    },
    {
     "name": "stdout",
     "output_type": "stream",
     "text": [
      "Epoch: 011, Test loss: 1.8497, 0.5170\n"
     ]
    },
    {
     "data": {
      "application/vnd.jupyter.widget-view+json": {
       "model_id": "fe79cdc8694b42b9ae383786a2f77e39",
       "version_major": 2,
       "version_minor": 0
      },
      "text/plain": [
       "  0%|          | 0/4000 [00:00<?, ?it/s]"
      ]
     },
     "metadata": {},
     "output_type": "display_data"
    },
    {
     "name": "stdout",
     "output_type": "stream",
     "text": [
      "Epoch: 012, Train Loss: 0.5673, Acc: 0.8462\n",
      "Epoch: 012, Train Loss: 0.5348, Acc: 0.7812\n",
      "Epoch: 012, Train Loss: 0.3569, Acc: 0.9375\n",
      "Epoch: 012, Train Loss: 0.6211, Acc: 0.7969\n",
      "Epoch: 012, Train Loss: 0.5346, Acc: 0.7969\n",
      "Epoch: 012, Train Loss: 0.4081, Acc: 0.8750\n",
      "Epoch: 012, Train Loss: 0.4727, Acc: 0.8594\n",
      "Epoch: 012, Train Loss: 0.4983, Acc: 0.7969\n",
      "Epoch: 012, Train Loss: 0.5823, Acc: 0.7969\n",
      "Epoch: 012, Train Loss: 0.4572, Acc: 0.8906\n",
      "Epoch: 012, Train Loss: 0.4530, Acc: 0.8906\n",
      "Epoch: 012, Train Loss: 0.5733, Acc: 0.7812\n",
      "Epoch: 012, Train Loss: 0.3897, Acc: 0.9062\n",
      "Epoch: 012, Train Loss: 0.5007, Acc: 0.8438\n",
      "Epoch: 012, Train Loss: 0.4597, Acc: 0.8594\n",
      "Epoch: 012, Train Loss: 0.4230, Acc: 0.9062\n",
      "Epoch: 012, Train Loss: 0.4529, Acc: 0.8125\n",
      "Epoch: 012, Train Loss: 0.5162, Acc: 0.8281\n",
      "Epoch: 012, Train Loss: 0.6927, Acc: 0.7500\n",
      "Epoch: 012, Train Loss: 0.5314, Acc: 0.7969\n",
      "Epoch: 012, Train Loss: 0.4398, Acc: 0.8438\n",
      "Epoch: 012, Train Loss: 0.5881, Acc: 0.8125\n",
      "Epoch: 012, Train Loss: 0.4786, Acc: 0.8438\n",
      "Epoch: 012, Train Loss: 0.4968, Acc: 0.8750\n",
      "Epoch: 012, Train Loss: 0.4372, Acc: 0.8438\n",
      "Epoch: 012, Train Loss: 0.6441, Acc: 0.7656\n",
      "Epoch: 012, Train Loss: 0.3945, Acc: 0.9375\n",
      "Epoch: 012, Train Loss: 0.5351, Acc: 0.8125\n",
      "Epoch: 012, Train Loss: 0.4245, Acc: 0.8906\n",
      "Epoch: 012, Train Loss: 0.5894, Acc: 0.7656\n",
      "Epoch: 012, Train Loss: 0.6258, Acc: 0.7969\n",
      "Epoch: 012, Train Loss: 0.4339, Acc: 0.8906\n",
      "Epoch: 012, Train Loss: 0.5119, Acc: 0.7969\n",
      "Epoch: 012, Train Loss: 0.4699, Acc: 0.8125\n",
      "Epoch: 012, Train Loss: 0.5015, Acc: 0.8281\n",
      "Epoch: 012, Train Loss: 0.3591, Acc: 0.8750\n",
      "Epoch: 012, Train Loss: 0.4947, Acc: 0.8438\n",
      "Epoch: 012, Train Loss: 0.4731, Acc: 0.8906\n",
      "Epoch: 012, Train Loss: 0.5944, Acc: 0.7344\n",
      "Epoch: 012, Train Loss: 0.4165, Acc: 0.8906\n",
      "Epoch: 012, Train Loss: 0.5190, Acc: 0.8594\n",
      "Epoch: 012, Train Loss: 0.4608, Acc: 0.8594\n",
      "Epoch: 012, Train Loss: 0.4847, Acc: 0.8438\n",
      "Epoch: 012, Train Loss: 0.4731, Acc: 0.8594\n",
      "Epoch: 012, Train Loss: 0.5417, Acc: 0.7344\n",
      "Epoch: 012, Train Loss: 0.4909, Acc: 0.8281\n",
      "Epoch: 012, Train Loss: 0.5046, Acc: 0.8281\n",
      "Epoch: 012, Train Loss: 0.5359, Acc: 0.8281\n",
      "Epoch: 012, Train Loss: 0.4802, Acc: 0.8438\n",
      "Epoch: 012, Train Loss: 0.5732, Acc: 0.7656\n",
      "Epoch: 012, Train Loss: 0.4269, Acc: 0.8750\n",
      "Epoch: 012, Train Loss: 0.5093, Acc: 0.8594\n",
      "Epoch: 012, Train Loss: 0.4881, Acc: 0.8750\n",
      "Epoch: 012, Train Loss: 0.5678, Acc: 0.8125\n",
      "Epoch: 012, Train Loss: 0.4024, Acc: 0.8438\n",
      "Epoch: 012, Train Loss: 0.4781, Acc: 0.8281\n",
      "Epoch: 012, Train Loss: 0.4688, Acc: 0.8281\n",
      "Epoch: 012, Train Loss: 0.3844, Acc: 0.9062\n",
      "Epoch: 012, Train Loss: 0.4984, Acc: 0.8281\n",
      "Epoch: 012, Train Loss: 0.6859, Acc: 0.6875\n",
      "Epoch: 012, Train Loss: 0.6191, Acc: 0.7500\n",
      "Epoch: 012, Train Loss: 0.5269, Acc: 0.8438\n"
     ]
    },
    {
     "data": {
      "application/vnd.jupyter.widget-view+json": {
       "model_id": "77714985e59e4215905c8086e5172188",
       "version_major": 2,
       "version_minor": 0
      },
      "text/plain": [
       "  0%|          | 0/1000 [00:00<?, ?it/s]"
      ]
     },
     "metadata": {},
     "output_type": "display_data"
    },
    {
     "name": "stdout",
     "output_type": "stream",
     "text": [
      "Epoch: 012, Test loss: 1.7716, 0.5290\n"
     ]
    },
    {
     "data": {
      "application/vnd.jupyter.widget-view+json": {
       "model_id": "0959b60c4c654c63bc92031e51e44c88",
       "version_major": 2,
       "version_minor": 0
      },
      "text/plain": [
       "  0%|          | 0/4000 [00:00<?, ?it/s]"
      ]
     },
     "metadata": {},
     "output_type": "display_data"
    },
    {
     "name": "stdout",
     "output_type": "stream",
     "text": [
      "Epoch: 013, Train Loss: 0.5126, Acc: 0.8308\n",
      "Epoch: 013, Train Loss: 0.6381, Acc: 0.7812\n",
      "Epoch: 013, Train Loss: 0.5052, Acc: 0.8125\n",
      "Epoch: 013, Train Loss: 0.3453, Acc: 0.9219\n",
      "Epoch: 013, Train Loss: 0.3979, Acc: 0.8594\n",
      "Epoch: 013, Train Loss: 0.4461, Acc: 0.8906\n",
      "Epoch: 013, Train Loss: 0.4254, Acc: 0.8906\n",
      "Epoch: 013, Train Loss: 0.4517, Acc: 0.9062\n",
      "Epoch: 013, Train Loss: 0.4558, Acc: 0.8594\n",
      "Epoch: 013, Train Loss: 0.4126, Acc: 0.8281\n",
      "Epoch: 013, Train Loss: 0.4638, Acc: 0.8594\n",
      "Epoch: 013, Train Loss: 0.4627, Acc: 0.8125\n",
      "Epoch: 013, Train Loss: 0.3961, Acc: 0.9062\n",
      "Epoch: 013, Train Loss: 0.4329, Acc: 0.8906\n",
      "Epoch: 013, Train Loss: 0.3821, Acc: 0.9219\n",
      "Epoch: 013, Train Loss: 0.5796, Acc: 0.8594\n",
      "Epoch: 013, Train Loss: 0.4356, Acc: 0.9062\n",
      "Epoch: 013, Train Loss: 0.3945, Acc: 0.8906\n",
      "Epoch: 013, Train Loss: 0.5099, Acc: 0.7812\n",
      "Epoch: 013, Train Loss: 0.4065, Acc: 0.8906\n",
      "Epoch: 013, Train Loss: 0.4824, Acc: 0.8438\n",
      "Epoch: 013, Train Loss: 0.3959, Acc: 0.8906\n",
      "Epoch: 013, Train Loss: 0.4606, Acc: 0.8438\n",
      "Epoch: 013, Train Loss: 0.3837, Acc: 0.8906\n",
      "Epoch: 013, Train Loss: 0.4393, Acc: 0.8594\n",
      "Epoch: 013, Train Loss: 0.4290, Acc: 0.8594\n",
      "Epoch: 013, Train Loss: 0.4126, Acc: 0.9062\n",
      "Epoch: 013, Train Loss: 0.4579, Acc: 0.8438\n",
      "Epoch: 013, Train Loss: 0.4537, Acc: 0.8281\n",
      "Epoch: 013, Train Loss: 0.4349, Acc: 0.8281\n",
      "Epoch: 013, Train Loss: 0.4391, Acc: 0.8594\n",
      "Epoch: 013, Train Loss: 0.3595, Acc: 0.8906\n",
      "Epoch: 013, Train Loss: 0.4419, Acc: 0.8594\n",
      "Epoch: 013, Train Loss: 0.5387, Acc: 0.8438\n",
      "Epoch: 013, Train Loss: 0.4597, Acc: 0.8594\n",
      "Epoch: 013, Train Loss: 0.4869, Acc: 0.8281\n",
      "Epoch: 013, Train Loss: 0.4528, Acc: 0.8281\n",
      "Epoch: 013, Train Loss: 0.4176, Acc: 0.8594\n",
      "Epoch: 013, Train Loss: 0.4719, Acc: 0.8438\n",
      "Epoch: 013, Train Loss: 0.4777, Acc: 0.8438\n",
      "Epoch: 013, Train Loss: 0.4143, Acc: 0.8750\n",
      "Epoch: 013, Train Loss: 0.4099, Acc: 0.8750\n",
      "Epoch: 013, Train Loss: 0.5028, Acc: 0.8438\n",
      "Epoch: 013, Train Loss: 0.5031, Acc: 0.8906\n",
      "Epoch: 013, Train Loss: 0.3564, Acc: 0.9062\n",
      "Epoch: 013, Train Loss: 0.5140, Acc: 0.8281\n",
      "Epoch: 013, Train Loss: 0.4519, Acc: 0.8594\n",
      "Epoch: 013, Train Loss: 0.5584, Acc: 0.7656\n",
      "Epoch: 013, Train Loss: 0.5170, Acc: 0.8750\n",
      "Epoch: 013, Train Loss: 0.5806, Acc: 0.8125\n",
      "Epoch: 013, Train Loss: 0.5031, Acc: 0.9375\n",
      "Epoch: 013, Train Loss: 0.3178, Acc: 0.9219\n",
      "Epoch: 013, Train Loss: 0.4325, Acc: 0.8750\n",
      "Epoch: 013, Train Loss: 0.4662, Acc: 0.8594\n",
      "Epoch: 013, Train Loss: 0.4520, Acc: 0.8438\n",
      "Epoch: 013, Train Loss: 0.5278, Acc: 0.8281\n",
      "Epoch: 013, Train Loss: 0.4473, Acc: 0.8594\n",
      "Epoch: 013, Train Loss: 0.4336, Acc: 0.9062\n",
      "Epoch: 013, Train Loss: 0.4199, Acc: 0.8906\n",
      "Epoch: 013, Train Loss: 0.3815, Acc: 0.8438\n",
      "Epoch: 013, Train Loss: 0.5246, Acc: 0.8281\n",
      "Epoch: 013, Train Loss: 0.4754, Acc: 0.8594\n"
     ]
    },
    {
     "data": {
      "application/vnd.jupyter.widget-view+json": {
       "model_id": "5278892c6a794fe9acee45f8a008f73b",
       "version_major": 2,
       "version_minor": 0
      },
      "text/plain": [
       "  0%|          | 0/1000 [00:00<?, ?it/s]"
      ]
     },
     "metadata": {},
     "output_type": "display_data"
    },
    {
     "name": "stdout",
     "output_type": "stream",
     "text": [
      "Epoch: 013, Test loss: 1.7850, 0.5340\n"
     ]
    },
    {
     "data": {
      "application/vnd.jupyter.widget-view+json": {
       "model_id": "ca9311970529484390246b1cf66763bd",
       "version_major": 2,
       "version_minor": 0
      },
      "text/plain": [
       "  0%|          | 0/4000 [00:00<?, ?it/s]"
      ]
     },
     "metadata": {},
     "output_type": "display_data"
    },
    {
     "name": "stdout",
     "output_type": "stream",
     "text": [
      "Epoch: 014, Train Loss: 0.5209, Acc: 0.8615\n",
      "Epoch: 014, Train Loss: 0.4299, Acc: 0.9062\n",
      "Epoch: 014, Train Loss: 0.3603, Acc: 0.9219\n",
      "Epoch: 014, Train Loss: 0.3303, Acc: 0.9375\n",
      "Epoch: 014, Train Loss: 0.4561, Acc: 0.8438\n",
      "Epoch: 014, Train Loss: 0.4702, Acc: 0.8438\n",
      "Epoch: 014, Train Loss: 0.2910, Acc: 0.9688\n",
      "Epoch: 014, Train Loss: 0.4630, Acc: 0.8125\n",
      "Epoch: 014, Train Loss: 0.4730, Acc: 0.8438\n",
      "Epoch: 014, Train Loss: 0.3814, Acc: 0.9219\n",
      "Epoch: 014, Train Loss: 0.4272, Acc: 0.8750\n",
      "Epoch: 014, Train Loss: 0.4463, Acc: 0.8594\n",
      "Epoch: 014, Train Loss: 0.4177, Acc: 0.8281\n",
      "Epoch: 014, Train Loss: 0.3461, Acc: 0.9219\n",
      "Epoch: 014, Train Loss: 0.4654, Acc: 0.8438\n",
      "Epoch: 014, Train Loss: 0.3403, Acc: 0.9531\n",
      "Epoch: 014, Train Loss: 0.3126, Acc: 0.9375\n",
      "Epoch: 014, Train Loss: 0.3496, Acc: 0.9062\n",
      "Epoch: 014, Train Loss: 0.4657, Acc: 0.8281\n",
      "Epoch: 014, Train Loss: 0.3804, Acc: 0.8594\n",
      "Epoch: 014, Train Loss: 0.4360, Acc: 0.8750\n",
      "Epoch: 014, Train Loss: 0.4929, Acc: 0.7969\n",
      "Epoch: 014, Train Loss: 0.4101, Acc: 0.7969\n",
      "Epoch: 014, Train Loss: 0.3842, Acc: 0.8906\n",
      "Epoch: 014, Train Loss: 0.4379, Acc: 0.8594\n",
      "Epoch: 014, Train Loss: 0.3286, Acc: 0.9219\n",
      "Epoch: 014, Train Loss: 0.3758, Acc: 0.9219\n",
      "Epoch: 014, Train Loss: 0.4369, Acc: 0.8750\n",
      "Epoch: 014, Train Loss: 0.3982, Acc: 0.8125\n",
      "Epoch: 014, Train Loss: 0.4155, Acc: 0.9219\n",
      "Epoch: 014, Train Loss: 0.4286, Acc: 0.9219\n",
      "Epoch: 014, Train Loss: 0.3821, Acc: 0.8594\n",
      "Epoch: 014, Train Loss: 0.4516, Acc: 0.8594\n",
      "Epoch: 014, Train Loss: 0.4509, Acc: 0.8438\n",
      "Epoch: 014, Train Loss: 0.3833, Acc: 0.8906\n",
      "Epoch: 014, Train Loss: 0.4027, Acc: 0.9219\n",
      "Epoch: 014, Train Loss: 0.5301, Acc: 0.7969\n",
      "Epoch: 014, Train Loss: 0.3657, Acc: 0.8906\n",
      "Epoch: 014, Train Loss: 0.3471, Acc: 0.9219\n",
      "Epoch: 014, Train Loss: 0.4272, Acc: 0.8750\n",
      "Epoch: 014, Train Loss: 0.3833, Acc: 0.8750\n",
      "Epoch: 014, Train Loss: 0.4989, Acc: 0.7812\n",
      "Epoch: 014, Train Loss: 0.4590, Acc: 0.8750\n",
      "Epoch: 014, Train Loss: 0.3828, Acc: 0.8594\n",
      "Epoch: 014, Train Loss: 0.4579, Acc: 0.8750\n",
      "Epoch: 014, Train Loss: 0.3603, Acc: 0.8906\n",
      "Epoch: 014, Train Loss: 0.3770, Acc: 0.9062\n",
      "Epoch: 014, Train Loss: 0.4319, Acc: 0.8594\n",
      "Epoch: 014, Train Loss: 0.5320, Acc: 0.8438\n",
      "Epoch: 014, Train Loss: 0.3642, Acc: 0.8906\n",
      "Epoch: 014, Train Loss: 0.4328, Acc: 0.8438\n",
      "Epoch: 014, Train Loss: 0.2954, Acc: 0.9688\n",
      "Epoch: 014, Train Loss: 0.3750, Acc: 0.9375\n",
      "Epoch: 014, Train Loss: 0.4256, Acc: 0.9219\n",
      "Epoch: 014, Train Loss: 0.4459, Acc: 0.8281\n",
      "Epoch: 014, Train Loss: 0.3714, Acc: 0.9062\n",
      "Epoch: 014, Train Loss: 0.3532, Acc: 0.8750\n",
      "Epoch: 014, Train Loss: 0.3872, Acc: 0.9062\n",
      "Epoch: 014, Train Loss: 0.3452, Acc: 0.8750\n",
      "Epoch: 014, Train Loss: 0.2928, Acc: 0.9219\n",
      "Epoch: 014, Train Loss: 0.3915, Acc: 0.8594\n",
      "Epoch: 014, Train Loss: 0.3991, Acc: 0.8906\n"
     ]
    },
    {
     "data": {
      "application/vnd.jupyter.widget-view+json": {
       "model_id": "f0dd2784e7324ed0b626f750562af75a",
       "version_major": 2,
       "version_minor": 0
      },
      "text/plain": [
       "  0%|          | 0/1000 [00:00<?, ?it/s]"
      ]
     },
     "metadata": {},
     "output_type": "display_data"
    },
    {
     "name": "stdout",
     "output_type": "stream",
     "text": [
      "Epoch: 014, Test loss: 1.7794, 0.5520\n"
     ]
    },
    {
     "data": {
      "application/vnd.jupyter.widget-view+json": {
       "model_id": "8d31d3196f7b482898fce87346415ad3",
       "version_major": 2,
       "version_minor": 0
      },
      "text/plain": [
       "  0%|          | 0/4000 [00:00<?, ?it/s]"
      ]
     },
     "metadata": {},
     "output_type": "display_data"
    },
    {
     "name": "stdout",
     "output_type": "stream",
     "text": [
      "Epoch: 015, Train Loss: 0.2886, Acc: 0.9385\n",
      "Epoch: 015, Train Loss: 0.3587, Acc: 0.8906\n",
      "Epoch: 015, Train Loss: 0.3904, Acc: 0.9062\n",
      "Epoch: 015, Train Loss: 0.3998, Acc: 0.8750\n",
      "Epoch: 015, Train Loss: 0.3567, Acc: 0.9219\n",
      "Epoch: 015, Train Loss: 0.3956, Acc: 0.8594\n",
      "Epoch: 015, Train Loss: 0.2932, Acc: 0.9375\n",
      "Epoch: 015, Train Loss: 0.3543, Acc: 0.8281\n",
      "Epoch: 015, Train Loss: 0.3837, Acc: 0.8906\n",
      "Epoch: 015, Train Loss: 0.3625, Acc: 0.8906\n",
      "Epoch: 015, Train Loss: 0.3405, Acc: 0.8750\n",
      "Epoch: 015, Train Loss: 0.3911, Acc: 0.8750\n",
      "Epoch: 015, Train Loss: 0.4163, Acc: 0.8281\n",
      "Epoch: 015, Train Loss: 0.4136, Acc: 0.9219\n",
      "Epoch: 015, Train Loss: 0.3692, Acc: 0.8438\n",
      "Epoch: 015, Train Loss: 0.3486, Acc: 0.9062\n",
      "Epoch: 015, Train Loss: 0.3749, Acc: 0.9062\n",
      "Epoch: 015, Train Loss: 0.3913, Acc: 0.9219\n",
      "Epoch: 015, Train Loss: 0.4893, Acc: 0.7969\n",
      "Epoch: 015, Train Loss: 0.3283, Acc: 0.8750\n",
      "Epoch: 015, Train Loss: 0.4098, Acc: 0.8750\n",
      "Epoch: 015, Train Loss: 0.3924, Acc: 0.9062\n",
      "Epoch: 015, Train Loss: 0.3369, Acc: 0.9062\n",
      "Epoch: 015, Train Loss: 0.3763, Acc: 0.9062\n",
      "Epoch: 015, Train Loss: 0.4432, Acc: 0.9219\n",
      "Epoch: 015, Train Loss: 0.3592, Acc: 0.8906\n",
      "Epoch: 015, Train Loss: 0.3430, Acc: 0.9062\n",
      "Epoch: 015, Train Loss: 0.4103, Acc: 0.8594\n",
      "Epoch: 015, Train Loss: 0.4427, Acc: 0.8750\n",
      "Epoch: 015, Train Loss: 0.4393, Acc: 0.8125\n",
      "Epoch: 015, Train Loss: 0.3473, Acc: 0.9219\n",
      "Epoch: 015, Train Loss: 0.3651, Acc: 0.9062\n",
      "Epoch: 015, Train Loss: 0.3797, Acc: 0.8281\n",
      "Epoch: 015, Train Loss: 0.3675, Acc: 0.9375\n",
      "Epoch: 015, Train Loss: 0.4071, Acc: 0.8438\n",
      "Epoch: 015, Train Loss: 0.3678, Acc: 0.8906\n",
      "Epoch: 015, Train Loss: 0.3594, Acc: 0.9062\n",
      "Epoch: 015, Train Loss: 0.3476, Acc: 0.8906\n",
      "Epoch: 015, Train Loss: 0.3413, Acc: 0.9219\n",
      "Epoch: 015, Train Loss: 0.5969, Acc: 0.8281\n",
      "Epoch: 015, Train Loss: 0.3832, Acc: 0.9062\n",
      "Epoch: 015, Train Loss: 0.3099, Acc: 0.9531\n",
      "Epoch: 015, Train Loss: 0.2982, Acc: 0.9688\n",
      "Epoch: 015, Train Loss: 0.3098, Acc: 0.9375\n",
      "Epoch: 015, Train Loss: 0.4303, Acc: 0.8594\n",
      "Epoch: 015, Train Loss: 0.3615, Acc: 0.9219\n",
      "Epoch: 015, Train Loss: 0.4394, Acc: 0.8750\n",
      "Epoch: 015, Train Loss: 0.3806, Acc: 0.8750\n",
      "Epoch: 015, Train Loss: 0.3167, Acc: 0.8750\n",
      "Epoch: 015, Train Loss: 0.3911, Acc: 0.8906\n",
      "Epoch: 015, Train Loss: 0.3561, Acc: 0.8750\n",
      "Epoch: 015, Train Loss: 0.3259, Acc: 0.8906\n",
      "Epoch: 015, Train Loss: 0.2834, Acc: 0.9375\n",
      "Epoch: 015, Train Loss: 0.3062, Acc: 0.9219\n",
      "Epoch: 015, Train Loss: 0.4402, Acc: 0.8438\n",
      "Epoch: 015, Train Loss: 0.4256, Acc: 0.8906\n",
      "Epoch: 015, Train Loss: 0.2822, Acc: 0.9375\n",
      "Epoch: 015, Train Loss: 0.5023, Acc: 0.8281\n",
      "Epoch: 015, Train Loss: 0.3273, Acc: 0.9062\n",
      "Epoch: 015, Train Loss: 0.4880, Acc: 0.8750\n",
      "Epoch: 015, Train Loss: 0.4198, Acc: 0.8438\n",
      "Epoch: 015, Train Loss: 0.2840, Acc: 0.9531\n"
     ]
    },
    {
     "data": {
      "application/vnd.jupyter.widget-view+json": {
       "model_id": "d3b844f3a60b45028cc5ae270a611063",
       "version_major": 2,
       "version_minor": 0
      },
      "text/plain": [
       "  0%|          | 0/1000 [00:00<?, ?it/s]"
      ]
     },
     "metadata": {},
     "output_type": "display_data"
    },
    {
     "name": "stdout",
     "output_type": "stream",
     "text": [
      "Epoch: 015, Test loss: 1.7562, 0.5480\n"
     ]
    },
    {
     "data": {
      "application/vnd.jupyter.widget-view+json": {
       "model_id": "2b6de1135dff48989f7f49fe5b7e9122",
       "version_major": 2,
       "version_minor": 0
      },
      "text/plain": [
       "  0%|          | 0/4000 [00:00<?, ?it/s]"
      ]
     },
     "metadata": {},
     "output_type": "display_data"
    },
    {
     "name": "stdout",
     "output_type": "stream",
     "text": [
      "Epoch: 016, Train Loss: 0.3537, Acc: 0.9231\n",
      "Epoch: 016, Train Loss: 0.3168, Acc: 0.9375\n",
      "Epoch: 016, Train Loss: 0.3206, Acc: 0.9219\n",
      "Epoch: 016, Train Loss: 0.3545, Acc: 0.8906\n",
      "Epoch: 016, Train Loss: 0.2691, Acc: 0.9531\n",
      "Epoch: 016, Train Loss: 0.2776, Acc: 0.9219\n",
      "Epoch: 016, Train Loss: 0.3082, Acc: 0.9219\n",
      "Epoch: 016, Train Loss: 0.3730, Acc: 0.8906\n",
      "Epoch: 016, Train Loss: 0.3471, Acc: 0.9375\n",
      "Epoch: 016, Train Loss: 0.4194, Acc: 0.8594\n",
      "Epoch: 016, Train Loss: 0.3990, Acc: 0.9219\n",
      "Epoch: 016, Train Loss: 0.3207, Acc: 0.9062\n",
      "Epoch: 016, Train Loss: 0.2745, Acc: 0.9219\n",
      "Epoch: 016, Train Loss: 0.3261, Acc: 0.9219\n",
      "Epoch: 016, Train Loss: 0.3021, Acc: 0.9375\n",
      "Epoch: 016, Train Loss: 0.3741, Acc: 0.9062\n",
      "Epoch: 016, Train Loss: 0.3564, Acc: 0.8750\n",
      "Epoch: 016, Train Loss: 0.3337, Acc: 0.9375\n",
      "Epoch: 016, Train Loss: 0.3552, Acc: 0.8906\n",
      "Epoch: 016, Train Loss: 0.4222, Acc: 0.8906\n",
      "Epoch: 016, Train Loss: 0.3193, Acc: 0.8594\n",
      "Epoch: 016, Train Loss: 0.2972, Acc: 0.9531\n",
      "Epoch: 016, Train Loss: 0.3273, Acc: 0.8750\n",
      "Epoch: 016, Train Loss: 0.4694, Acc: 0.8281\n",
      "Epoch: 016, Train Loss: 0.3145, Acc: 0.9062\n",
      "Epoch: 016, Train Loss: 0.3981, Acc: 0.8750\n",
      "Epoch: 016, Train Loss: 0.3052, Acc: 0.9219\n",
      "Epoch: 016, Train Loss: 0.3310, Acc: 0.9688\n",
      "Epoch: 016, Train Loss: 0.3446, Acc: 0.9062\n",
      "Epoch: 016, Train Loss: 0.3355, Acc: 0.8906\n",
      "Epoch: 016, Train Loss: 0.3598, Acc: 0.8594\n",
      "Epoch: 016, Train Loss: 0.2670, Acc: 0.9844\n",
      "Epoch: 016, Train Loss: 0.2601, Acc: 0.9844\n",
      "Epoch: 016, Train Loss: 0.3289, Acc: 0.9062\n",
      "Epoch: 016, Train Loss: 0.3758, Acc: 0.9375\n",
      "Epoch: 016, Train Loss: 0.2526, Acc: 0.9844\n",
      "Epoch: 016, Train Loss: 0.3108, Acc: 0.9062\n",
      "Epoch: 016, Train Loss: 0.3001, Acc: 0.9688\n",
      "Epoch: 016, Train Loss: 0.3607, Acc: 0.8906\n",
      "Epoch: 016, Train Loss: 0.3135, Acc: 0.9219\n",
      "Epoch: 016, Train Loss: 0.3385, Acc: 0.9219\n",
      "Epoch: 016, Train Loss: 0.3556, Acc: 0.8750\n",
      "Epoch: 016, Train Loss: 0.3021, Acc: 0.9219\n",
      "Epoch: 016, Train Loss: 0.3578, Acc: 0.9219\n",
      "Epoch: 016, Train Loss: 0.3669, Acc: 0.8906\n",
      "Epoch: 016, Train Loss: 0.2760, Acc: 0.9375\n",
      "Epoch: 016, Train Loss: 0.3006, Acc: 0.9688\n",
      "Epoch: 016, Train Loss: 0.3160, Acc: 0.9062\n",
      "Epoch: 016, Train Loss: 0.3313, Acc: 0.9219\n",
      "Epoch: 016, Train Loss: 0.3458, Acc: 0.9219\n",
      "Epoch: 016, Train Loss: 0.3473, Acc: 0.8906\n",
      "Epoch: 016, Train Loss: 0.4042, Acc: 0.8750\n",
      "Epoch: 016, Train Loss: 0.3306, Acc: 0.9531\n",
      "Epoch: 016, Train Loss: 0.2650, Acc: 0.9531\n",
      "Epoch: 016, Train Loss: 0.3635, Acc: 0.8906\n",
      "Epoch: 016, Train Loss: 0.3033, Acc: 0.9062\n",
      "Epoch: 016, Train Loss: 0.3612, Acc: 0.8750\n",
      "Epoch: 016, Train Loss: 0.4109, Acc: 0.8594\n",
      "Epoch: 016, Train Loss: 0.4218, Acc: 0.8906\n",
      "Epoch: 016, Train Loss: 0.2914, Acc: 0.9375\n",
      "Epoch: 016, Train Loss: 0.3698, Acc: 0.9062\n",
      "Epoch: 016, Train Loss: 0.3202, Acc: 0.9219\n"
     ]
    },
    {
     "data": {
      "application/vnd.jupyter.widget-view+json": {
       "model_id": "98f9f2caae794c389c29fec5340b83c8",
       "version_major": 2,
       "version_minor": 0
      },
      "text/plain": [
       "  0%|          | 0/1000 [00:00<?, ?it/s]"
      ]
     },
     "metadata": {},
     "output_type": "display_data"
    },
    {
     "name": "stdout",
     "output_type": "stream",
     "text": [
      "Epoch: 016, Test loss: 1.7192, 0.5510\n"
     ]
    },
    {
     "data": {
      "application/vnd.jupyter.widget-view+json": {
       "model_id": "865e17c6889d4190864ff42a7ab96438",
       "version_major": 2,
       "version_minor": 0
      },
      "text/plain": [
       "  0%|          | 0/4000 [00:00<?, ?it/s]"
      ]
     },
     "metadata": {},
     "output_type": "display_data"
    },
    {
     "name": "stdout",
     "output_type": "stream",
     "text": [
      "Epoch: 017, Train Loss: 0.3761, Acc: 0.9231\n",
      "Epoch: 017, Train Loss: 0.3281, Acc: 0.9062\n",
      "Epoch: 017, Train Loss: 0.3888, Acc: 0.8750\n",
      "Epoch: 017, Train Loss: 0.2928, Acc: 0.9219\n",
      "Epoch: 017, Train Loss: 0.3075, Acc: 0.9375\n",
      "Epoch: 017, Train Loss: 0.2476, Acc: 0.9688\n",
      "Epoch: 017, Train Loss: 0.3155, Acc: 0.9531\n",
      "Epoch: 017, Train Loss: 0.2620, Acc: 0.9375\n",
      "Epoch: 017, Train Loss: 0.2975, Acc: 0.9219\n",
      "Epoch: 017, Train Loss: 0.3002, Acc: 0.9375\n",
      "Epoch: 017, Train Loss: 0.3435, Acc: 0.9531\n",
      "Epoch: 017, Train Loss: 0.2564, Acc: 0.9219\n",
      "Epoch: 017, Train Loss: 0.3156, Acc: 0.9531\n",
      "Epoch: 017, Train Loss: 0.2979, Acc: 0.9531\n",
      "Epoch: 017, Train Loss: 0.3500, Acc: 0.9219\n",
      "Epoch: 017, Train Loss: 0.3770, Acc: 0.8594\n",
      "Epoch: 017, Train Loss: 0.3518, Acc: 0.8906\n",
      "Epoch: 017, Train Loss: 0.2815, Acc: 0.9219\n",
      "Epoch: 017, Train Loss: 0.2711, Acc: 0.9219\n",
      "Epoch: 017, Train Loss: 0.3064, Acc: 0.9531\n",
      "Epoch: 017, Train Loss: 0.3270, Acc: 0.8906\n",
      "Epoch: 017, Train Loss: 0.3165, Acc: 0.9375\n",
      "Epoch: 017, Train Loss: 0.2491, Acc: 0.9375\n",
      "Epoch: 017, Train Loss: 0.3572, Acc: 0.9219\n",
      "Epoch: 017, Train Loss: 0.2961, Acc: 0.9688\n",
      "Epoch: 017, Train Loss: 0.3453, Acc: 0.8906\n",
      "Epoch: 017, Train Loss: 0.2715, Acc: 0.9531\n",
      "Epoch: 017, Train Loss: 0.3081, Acc: 0.9219\n",
      "Epoch: 017, Train Loss: 0.2617, Acc: 0.9531\n",
      "Epoch: 017, Train Loss: 0.3491, Acc: 0.9219\n",
      "Epoch: 017, Train Loss: 0.2496, Acc: 0.9531\n",
      "Epoch: 017, Train Loss: 0.2888, Acc: 0.9531\n",
      "Epoch: 017, Train Loss: 0.2993, Acc: 0.9062\n",
      "Epoch: 017, Train Loss: 0.2753, Acc: 0.9688\n",
      "Epoch: 017, Train Loss: 0.2115, Acc: 1.0000\n",
      "Epoch: 017, Train Loss: 0.3242, Acc: 0.9219\n",
      "Epoch: 017, Train Loss: 0.3114, Acc: 0.9375\n",
      "Epoch: 017, Train Loss: 0.3974, Acc: 0.8438\n",
      "Epoch: 017, Train Loss: 0.3388, Acc: 0.9062\n",
      "Epoch: 017, Train Loss: 0.3106, Acc: 0.9062\n",
      "Epoch: 017, Train Loss: 0.3539, Acc: 0.9531\n",
      "Epoch: 017, Train Loss: 0.3076, Acc: 0.9062\n",
      "Epoch: 017, Train Loss: 0.2650, Acc: 0.9531\n",
      "Epoch: 017, Train Loss: 0.3306, Acc: 0.9531\n",
      "Epoch: 017, Train Loss: 0.3388, Acc: 0.9531\n",
      "Epoch: 017, Train Loss: 0.3894, Acc: 0.8750\n",
      "Epoch: 017, Train Loss: 0.3517, Acc: 0.8906\n",
      "Epoch: 017, Train Loss: 0.4159, Acc: 0.8594\n",
      "Epoch: 017, Train Loss: 0.3428, Acc: 0.8750\n",
      "Epoch: 017, Train Loss: 0.2533, Acc: 0.9688\n",
      "Epoch: 017, Train Loss: 0.2613, Acc: 0.9688\n",
      "Epoch: 017, Train Loss: 0.3227, Acc: 0.9219\n",
      "Epoch: 017, Train Loss: 0.3312, Acc: 0.8906\n",
      "Epoch: 017, Train Loss: 0.3082, Acc: 0.9219\n",
      "Epoch: 017, Train Loss: 0.2456, Acc: 0.9375\n",
      "Epoch: 017, Train Loss: 0.3052, Acc: 0.9531\n",
      "Epoch: 017, Train Loss: 0.3044, Acc: 0.9062\n",
      "Epoch: 017, Train Loss: 0.3035, Acc: 0.9219\n",
      "Epoch: 017, Train Loss: 0.2409, Acc: 0.9219\n",
      "Epoch: 017, Train Loss: 0.2670, Acc: 0.9219\n",
      "Epoch: 017, Train Loss: 0.3213, Acc: 0.9531\n",
      "Epoch: 017, Train Loss: 0.2491, Acc: 0.9219\n"
     ]
    },
    {
     "data": {
      "application/vnd.jupyter.widget-view+json": {
       "model_id": "f358ad14282544af8874b3184ed61944",
       "version_major": 2,
       "version_minor": 0
      },
      "text/plain": [
       "  0%|          | 0/1000 [00:00<?, ?it/s]"
      ]
     },
     "metadata": {},
     "output_type": "display_data"
    },
    {
     "name": "stdout",
     "output_type": "stream",
     "text": [
      "Epoch: 017, Test loss: 1.7660, 0.5590\n"
     ]
    },
    {
     "data": {
      "application/vnd.jupyter.widget-view+json": {
       "model_id": "aff903c59d484698bce59c270bebf86d",
       "version_major": 2,
       "version_minor": 0
      },
      "text/plain": [
       "  0%|          | 0/4000 [00:00<?, ?it/s]"
      ]
     },
     "metadata": {},
     "output_type": "display_data"
    },
    {
     "name": "stdout",
     "output_type": "stream",
     "text": [
      "Epoch: 018, Train Loss: 0.2982, Acc: 0.9385\n",
      "Epoch: 018, Train Loss: 0.2487, Acc: 0.9375\n",
      "Epoch: 018, Train Loss: 0.2683, Acc: 0.9375\n",
      "Epoch: 018, Train Loss: 0.2173, Acc: 0.9844\n",
      "Epoch: 018, Train Loss: 0.3312, Acc: 0.9062\n",
      "Epoch: 018, Train Loss: 0.2379, Acc: 0.9844\n",
      "Epoch: 018, Train Loss: 0.2931, Acc: 0.9219\n",
      "Epoch: 018, Train Loss: 0.3731, Acc: 0.9688\n",
      "Epoch: 018, Train Loss: 0.2377, Acc: 1.0000\n",
      "Epoch: 018, Train Loss: 0.3231, Acc: 0.8906\n",
      "Epoch: 018, Train Loss: 0.2390, Acc: 0.9688\n",
      "Epoch: 018, Train Loss: 0.2682, Acc: 0.9688\n",
      "Epoch: 018, Train Loss: 0.2752, Acc: 0.9688\n",
      "Epoch: 018, Train Loss: 0.3422, Acc: 0.9062\n",
      "Epoch: 018, Train Loss: 0.3085, Acc: 0.9219\n",
      "Epoch: 018, Train Loss: 0.2831, Acc: 0.9531\n",
      "Epoch: 018, Train Loss: 0.3336, Acc: 0.9062\n",
      "Epoch: 018, Train Loss: 0.3568, Acc: 0.9062\n",
      "Epoch: 018, Train Loss: 0.3077, Acc: 0.8750\n",
      "Epoch: 018, Train Loss: 0.2907, Acc: 0.9375\n",
      "Epoch: 018, Train Loss: 0.2870, Acc: 0.9375\n",
      "Epoch: 018, Train Loss: 0.2816, Acc: 0.9531\n",
      "Epoch: 018, Train Loss: 0.2787, Acc: 0.9375\n",
      "Epoch: 018, Train Loss: 0.3101, Acc: 0.9531\n",
      "Epoch: 018, Train Loss: 0.2798, Acc: 0.9062\n",
      "Epoch: 018, Train Loss: 0.3053, Acc: 0.9219\n",
      "Epoch: 018, Train Loss: 0.2142, Acc: 1.0000\n",
      "Epoch: 018, Train Loss: 0.3251, Acc: 0.9375\n",
      "Epoch: 018, Train Loss: 0.2649, Acc: 0.9688\n",
      "Epoch: 018, Train Loss: 0.2514, Acc: 0.9688\n",
      "Epoch: 018, Train Loss: 0.3188, Acc: 0.9375\n",
      "Epoch: 018, Train Loss: 0.2608, Acc: 0.9844\n",
      "Epoch: 018, Train Loss: 0.2463, Acc: 0.9531\n",
      "Epoch: 018, Train Loss: 0.3473, Acc: 0.9062\n",
      "Epoch: 018, Train Loss: 0.2775, Acc: 0.9219\n",
      "Epoch: 018, Train Loss: 0.2431, Acc: 0.9531\n",
      "Epoch: 018, Train Loss: 0.2936, Acc: 0.9062\n",
      "Epoch: 018, Train Loss: 0.1888, Acc: 0.9844\n",
      "Epoch: 018, Train Loss: 0.2682, Acc: 0.9375\n",
      "Epoch: 018, Train Loss: 0.3425, Acc: 0.9062\n",
      "Epoch: 018, Train Loss: 0.2618, Acc: 0.9375\n",
      "Epoch: 018, Train Loss: 0.2429, Acc: 0.9844\n",
      "Epoch: 018, Train Loss: 0.3463, Acc: 0.9062\n",
      "Epoch: 018, Train Loss: 0.2294, Acc: 0.9375\n",
      "Epoch: 018, Train Loss: 0.2731, Acc: 0.9375\n",
      "Epoch: 018, Train Loss: 0.2851, Acc: 0.9375\n",
      "Epoch: 018, Train Loss: 0.2323, Acc: 0.9688\n",
      "Epoch: 018, Train Loss: 0.3011, Acc: 0.9375\n",
      "Epoch: 018, Train Loss: 0.3524, Acc: 0.9375\n",
      "Epoch: 018, Train Loss: 0.2821, Acc: 0.9688\n",
      "Epoch: 018, Train Loss: 0.2479, Acc: 0.9531\n",
      "Epoch: 018, Train Loss: 0.3112, Acc: 0.9062\n",
      "Epoch: 018, Train Loss: 0.2672, Acc: 0.9531\n",
      "Epoch: 018, Train Loss: 0.3010, Acc: 0.8906\n",
      "Epoch: 018, Train Loss: 0.3327, Acc: 0.9062\n",
      "Epoch: 018, Train Loss: 0.2842, Acc: 0.9531\n",
      "Epoch: 018, Train Loss: 0.2452, Acc: 0.9062\n",
      "Epoch: 018, Train Loss: 0.2682, Acc: 0.9375\n",
      "Epoch: 018, Train Loss: 0.2592, Acc: 0.9844\n",
      "Epoch: 018, Train Loss: 0.3020, Acc: 0.9219\n",
      "Epoch: 018, Train Loss: 0.2818, Acc: 0.9531\n",
      "Epoch: 018, Train Loss: 0.3209, Acc: 0.9375\n"
     ]
    },
    {
     "data": {
      "application/vnd.jupyter.widget-view+json": {
       "model_id": "194921a2929f45908623c97521a5a260",
       "version_major": 2,
       "version_minor": 0
      },
      "text/plain": [
       "  0%|          | 0/1000 [00:00<?, ?it/s]"
      ]
     },
     "metadata": {},
     "output_type": "display_data"
    },
    {
     "name": "stdout",
     "output_type": "stream",
     "text": [
      "Epoch: 018, Test loss: 1.7047, 0.5580\n"
     ]
    },
    {
     "data": {
      "application/vnd.jupyter.widget-view+json": {
       "model_id": "7210459b2c614c31aa3bebc6573b474b",
       "version_major": 2,
       "version_minor": 0
      },
      "text/plain": [
       "  0%|          | 0/4000 [00:00<?, ?it/s]"
      ]
     },
     "metadata": {},
     "output_type": "display_data"
    },
    {
     "name": "stdout",
     "output_type": "stream",
     "text": [
      "Epoch: 019, Train Loss: 0.2386, Acc: 0.9692\n",
      "Epoch: 019, Train Loss: 0.2237, Acc: 1.0000\n",
      "Epoch: 019, Train Loss: 0.3266, Acc: 0.9375\n",
      "Epoch: 019, Train Loss: 0.2757, Acc: 0.9688\n",
      "Epoch: 019, Train Loss: 0.2964, Acc: 0.9688\n",
      "Epoch: 019, Train Loss: 0.2181, Acc: 0.9375\n",
      "Epoch: 019, Train Loss: 0.2529, Acc: 0.9688\n",
      "Epoch: 019, Train Loss: 0.2661, Acc: 0.9531\n",
      "Epoch: 019, Train Loss: 0.2635, Acc: 0.9375\n",
      "Epoch: 019, Train Loss: 0.2719, Acc: 0.9531\n",
      "Epoch: 019, Train Loss: 0.2813, Acc: 0.9531\n",
      "Epoch: 019, Train Loss: 0.2478, Acc: 0.9375\n",
      "Epoch: 019, Train Loss: 0.2850, Acc: 0.9375\n",
      "Epoch: 019, Train Loss: 0.2370, Acc: 0.9688\n",
      "Epoch: 019, Train Loss: 0.3106, Acc: 0.9531\n",
      "Epoch: 019, Train Loss: 0.2155, Acc: 0.9531\n",
      "Epoch: 019, Train Loss: 0.2260, Acc: 0.9844\n",
      "Epoch: 019, Train Loss: 0.2405, Acc: 0.9531\n",
      "Epoch: 019, Train Loss: 0.2465, Acc: 0.9531\n",
      "Epoch: 019, Train Loss: 0.2637, Acc: 0.9531\n",
      "Epoch: 019, Train Loss: 0.2880, Acc: 0.9062\n",
      "Epoch: 019, Train Loss: 0.2416, Acc: 0.9531\n",
      "Epoch: 019, Train Loss: 0.2080, Acc: 0.9688\n",
      "Epoch: 019, Train Loss: 0.3232, Acc: 0.9219\n",
      "Epoch: 019, Train Loss: 0.2557, Acc: 0.9375\n",
      "Epoch: 019, Train Loss: 0.2031, Acc: 0.9531\n",
      "Epoch: 019, Train Loss: 0.3101, Acc: 0.9219\n",
      "Epoch: 019, Train Loss: 0.2361, Acc: 0.9219\n",
      "Epoch: 019, Train Loss: 0.2490, Acc: 0.9688\n",
      "Epoch: 019, Train Loss: 0.2550, Acc: 0.9844\n",
      "Epoch: 019, Train Loss: 0.2417, Acc: 0.9844\n",
      "Epoch: 019, Train Loss: 0.3013, Acc: 0.9531\n",
      "Epoch: 019, Train Loss: 0.2542, Acc: 0.9688\n",
      "Epoch: 019, Train Loss: 0.2605, Acc: 0.9844\n",
      "Epoch: 019, Train Loss: 0.3076, Acc: 0.9219\n",
      "Epoch: 019, Train Loss: 0.2912, Acc: 0.9531\n",
      "Epoch: 019, Train Loss: 0.2782, Acc: 0.9375\n",
      "Epoch: 019, Train Loss: 0.2328, Acc: 0.9688\n",
      "Epoch: 019, Train Loss: 0.2007, Acc: 0.9844\n",
      "Epoch: 019, Train Loss: 0.2136, Acc: 0.9531\n",
      "Epoch: 019, Train Loss: 0.3147, Acc: 0.9375\n",
      "Epoch: 019, Train Loss: 0.2708, Acc: 0.9375\n",
      "Epoch: 019, Train Loss: 0.2428, Acc: 0.9844\n",
      "Epoch: 019, Train Loss: 0.2282, Acc: 0.9531\n",
      "Epoch: 019, Train Loss: 0.2313, Acc: 0.9688\n",
      "Epoch: 019, Train Loss: 0.2516, Acc: 0.9688\n",
      "Epoch: 019, Train Loss: 0.2568, Acc: 0.9531\n",
      "Epoch: 019, Train Loss: 0.2370, Acc: 0.9531\n",
      "Epoch: 019, Train Loss: 0.3254, Acc: 0.8750\n",
      "Epoch: 019, Train Loss: 0.2203, Acc: 0.9688\n",
      "Epoch: 019, Train Loss: 0.2541, Acc: 0.9531\n",
      "Epoch: 019, Train Loss: 0.3151, Acc: 0.9375\n",
      "Epoch: 019, Train Loss: 0.2893, Acc: 0.9531\n",
      "Epoch: 019, Train Loss: 0.2660, Acc: 0.9062\n",
      "Epoch: 019, Train Loss: 0.2225, Acc: 0.9531\n",
      "Epoch: 019, Train Loss: 0.2693, Acc: 0.9688\n",
      "Epoch: 019, Train Loss: 0.2852, Acc: 0.9531\n",
      "Epoch: 019, Train Loss: 0.3046, Acc: 0.9531\n",
      "Epoch: 019, Train Loss: 0.2586, Acc: 0.9531\n",
      "Epoch: 019, Train Loss: 0.2166, Acc: 0.9844\n",
      "Epoch: 019, Train Loss: 0.2346, Acc: 1.0000\n",
      "Epoch: 019, Train Loss: 0.2967, Acc: 0.9375\n"
     ]
    },
    {
     "data": {
      "application/vnd.jupyter.widget-view+json": {
       "model_id": "122fd598d64045ccac8c9fc05eb0f8b1",
       "version_major": 2,
       "version_minor": 0
      },
      "text/plain": [
       "  0%|          | 0/1000 [00:00<?, ?it/s]"
      ]
     },
     "metadata": {},
     "output_type": "display_data"
    },
    {
     "name": "stdout",
     "output_type": "stream",
     "text": [
      "Epoch: 019, Test loss: 1.6989, 0.5600\n"
     ]
    }
   ],
   "source": [
    "length = 60\n",
    "accum_iter = 64\n",
    "\n",
    "loss_all = []\n",
    "y_hats = []\n",
    "y_trues = []\n",
    "accs = []\n",
    "loss_train_test = []\n",
    "\n",
    "for epoch in range(0, 20):\n",
    "    np.random.shuffle(train_files)\n",
    "    y_trues = []\n",
    "    y_hats = []\n",
    "    loss_all = []\n",
    "    for i in tqdm(range(len(train_files))):\n",
    "        data_objects = convert_for_classification(train_files[i])\n",
    "        dl = DataLoader(data_objects, batch_size=len(data_objects))\n",
    "        for batch in dl:\n",
    "            batch = batch.to(device)\n",
    "            y_hat = model(batch)\n",
    "            y_hat = y_hat.sum(0) \n",
    "            y_true = batch.y[0]\n",
    "            loss = criterion(y_hat, y_true) \n",
    "            loss = loss / accum_iter \n",
    "            loss.backward()\n",
    "            \n",
    "            loss_all.append(loss.item())\n",
    "            y_trues.append(y_true.item())\n",
    "            y_hats.append(torch.argmax(y_hat).item())\n",
    "            \n",
    "        if i != 0 and i % accum_iter == 0:\n",
    "            acc = calculate_accuracy(y_hats, y_trues)\n",
    "            accs.append(acc)\n",
    "            \n",
    "            fmt_loss = f'Epoch: {epoch:03d}, Train Loss: {np.mean(loss_all)*accum_iter:.4f}, Acc: {acc:.4f}'\n",
    "            print(fmt_loss)\n",
    "            os.system(f'echo {epoch:03d}, {np.mean(loss_all)*accum_iter:.4f}, {np.mean(accs):.4f} >> ./logs/log_train_exact_trees_during_training.txt')\n",
    "            optimizer.step()\n",
    "            optimizer.zero_grad()\n",
    "            loss_train_test.append(np.mean(loss_all)*accum_iter)\n",
    "            y_trues = []\n",
    "            y_hats = []\n",
    "            loss_all = []\n",
    "    \n",
    "    os.system(f'echo {epoch:03d}, {np.mean(loss_train_test):.4f}, {np.mean(accs):.4f} >> ./logs/log_train_exact_trees.txt')\n",
    "    torch.save(model.state_dict(), \"./chkps/exact_model_chkp\" + str(epoch) + \"_\" + str(i) + \".pth\")\n",
    "    loss_train_test = []\n",
    "    loss_all = []\n",
    "    y_hats = []\n",
    "    y_trues = []\n",
    "    accs = []\n",
    "    \n",
    "    with torch.no_grad():\n",
    "        for i in tqdm(range(len(test_files))):\n",
    "            data_objects = convert_for_classification(test_files[i])\n",
    "            dl = DataLoader(data_objects, batch_size=len(data_objects))\n",
    "            for batch in dl:\n",
    "                batch = batch.to(device)\n",
    "                y_hat = model(batch)\n",
    "                y_hat = y_hat.sum(0) \n",
    "                y_true = batch.y[0]\n",
    "                \n",
    "                loss = criterion(y_hat, y_true) \n",
    "                loss_all.append(loss.item())\n",
    "                \n",
    "                y_trues.append(y_true.item())\n",
    "                y_hats.append(torch.argmax(y_hat).item())\n",
    "                    \n",
    "        acc = calculate_accuracy(y_hats, y_trues)\n",
    "        accs.append(acc)\n",
    "        fmt_loss = f'Epoch: {epoch:03d}, Test loss: {np.mean(loss_all):.4f}, {np.mean(accs):.4f}'\n",
    "        print(fmt_loss)\n",
    "        os.system(f'echo {epoch:03d}, {np.mean(loss_all):.4f}, {np.mean(accs):.4f} >> ./logs/log_test_exact_trees.txt')\n",
    "        loss_all = []\n",
    "        accs = []"
   ]
  },
  {
   "cell_type": "code",
   "execution_count": null,
   "id": "33b0065a-4cc1-41e1-89b4-0e6c50d47a20",
   "metadata": {},
   "outputs": [],
   "source": []
  },
  {
   "cell_type": "code",
   "execution_count": 81,
   "id": "7f6ebeba-2036-4ffe-a507-c6ef730b1424",
   "metadata": {},
   "outputs": [
    {
     "data": {
      "text/plain": [
       "<All keys matched successfully>"
      ]
     },
     "execution_count": 81,
     "metadata": {},
     "output_type": "execute_result"
    }
   ],
   "source": [
    "model.load_state_dict(torch.load(\"./chkps/exact_model_chkp19_3999.pth\"))"
   ]
  },
  {
   "cell_type": "code",
   "execution_count": null,
   "id": "feea8e10-b772-4a7e-bba7-ab5f3ba6b9a4",
   "metadata": {},
   "outputs": [],
   "source": []
  },
  {
   "cell_type": "code",
   "execution_count": null,
   "id": "c4dac619-7be8-4270-8981-d84319d804f7",
   "metadata": {},
   "outputs": [],
   "source": []
  },
  {
   "cell_type": "code",
   "execution_count": 82,
   "id": "df304c51-f4ee-4f6c-b11f-356cf41b2b8c",
   "metadata": {},
   "outputs": [
    {
     "data": {
      "application/vnd.jupyter.widget-view+json": {
       "model_id": "b87cac9ce0f3492bb83910e683f2f393",
       "version_major": 2,
       "version_minor": 0
      },
      "text/plain": [
       "  0%|          | 0/1000 [00:00<?, ?it/s]"
      ]
     },
     "metadata": {},
     "output_type": "display_data"
    }
   ],
   "source": [
    "\n",
    "length = 60\n",
    "loss_all = []\n",
    "y_hats = []\n",
    "y_trues = []\n",
    "j = 0\n",
    "with torch.no_grad():\n",
    "    for i in tqdm(range(len(test_files))):\n",
    "        data_objects = convert_for_classification(test_files[i])\n",
    "        dl = DataLoader(data_objects, batch_size=len(data_objects))\n",
    "        for batch in dl:\n",
    "            batch = batch.to(device)\n",
    "            y_hat = model(batch)\n",
    "            y_hat = y_hat.sum(0) \n",
    "            y_true = batch.y[0]\n",
    "            loss = criterion(y_hat, y_true) \n",
    "            loss = loss / accum_iter \n",
    "            \n",
    "            loss_all.append(loss.item())            \n",
    "            y_trues.append(y_true.item())\n",
    "            y_hats.append(torch.argmax(y_hat).item())"
   ]
  },
  {
   "cell_type": "code",
   "execution_count": 83,
   "id": "6252945a-01ea-41a9-af9a-adcb84471cef",
   "metadata": {},
   "outputs": [],
   "source": [
    "cf_matrix_exact = confusion_matrix(y_trues, y_hats)"
   ]
  },
  {
   "cell_type": "code",
   "execution_count": null,
   "id": "75b29f01-b70e-4bbe-a931-325d663b8a00",
   "metadata": {},
   "outputs": [],
   "source": []
  },
  {
   "cell_type": "code",
   "execution_count": null,
   "id": "9ee5238f-459d-4f39-967e-4ea9bedce68a",
   "metadata": {},
   "outputs": [],
   "source": []
  },
  {
   "cell_type": "code",
   "execution_count": null,
   "id": "f7b83fde-680d-4222-ae1b-7c1a9692907b",
   "metadata": {},
   "outputs": [],
   "source": []
  },
  {
   "cell_type": "code",
   "execution_count": 39,
   "id": "f94de67d-2917-40b1-a158-dd2595a008fe",
   "metadata": {},
   "outputs": [],
   "source": [
    "sns.set(font_scale=1.)\n",
    "sns.set_style(\"ticks\")\n",
    "\n",
    "import seaborn as sns\n",
    "import matplotlib.pyplot as plt\n",
    "from sklearn.metrics import confusion_matrix\n",
    "\n",
    "label_renaming = {\n",
    "    \"kingman_selection_none\" : \"K (S0)\",\n",
    "    \"kingman_selection_weak\" : \"K (SW)\",\n",
    "    \"kingman_selection_medium\" : \"K (SM)\",\n",
    "    \"kingman_selection_strong\" : \"K (SS)\",\n",
    "    \n",
    "    \"beta_selection_none\" : \"Beta\\n2-1.75\",\n",
    "    \"beta_selection_weak\" : \"1.75-1.5\\nBeta\",\n",
    "    \"beta_selection_medium\" : \"Beta\\n1.5-1.25\",\n",
    "    \"beta_selection_strong\" : \"1.25-1.01\\nBeta\",    \n",
    "}\n",
    "\n",
    "labels = list(label_renaming.keys())\n",
    "renamed_labels = []\n",
    "for label in labels: renamed_labels.append(label_renaming[label])"
   ]
  },
  {
   "cell_type": "code",
   "execution_count": null,
   "id": "69cf1ef5-9911-4921-b846-4664b7589779",
   "metadata": {},
   "outputs": [],
   "source": []
  },
  {
   "cell_type": "code",
   "execution_count": 40,
   "id": "85cf7e80-497e-4592-85d5-6c30c89b40b3",
   "metadata": {},
   "outputs": [
    {
     "data": {
      "image/png": "[encoded data removed]",
      "text/plain": [
       "<Figure size 800x800 with 2 Axes>"
      ]
     },
     "metadata": {},
     "output_type": "display_data"
    }
   ],
   "source": [
    "fig, ax = plt.subplots(1,1, figsize=(8, 8), sharex=True, sharey=False)\n",
    "\n",
    "percentages = cf_matrix_exact/np.repeat(np.sum(cf_matrix_exact, 1), 8).reshape(8,8)\n",
    "ax = sns.heatmap(percentages, annot=True, fmt='.1%', cmap='Blues')\n",
    "ax.set_xlabel('\\nPredicted Category')\n",
    "ax.set_ylabel('True Category ')\n",
    "ax.xaxis.set_ticklabels(labels = renamed_labels)\n",
    "ax.yaxis.set_ticklabels(labels = renamed_labels)\n",
    "ax.axhline(y=4, color='black', linewidth=2)\n",
    "ax.axvline(x=4, color='black', linewidth=2)\n",
    "plt.show()"
   ]
  },
  {
   "cell_type": "code",
   "execution_count": 41,
   "id": "05bd7513-57d3-4fc7-a68c-c263979fad6e",
   "metadata": {},
   "outputs": [],
   "source": []
  },
  {
   "cell_type": "code",
   "execution_count": null,
   "id": "6c5e3332-381d-4cf9-9008-bd5c167a731b",
   "metadata": {},
   "outputs": [],
   "source": []
  },
  {
   "cell_type": "code",
   "execution_count": 84,
   "id": "8e7ed31d-b751-40d7-a5a6-91426eba66d5",
   "metadata": {},
   "outputs": [
    {
     "name": "stdout",
     "output_type": "stream",
     "text": [
      "5000\n"
     ]
    }
   ],
   "source": [
    "directory = \"./classification-dataset-inf/\"\n",
    "files = os.listdir(directory)\n",
    "files = [directory +  file for file in files]\n",
    "print(len(files))\n",
    "\n",
    "train_files = files[:int(len(files)*0.8)]\n",
    "test_files = files[int(len(files)*0.8):]"
   ]
  },
  {
   "cell_type": "code",
   "execution_count": 85,
   "id": "a39db5a1-995b-4573-93f8-4150d84e4284",
   "metadata": {},
   "outputs": [
    {
     "data": {
      "application/vnd.jupyter.widget-view+json": {
       "model_id": "b7d1f99541724c41a90e8e3b76999afd",
       "version_major": 2,
       "version_minor": 0
      },
      "text/plain": [
       "  0%|          | 0/1000 [00:00<?, ?it/s]"
      ]
     },
     "metadata": {},
     "output_type": "display_data"
    }
   ],
   "source": [
    "length = 60\n",
    "loss_all = []\n",
    "y_hats = []\n",
    "y_trues = []\n",
    "j = 0\n",
    "with torch.no_grad():\n",
    "    for i in tqdm(range(len(test_files))):\n",
    "        data_objects = convert_for_classification(test_files[i])\n",
    "        dl = DataLoader(data_objects, batch_size=len(data_objects))\n",
    "        for batch in dl:\n",
    "            batch = batch.to(device)\n",
    "            y_hat = model(batch)\n",
    "            y_hat = y_hat.sum(0) \n",
    "            y_true = batch.y[0]\n",
    "            loss = criterion(y_hat, y_true) \n",
    "            loss = loss / accum_iter \n",
    "            \n",
    "            loss_all.append(loss.item())            \n",
    "            y_trues.append(y_true.item())\n",
    "            y_hats.append(torch.argmax(y_hat).item())"
   ]
  },
  {
   "cell_type": "code",
   "execution_count": 86,
   "id": "647384dc-d5c5-4dc0-b52b-46041b7e5c35",
   "metadata": {},
   "outputs": [],
   "source": [
    "cf_matrix_exact_on_inferred = confusion_matrix(y_trues, y_hats)"
   ]
  },
  {
   "cell_type": "code",
   "execution_count": null,
   "id": "1f804710-7d86-442b-9fac-f5378a366b36",
   "metadata": {},
   "outputs": [],
   "source": []
  },
  {
   "cell_type": "code",
   "execution_count": 62,
   "id": "5ff9e755-4525-4802-8cd5-6341e453c940",
   "metadata": {},
   "outputs": [
    {
     "data": {
      "text/plain": [
       "<All keys matched successfully>"
      ]
     },
     "execution_count": 62,
     "metadata": {},
     "output_type": "execute_result"
    }
   ],
   "source": [
    "model.load_state_dict(torch.load(\"./chkps/inferred_model_chkp19_3999.pth\"))"
   ]
  },
  {
   "cell_type": "code",
   "execution_count": 65,
   "id": "50811cf1-1063-4714-a539-b95639378213",
   "metadata": {},
   "outputs": [
    {
     "data": {
      "application/vnd.jupyter.widget-view+json": {
       "model_id": "85709f0c12c048a18df70557431b1c20",
       "version_major": 2,
       "version_minor": 0
      },
      "text/plain": [
       "  0%|          | 0/1000 [00:00<?, ?it/s]"
      ]
     },
     "metadata": {},
     "output_type": "display_data"
    }
   ],
   "source": [
    "length = 60\n",
    "loss_all = []\n",
    "y_hats = []\n",
    "y_trues = []\n",
    "j = 0\n",
    "with torch.no_grad():\n",
    "    for i in tqdm(range(len(test_files))):\n",
    "        data_objects = convert_for_classification(test_files[i])\n",
    "        dl = DataLoader(data_objects, batch_size=len(data_objects))\n",
    "        for batch in dl:\n",
    "            batch = batch.to(device)\n",
    "            y_hat = model(batch)\n",
    "            y_hat = y_hat.sum(0) \n",
    "            y_true = batch.y[0]\n",
    "            loss = criterion(y_hat, y_true) \n",
    "            loss = loss / accum_iter \n",
    "            \n",
    "            loss_all.append(loss.item())            \n",
    "            y_trues.append(y_true.item())\n",
    "            y_hats.append(torch.argmax(y_hat).item())"
   ]
  },
  {
   "cell_type": "code",
   "execution_count": 67,
   "id": "1123d8e9-6b2b-4c22-89de-95908b50e0c9",
   "metadata": {},
   "outputs": [
    {
     "data": {
      "text/plain": [
       "tensor(0.0387, device='cuda:1')"
      ]
     },
     "execution_count": 67,
     "metadata": {},
     "output_type": "execute_result"
    }
   ],
   "source": [
    "loss"
   ]
  },
  {
   "cell_type": "code",
   "execution_count": 66,
   "id": "215d304d-78b5-4f70-a941-b6155dc52b6d",
   "metadata": {},
   "outputs": [],
   "source": [
    "cf_matrix_inferred_on_inferred = confusion_matrix(y_trues, y_hats)"
   ]
  },
  {
   "cell_type": "code",
   "execution_count": null,
   "id": "205351a1-2b4e-4a65-9e16-ce9156de3f7c",
   "metadata": {},
   "outputs": [],
   "source": []
  },
  {
   "cell_type": "code",
   "execution_count": 93,
   "id": "5c5fed50-2c3a-4c71-a64f-281d2f3f8b5e",
   "metadata": {},
   "outputs": [
    {
     "data": {
      "image/png": "[encoded data removed]",
      "text/plain": [
       "<Figure size 1600x600 with 6 Axes>"
      ]
     },
     "metadata": {},
     "output_type": "display_data"
    }
   ],
   "source": [
    "sns.set(font_scale=.85)\n",
    "sns.set_style(\"ticks\")\n",
    "\n",
    "\n",
    "fig, axs = plt.subplots(1,3, figsize=(16, 6), sharex=True, sharey=True)\n",
    "\n",
    "ax = axs[0]\n",
    "percentages = cf_matrix_exact/np.repeat(np.sum(cf_matrix_exact, 1), 8).reshape(8,8)\n",
    "ax = sns.heatmap(percentages, annot=True, fmt='.1%', cmap='Blues', ax=ax)\n",
    "ax.set_xlabel('\\nPredicted Category')\n",
    "ax.set_ylabel('True Category ')\n",
    "ax.xaxis.set_ticklabels(labels = renamed_labels)\n",
    "ax.yaxis.set_ticklabels(labels = renamed_labels)\n",
    "ax.axhline(y=4, color='black', linewidth=2)\n",
    "ax.axvline(x=4, color='black', linewidth=2)\n",
    "ax.set_title(\"A) Training/evaluation: exact/exact tree sequences\")\n",
    "\n",
    "\n",
    "ax = axs[1]\n",
    "percentages = cf_matrix_exact_on_inferred/np.repeat(np.sum(cf_matrix_exact_on_inferred, 1), 8).reshape(8,8)\n",
    "ax = sns.heatmap(percentages, annot=True, fmt='.1%', cmap='Blues', ax=ax)\n",
    "ax.set_xlabel('\\nPredicted Category')\n",
    "ax.set_ylabel('True Category ')\n",
    "ax.xaxis.set_ticklabels(labels = renamed_labels)\n",
    "ax.yaxis.set_ticklabels(labels = renamed_labels)\n",
    "ax.axhline(y=4, color='black', linewidth=2)\n",
    "ax.axvline(x=4, color='black', linewidth=2)\n",
    "ax.set_title(\"B) Training/evaluation: exact/inferred tree sequences\")\n",
    "\n",
    "\n",
    "ax = axs[2]\n",
    "percentages = cf_matrix_inferred_on_inferred/np.repeat(np.sum(cf_matrix_inferred_on_inferred, 1), 8).reshape(8,8)\n",
    "ax = sns.heatmap(percentages, annot=True, fmt='.1%', cmap='Blues', ax=ax)\n",
    "ax.set_xlabel('\\nPredicted Category')\n",
    "ax.set_ylabel('True Category ')\n",
    "ax.xaxis.set_ticklabels(labels = renamed_labels)\n",
    "ax.yaxis.set_ticklabels(labels = renamed_labels)\n",
    "ax.axhline(y=4, color='black', linewidth=2)\n",
    "ax.axvline(x=4, color='black', linewidth=2)\n",
    "ax.set_title(\"C) Training/evaluation: inferred/inferred tree sequences\")\n",
    "\n",
    "plt.tight_layout()\n",
    "\n",
    "plt.savefig(\"confusion_exact_inferred.pdf\", dpi=600)"
   ]
  },
  {
   "cell_type": "code",
   "execution_count": 579,
   "id": "021a0a03-3a8a-41f8-bfa8-a9900a9a3a1c",
   "metadata": {},
   "outputs": [],
   "source": []
  },
  {
   "cell_type": "code",
   "execution_count": null,
   "id": "f90dbafc-88e7-47ea-8cc8-aa562314efab",
   "metadata": {},
   "outputs": [],
   "source": []
  },
  {
   "cell_type": "code",
   "execution_count": null,
   "id": "b6e3ef24-a81d-4d1c-83bf-04e283fcb4a8",
   "metadata": {},
   "outputs": [],
   "source": []
  },
  {
   "cell_type": "code",
   "execution_count": null,
   "id": "28943c22-9a12-431e-9ec6-cb56f0f6732b",
   "metadata": {},
   "outputs": [],
   "source": []
  }
 ],
 "metadata": {
  "kernelspec": {
   "display_name": "Python 3 (ipykernel)",
   "language": "python",
   "name": "python3"
  },
  "language_info": {
   "codemirror_mode": {
    "name": "ipython",
    "version": 3
   },
   "file_extension": ".py",
   "mimetype": "text/x-python",
   "name": "python",
   "nbconvert_exporter": "python",
   "pygments_lexer": "ipython3",
   "version": "3.8.10"
  }
 },
 "nbformat": 4,
 "nbformat_minor": 5
}
